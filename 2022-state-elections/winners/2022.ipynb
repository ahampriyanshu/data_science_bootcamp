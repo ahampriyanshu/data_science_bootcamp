{
 "cells": [
  {
   "cell_type": "markdown",
   "metadata": {},
   "source": [
    "# Exploratory Data Analysis of 2022 State Election Results\n",
    "\n",
    "* [Election Commission of India](https://results.eci.gov.in/)\n",
    "\n",
    "State | Total Constituencies | Min for Majorty\n",
    "--- | --- | ---\n",
    "Uttar Pradesh | 403 | 202\n",
    "Goa | 40 | 21\n",
    "Manipur | 60 | 31 \n",
    "Punjab | 117 | 59\n",
    "Uttar Khand | 70 | 36"
   ]
  },
  {
   "cell_type": "markdown",
   "metadata": {},
   "source": [
    "## Extracting data from the official page using bs4"
   ]
  },
  {
   "cell_type": "code",
   "execution_count": 1,
   "metadata": {},
   "outputs": [],
   "source": [
    "import pandas as pd\n",
    "from urllib.request import urlopen\n",
    "from bs4 import BeautifulSoup"
   ]
  },
  {
   "cell_type": "code",
   "execution_count": 2,
   "metadata": {},
   "outputs": [],
   "source": [
    "url = \"https://results.eci.gov.in/ResultAcGenMar2022/partywiseresult-S24.htm\"\n",
    "html = urlopen(url)\n",
    "soup = BeautifulSoup(html,'html.parser')\n",
    "body = soup.body\n",
    "div = body.find(\"div\", {\"id\": \"div1\"})\n",
    "table = div.find(\"table\",{\"border\":\"1\"})\n",
    "rows = table.find_all('tr')"
   ]
  },
  {
   "cell_type": "code",
   "execution_count": 4,
   "metadata": {},
   "outputs": [
    {
     "data": {
      "text/plain": [
       "[['Apna Dal (Soneylal)', '12', 0, '12'],\n",
       " ['Bahujan Samaj Party', '1', 0, '1'],\n",
       " ['Bharatiya Janata Party', '255', 0, '255'],\n",
       " ['Indian National Congress', '2', 0, '2'],\n",
       " ['Jansatta Dal Loktantrik', '2', 0, '2'],\n",
       " ['Nirbal Indian Shoshit Hamara Aam Dal', '6', 0, '6'],\n",
       " ['Rashtriya Lok Dal', '8', 0, '8'],\n",
       " ['Samajwadi Party', '111', 0, '111'],\n",
       " ['Suheldev Bharatiya Samaj Party', '6', 0, '6']]"
      ]
     },
     "execution_count": 4,
     "metadata": {},
     "output_type": "execute_result"
    }
   ],
   "source": [
    "raw_data = []\n",
    "for i in range (3,len(rows)-1):\n",
    "    tds = rows[i].findAll('td')\n",
    "    raw_data.append([])\n",
    "    for td in tds:\n",
    "        raw_data[len(raw_data)-1].append(td.text)\n",
    "    raw_data[len(raw_data)-1][len(raw_data[len(raw_data)-1])-2] = int(raw_data[len(raw_data)-1][len(raw_data[len(raw_data)-1])-2])\n",
    "data = sorted(raw_data, key=lambda x: x[len(raw_data[0])-2],reverse=True)\n",
    "data"
   ]
  },
  {
   "cell_type": "code",
   "execution_count": 5,
   "metadata": {},
   "outputs": [
    {
     "data": {
      "text/plain": [
       "['Party', 'Won', 'Leading', 'Total']"
      ]
     },
     "execution_count": 5,
     "metadata": {},
     "output_type": "execute_result"
    }
   ],
   "source": [
    "header = ['Party', 'Won', 'Leading', 'Total']\n",
    "header"
   ]
  },
  {
   "cell_type": "code",
   "execution_count": 6,
   "metadata": {},
   "outputs": [],
   "source": [
    "from tabulate import tabulate"
   ]
  },
  {
   "cell_type": "code",
   "execution_count": 7,
   "metadata": {},
   "outputs": [
    {
     "name": "stdout",
     "output_type": "stream",
     "text": [
      "╒══════════════════════════════════════╤═══════╤═══════════╤═════════╕\n",
      "│ Party                                │   Won │   Leading │   Total │\n",
      "╞══════════════════════════════════════╪═══════╪═══════════╪═════════╡\n",
      "│ Apna Dal (Soneylal)                  │    12 │         0 │      12 │\n",
      "├──────────────────────────────────────┼───────┼───────────┼─────────┤\n",
      "│ Bahujan Samaj Party                  │     1 │         0 │       1 │\n",
      "├──────────────────────────────────────┼───────┼───────────┼─────────┤\n",
      "│ Bharatiya Janata Party               │   255 │         0 │     255 │\n",
      "├──────────────────────────────────────┼───────┼───────────┼─────────┤\n",
      "│ Indian National Congress             │     2 │         0 │       2 │\n",
      "├──────────────────────────────────────┼───────┼───────────┼─────────┤\n",
      "│ Jansatta Dal Loktantrik              │     2 │         0 │       2 │\n",
      "├──────────────────────────────────────┼───────┼───────────┼─────────┤\n",
      "│ Nirbal Indian Shoshit Hamara Aam Dal │     6 │         0 │       6 │\n",
      "├──────────────────────────────────────┼───────┼───────────┼─────────┤\n",
      "│ Rashtriya Lok Dal                    │     8 │         0 │       8 │\n",
      "├──────────────────────────────────────┼───────┼───────────┼─────────┤\n",
      "│ Samajwadi Party                      │   111 │         0 │     111 │\n",
      "├──────────────────────────────────────┼───────┼───────────┼─────────┤\n",
      "│ Suheldev Bharatiya Samaj Party       │     6 │         0 │       6 │\n",
      "╘══════════════════════════════════════╧═══════╧═══════════╧═════════╛\n"
     ]
    }
   ],
   "source": [
    "print(tabulate(data, headers=header, tablefmt='fancy_grid'))"
   ]
  },
  {
   "cell_type": "code",
   "execution_count": 8,
   "metadata": {
    "scrolled": true
   },
   "outputs": [
    {
     "data": {
      "text/html": [
       "<div>\n",
       "<style scoped>\n",
       "    .dataframe tbody tr th:only-of-type {\n",
       "        vertical-align: middle;\n",
       "    }\n",
       "\n",
       "    .dataframe tbody tr th {\n",
       "        vertical-align: top;\n",
       "    }\n",
       "\n",
       "    .dataframe thead th {\n",
       "        text-align: right;\n",
       "    }\n",
       "</style>\n",
       "<table border=\"1\" class=\"dataframe\">\n",
       "  <thead>\n",
       "    <tr style=\"text-align: right;\">\n",
       "      <th></th>\n",
       "      <th>Party</th>\n",
       "      <th>Won</th>\n",
       "      <th>Leading</th>\n",
       "      <th>Total</th>\n",
       "    </tr>\n",
       "  </thead>\n",
       "  <tbody>\n",
       "    <tr>\n",
       "      <th>0</th>\n",
       "      <td>Apna Dal (Soneylal)</td>\n",
       "      <td>12</td>\n",
       "      <td>0</td>\n",
       "      <td>12</td>\n",
       "    </tr>\n",
       "    <tr>\n",
       "      <th>1</th>\n",
       "      <td>Bahujan Samaj Party</td>\n",
       "      <td>1</td>\n",
       "      <td>0</td>\n",
       "      <td>1</td>\n",
       "    </tr>\n",
       "    <tr>\n",
       "      <th>2</th>\n",
       "      <td>Bharatiya Janata Party</td>\n",
       "      <td>255</td>\n",
       "      <td>0</td>\n",
       "      <td>255</td>\n",
       "    </tr>\n",
       "    <tr>\n",
       "      <th>3</th>\n",
       "      <td>Indian National Congress</td>\n",
       "      <td>2</td>\n",
       "      <td>0</td>\n",
       "      <td>2</td>\n",
       "    </tr>\n",
       "    <tr>\n",
       "      <th>4</th>\n",
       "      <td>Jansatta Dal Loktantrik</td>\n",
       "      <td>2</td>\n",
       "      <td>0</td>\n",
       "      <td>2</td>\n",
       "    </tr>\n",
       "    <tr>\n",
       "      <th>5</th>\n",
       "      <td>Nirbal Indian Shoshit Hamara Aam Dal</td>\n",
       "      <td>6</td>\n",
       "      <td>0</td>\n",
       "      <td>6</td>\n",
       "    </tr>\n",
       "    <tr>\n",
       "      <th>6</th>\n",
       "      <td>Rashtriya Lok Dal</td>\n",
       "      <td>8</td>\n",
       "      <td>0</td>\n",
       "      <td>8</td>\n",
       "    </tr>\n",
       "    <tr>\n",
       "      <th>7</th>\n",
       "      <td>Samajwadi Party</td>\n",
       "      <td>111</td>\n",
       "      <td>0</td>\n",
       "      <td>111</td>\n",
       "    </tr>\n",
       "    <tr>\n",
       "      <th>8</th>\n",
       "      <td>Suheldev Bharatiya Samaj Party</td>\n",
       "      <td>6</td>\n",
       "      <td>0</td>\n",
       "      <td>6</td>\n",
       "    </tr>\n",
       "  </tbody>\n",
       "</table>\n",
       "</div>"
      ],
      "text/plain": [
       "                                  Party  Won  Leading Total\n",
       "0                   Apna Dal (Soneylal)   12        0    12\n",
       "1                   Bahujan Samaj Party    1        0     1\n",
       "2                Bharatiya Janata Party  255        0   255\n",
       "3              Indian National Congress    2        0     2\n",
       "4               Jansatta Dal Loktantrik    2        0     2\n",
       "5  Nirbal Indian Shoshit Hamara Aam Dal    6        0     6\n",
       "6                     Rashtriya Lok Dal    8        0     8\n",
       "7                       Samajwadi Party  111        0   111\n",
       "8        Suheldev Bharatiya Samaj Party    6        0     6"
      ]
     },
     "execution_count": 8,
     "metadata": {},
     "output_type": "execute_result"
    }
   ],
   "source": [
    "df = pd.DataFrame(data = data, columns = header)\n",
    "df"
   ]
  },
  {
   "cell_type": "code",
   "execution_count": 9,
   "metadata": {},
   "outputs": [],
   "source": [
    "df.to_csv('data.csv', index=False)"
   ]
  },
  {
   "cell_type": "code",
   "execution_count": 10,
   "metadata": {},
   "outputs": [],
   "source": [
    "df.to_json('data.json', orient=None)"
   ]
  },
  {
   "cell_type": "markdown",
   "metadata": {},
   "source": [
    "## Importing the csv file and visualizing the extracted data"
   ]
  },
  {
   "cell_type": "code",
   "execution_count": 11,
   "metadata": {},
   "outputs": [],
   "source": [
    "import pandas as pd\n",
    "%matplotlib inline\n",
    "import matplotlib.pyplot as plt\n",
    "import seaborn as sns"
   ]
  },
  {
   "cell_type": "code",
   "execution_count": 12,
   "metadata": {},
   "outputs": [
    {
     "data": {
      "text/html": [
       "<div>\n",
       "<style scoped>\n",
       "    .dataframe tbody tr th:only-of-type {\n",
       "        vertical-align: middle;\n",
       "    }\n",
       "\n",
       "    .dataframe tbody tr th {\n",
       "        vertical-align: top;\n",
       "    }\n",
       "\n",
       "    .dataframe thead th {\n",
       "        text-align: right;\n",
       "    }\n",
       "</style>\n",
       "<table border=\"1\" class=\"dataframe\">\n",
       "  <thead>\n",
       "    <tr style=\"text-align: right;\">\n",
       "      <th></th>\n",
       "      <th>Party</th>\n",
       "      <th>Won</th>\n",
       "      <th>Leading</th>\n",
       "      <th>Total</th>\n",
       "    </tr>\n",
       "  </thead>\n",
       "  <tbody>\n",
       "    <tr>\n",
       "      <th>0</th>\n",
       "      <td>Apna Dal (Soneylal)</td>\n",
       "      <td>12</td>\n",
       "      <td>0</td>\n",
       "      <td>12</td>\n",
       "    </tr>\n",
       "    <tr>\n",
       "      <th>1</th>\n",
       "      <td>Bahujan Samaj Party</td>\n",
       "      <td>1</td>\n",
       "      <td>0</td>\n",
       "      <td>1</td>\n",
       "    </tr>\n",
       "    <tr>\n",
       "      <th>2</th>\n",
       "      <td>Bharatiya Janata Party</td>\n",
       "      <td>255</td>\n",
       "      <td>0</td>\n",
       "      <td>255</td>\n",
       "    </tr>\n",
       "    <tr>\n",
       "      <th>3</th>\n",
       "      <td>Indian National Congress</td>\n",
       "      <td>2</td>\n",
       "      <td>0</td>\n",
       "      <td>2</td>\n",
       "    </tr>\n",
       "    <tr>\n",
       "      <th>4</th>\n",
       "      <td>Jansatta Dal Loktantrik</td>\n",
       "      <td>2</td>\n",
       "      <td>0</td>\n",
       "      <td>2</td>\n",
       "    </tr>\n",
       "    <tr>\n",
       "      <th>5</th>\n",
       "      <td>Nirbal Indian Shoshit Hamara Aam Dal</td>\n",
       "      <td>6</td>\n",
       "      <td>0</td>\n",
       "      <td>6</td>\n",
       "    </tr>\n",
       "    <tr>\n",
       "      <th>6</th>\n",
       "      <td>Rashtriya Lok Dal</td>\n",
       "      <td>8</td>\n",
       "      <td>0</td>\n",
       "      <td>8</td>\n",
       "    </tr>\n",
       "    <tr>\n",
       "      <th>7</th>\n",
       "      <td>Samajwadi Party</td>\n",
       "      <td>111</td>\n",
       "      <td>0</td>\n",
       "      <td>111</td>\n",
       "    </tr>\n",
       "    <tr>\n",
       "      <th>8</th>\n",
       "      <td>Suheldev Bharatiya Samaj Party</td>\n",
       "      <td>6</td>\n",
       "      <td>0</td>\n",
       "      <td>6</td>\n",
       "    </tr>\n",
       "  </tbody>\n",
       "</table>\n",
       "</div>"
      ],
      "text/plain": [
       "                                  Party  Won  Leading  Total\n",
       "0                   Apna Dal (Soneylal)   12        0     12\n",
       "1                   Bahujan Samaj Party    1        0      1\n",
       "2                Bharatiya Janata Party  255        0    255\n",
       "3              Indian National Congress    2        0      2\n",
       "4               Jansatta Dal Loktantrik    2        0      2\n",
       "5  Nirbal Indian Shoshit Hamara Aam Dal    6        0      6\n",
       "6                     Rashtriya Lok Dal    8        0      8\n",
       "7                       Samajwadi Party  111        0    111\n",
       "8        Suheldev Bharatiya Samaj Party    6        0      6"
      ]
     },
     "execution_count": 12,
     "metadata": {},
     "output_type": "execute_result"
    }
   ],
   "source": [
    "csv_data = pd.read_csv('data.csv')\n",
    "csv_data"
   ]
  },
  {
   "cell_type": "code",
   "execution_count": 13,
   "metadata": {},
   "outputs": [
    {
     "data": {
      "text/plain": [
       "Party\n",
       "Bharatiya Janata Party                  255\n",
       "Samajwadi Party                         111\n",
       "Apna Dal (Soneylal)                      12\n",
       "Rashtriya Lok Dal                         8\n",
       "Nirbal Indian Shoshit Hamara Aam Dal      6\n",
       "Suheldev Bharatiya Samaj Party            6\n",
       "Indian National Congress                  2\n",
       "Jansatta Dal Loktantrik                   2\n",
       "Bahujan Samaj Party                       1\n",
       "Name: Won, dtype: int64"
      ]
     },
     "execution_count": 13,
     "metadata": {},
     "output_type": "execute_result"
    }
   ],
   "source": [
    "csv_data = csv_data.groupby('Party')['Won'].sum().sort_values(ascending=False) \n",
    "csv_data"
   ]
  },
  {
   "cell_type": "code",
   "execution_count": 14,
   "metadata": {},
   "outputs": [
    {
     "data": {
      "text/html": [
       "<div>\n",
       "<style scoped>\n",
       "    .dataframe tbody tr th:only-of-type {\n",
       "        vertical-align: middle;\n",
       "    }\n",
       "\n",
       "    .dataframe tbody tr th {\n",
       "        vertical-align: top;\n",
       "    }\n",
       "\n",
       "    .dataframe thead th {\n",
       "        text-align: right;\n",
       "    }\n",
       "</style>\n",
       "<table border=\"1\" class=\"dataframe\">\n",
       "  <thead>\n",
       "    <tr style=\"text-align: right;\">\n",
       "      <th></th>\n",
       "      <th>Party</th>\n",
       "      <th>Won</th>\n",
       "    </tr>\n",
       "  </thead>\n",
       "  <tbody>\n",
       "    <tr>\n",
       "      <th>0</th>\n",
       "      <td>Bharatiya Janata Party</td>\n",
       "      <td>255</td>\n",
       "    </tr>\n",
       "    <tr>\n",
       "      <th>1</th>\n",
       "      <td>Samajwadi Party</td>\n",
       "      <td>111</td>\n",
       "    </tr>\n",
       "    <tr>\n",
       "      <th>2</th>\n",
       "      <td>Apna Dal (Soneylal)</td>\n",
       "      <td>12</td>\n",
       "    </tr>\n",
       "    <tr>\n",
       "      <th>3</th>\n",
       "      <td>Rashtriya Lok Dal</td>\n",
       "      <td>8</td>\n",
       "    </tr>\n",
       "    <tr>\n",
       "      <th>4</th>\n",
       "      <td>Nirbal Indian Shoshit Hamara Aam Dal</td>\n",
       "      <td>6</td>\n",
       "    </tr>\n",
       "    <tr>\n",
       "      <th>5</th>\n",
       "      <td>Suheldev Bharatiya Samaj Party</td>\n",
       "      <td>6</td>\n",
       "    </tr>\n",
       "    <tr>\n",
       "      <th>6</th>\n",
       "      <td>Indian National Congress</td>\n",
       "      <td>2</td>\n",
       "    </tr>\n",
       "    <tr>\n",
       "      <th>7</th>\n",
       "      <td>Jansatta Dal Loktantrik</td>\n",
       "      <td>2</td>\n",
       "    </tr>\n",
       "    <tr>\n",
       "      <th>8</th>\n",
       "      <td>Bahujan Samaj Party</td>\n",
       "      <td>1</td>\n",
       "    </tr>\n",
       "  </tbody>\n",
       "</table>\n",
       "</div>"
      ],
      "text/plain": [
       "                                  Party  Won\n",
       "0                Bharatiya Janata Party  255\n",
       "1                       Samajwadi Party  111\n",
       "2                   Apna Dal (Soneylal)   12\n",
       "3                     Rashtriya Lok Dal    8\n",
       "4  Nirbal Indian Shoshit Hamara Aam Dal    6\n",
       "5        Suheldev Bharatiya Samaj Party    6\n",
       "6              Indian National Congress    2\n",
       "7               Jansatta Dal Loktantrik    2\n",
       "8                   Bahujan Samaj Party    1"
      ]
     },
     "execution_count": 14,
     "metadata": {},
     "output_type": "execute_result"
    }
   ],
   "source": [
    "csv_data = csv_data.reset_index()\n",
    "csv_data"
   ]
  },
  {
   "cell_type": "code",
   "execution_count": 15,
   "metadata": {},
   "outputs": [
    {
     "data": {
      "text/html": [
       "<div>\n",
       "<style scoped>\n",
       "    .dataframe tbody tr th:only-of-type {\n",
       "        vertical-align: middle;\n",
       "    }\n",
       "\n",
       "    .dataframe tbody tr th {\n",
       "        vertical-align: top;\n",
       "    }\n",
       "\n",
       "    .dataframe thead th {\n",
       "        text-align: right;\n",
       "    }\n",
       "</style>\n",
       "<table border=\"1\" class=\"dataframe\">\n",
       "  <thead>\n",
       "    <tr style=\"text-align: right;\">\n",
       "      <th></th>\n",
       "      <th>Party</th>\n",
       "      <th>Seats</th>\n",
       "    </tr>\n",
       "  </thead>\n",
       "  <tbody>\n",
       "    <tr>\n",
       "      <th>0</th>\n",
       "      <td>Bharatiya Janata Party</td>\n",
       "      <td>255</td>\n",
       "    </tr>\n",
       "    <tr>\n",
       "      <th>1</th>\n",
       "      <td>Samajwadi Party</td>\n",
       "      <td>111</td>\n",
       "    </tr>\n",
       "    <tr>\n",
       "      <th>2</th>\n",
       "      <td>Apna Dal (Soneylal)</td>\n",
       "      <td>12</td>\n",
       "    </tr>\n",
       "    <tr>\n",
       "      <th>3</th>\n",
       "      <td>Rashtriya Lok Dal</td>\n",
       "      <td>8</td>\n",
       "    </tr>\n",
       "    <tr>\n",
       "      <th>4</th>\n",
       "      <td>Nirbal Indian Shoshit Hamara Aam Dal</td>\n",
       "      <td>6</td>\n",
       "    </tr>\n",
       "    <tr>\n",
       "      <th>5</th>\n",
       "      <td>Suheldev Bharatiya Samaj Party</td>\n",
       "      <td>6</td>\n",
       "    </tr>\n",
       "    <tr>\n",
       "      <th>6</th>\n",
       "      <td>Indian National Congress</td>\n",
       "      <td>2</td>\n",
       "    </tr>\n",
       "    <tr>\n",
       "      <th>7</th>\n",
       "      <td>Jansatta Dal Loktantrik</td>\n",
       "      <td>2</td>\n",
       "    </tr>\n",
       "    <tr>\n",
       "      <th>8</th>\n",
       "      <td>Bahujan Samaj Party</td>\n",
       "      <td>1</td>\n",
       "    </tr>\n",
       "  </tbody>\n",
       "</table>\n",
       "</div>"
      ],
      "text/plain": [
       "                                  Party  Seats\n",
       "0                Bharatiya Janata Party    255\n",
       "1                       Samajwadi Party    111\n",
       "2                   Apna Dal (Soneylal)     12\n",
       "3                     Rashtriya Lok Dal      8\n",
       "4  Nirbal Indian Shoshit Hamara Aam Dal      6\n",
       "5        Suheldev Bharatiya Samaj Party      6\n",
       "6              Indian National Congress      2\n",
       "7               Jansatta Dal Loktantrik      2\n",
       "8                   Bahujan Samaj Party      1"
      ]
     },
     "execution_count": 15,
     "metadata": {},
     "output_type": "execute_result"
    }
   ],
   "source": [
    "csv_data.columns = ['Party' ,'Seats']\n",
    "csv_data"
   ]
  },
  {
   "cell_type": "code",
   "execution_count": 16,
   "metadata": {},
   "outputs": [
    {
     "data": {
      "text/plain": [
       "(array([0, 1, 2, 3, 4, 5, 6, 7, 8]),\n",
       " [Text(0, 0, 'Bharatiya Janata Party'),\n",
       "  Text(1, 0, 'Samajwadi Party'),\n",
       "  Text(2, 0, 'Apna Dal (Soneylal)'),\n",
       "  Text(3, 0, 'Rashtriya Lok Dal'),\n",
       "  Text(4, 0, 'Nirbal Indian Shoshit Hamara Aam Dal'),\n",
       "  Text(5, 0, 'Suheldev Bharatiya Samaj Party'),\n",
       "  Text(6, 0, 'Indian National Congress'),\n",
       "  Text(7, 0, 'Jansatta Dal Loktantrik'),\n",
       "  Text(8, 0, 'Bahujan Samaj Party')])"
      ]
     },
     "execution_count": 16,
     "metadata": {},
     "output_type": "execute_result"
    },
    {
     "data": {
      "image/png": "[encoded data removed]",
      "text/plain": [
       "<Figure size 432x288 with 1 Axes>"
      ]
     },
     "metadata": {
      "needs_background": "light"
     },
     "output_type": "display_data"
    }
   ],
   "source": [
    "sns.barplot(data=csv_data, x='Party', y='Seats')\n",
    "plt.xticks(rotation=90)"
   ]
  },
  {
   "cell_type": "code",
   "execution_count": 17,
   "metadata": {},
   "outputs": [
    {
     "data": {
      "image/png": "[encoded data removed]",
      "text/plain": [
       "<Figure size 432x288 with 1 Axes>"
      ]
     },
     "metadata": {},
     "output_type": "display_data"
    }
   ],
   "source": [
    "plt.pie(csv_data[\"Seats\"], labels=csv_data[\"Party\"])\n",
    "plt.show()"
   ]
  },
  {
   "cell_type": "markdown",
   "metadata": {},
   "source": [
    "## Extracting all the five state"
   ]
  },
  {
   "cell_type": "code",
   "execution_count": 18,
   "metadata": {},
   "outputs": [
    {
     "name": "stdout",
     "output_type": "stream",
     "text": [
      "Extracting data for Uttar-Pradesh : S24\n",
      "Fetching  https://results.eci.gov.in/ResultAcGenMar2022/partywiseresult-S24.htm\n",
      "Data fetched successfully\n",
      "╒══════════════════════════════════════╤═══════╤═══════════╤═════════╕\n",
      "│ Party                                │   Won │   Leading │   Total │\n",
      "╞══════════════════════════════════════╪═══════╪═══════════╪═════════╡\n",
      "│ Apna Dal (Soneylal)                  │    12 │         0 │      12 │\n",
      "├──────────────────────────────────────┼───────┼───────────┼─────────┤\n",
      "│ Bahujan Samaj Party                  │     1 │         0 │       1 │\n",
      "├──────────────────────────────────────┼───────┼───────────┼─────────┤\n",
      "│ Bharatiya Janata Party               │   255 │         0 │     255 │\n",
      "├──────────────────────────────────────┼───────┼───────────┼─────────┤\n",
      "│ Indian National Congress             │     2 │         0 │       2 │\n",
      "├──────────────────────────────────────┼───────┼───────────┼─────────┤\n",
      "│ Jansatta Dal Loktantrik              │     2 │         0 │       2 │\n",
      "├──────────────────────────────────────┼───────┼───────────┼─────────┤\n",
      "│ Nirbal Indian Shoshit Hamara Aam Dal │     6 │         0 │       6 │\n",
      "├──────────────────────────────────────┼───────┼───────────┼─────────┤\n",
      "│ Rashtriya Lok Dal                    │     8 │         0 │       8 │\n",
      "├──────────────────────────────────────┼───────┼───────────┼─────────┤\n",
      "│ Samajwadi Party                      │   111 │         0 │     111 │\n",
      "├──────────────────────────────────────┼───────┼───────────┼─────────┤\n",
      "│ Suheldev Bharatiya Samaj Party       │     6 │         0 │       6 │\n",
      "╘══════════════════════════════════════╧═══════╧═══════════╧═════════╛\n",
      "Saving parsed data as Uttar-Pradesh.csv\n",
      "\n",
      "Extracting data for Goa : S05\n",
      "Fetching  https://results.eci.gov.in/ResultAcGenMar2022/partywiseresult-S05.htm\n",
      "Data fetched successfully\n",
      "╒═══════════════════════════╤═══════╤═══════════╤═════════╕\n",
      "│ Party                     │   Won │   Leading │   Total │\n",
      "╞═══════════════════════════╪═══════╪═══════════╪═════════╡\n",
      "│ Aam Aadmi Party           │     2 │         0 │       2 │\n",
      "├───────────────────────────┼───────┼───────────┼─────────┤\n",
      "│ Bharatiya Janata Party    │    20 │         0 │      20 │\n",
      "├───────────────────────────┼───────┼───────────┼─────────┤\n",
      "│ Goa Forward Party         │     1 │         0 │       1 │\n",
      "├───────────────────────────┼───────┼───────────┼─────────┤\n",
      "│ Independent               │     3 │         0 │       3 │\n",
      "├───────────────────────────┼───────┼───────────┼─────────┤\n",
      "│ Indian National Congress  │    11 │         0 │      11 │\n",
      "├───────────────────────────┼───────┼───────────┼─────────┤\n",
      "│ Maharashtrawadi Gomantak  │     2 │         0 │       2 │\n",
      "├───────────────────────────┼───────┼───────────┼─────────┤\n",
      "│ Revolutionary Goans Party │     1 │         0 │       1 │\n",
      "╘═══════════════════════════╧═══════╧═══════════╧═════════╛\n",
      "Saving parsed data as Goa.csv\n",
      "\n",
      "Extracting data for Mainpur : S14\n",
      "Fetching  https://results.eci.gov.in/ResultAcGenMar2022/partywiseresult-S14.htm\n",
      "Data fetched successfully\n",
      "╒══════════════════════════╤═══════╤═══════════╤═════════╕\n",
      "│ Party                    │   Won │   Leading │   Total │\n",
      "╞══════════════════════════╪═══════╪═══════════╪═════════╡\n",
      "│ Bharatiya Janata Party   │    32 │         0 │      32 │\n",
      "├──────────────────────────┼───────┼───────────┼─────────┤\n",
      "│ Independent              │     3 │         0 │       3 │\n",
      "├──────────────────────────┼───────┼───────────┼─────────┤\n",
      "│ Indian National Congress │     5 │         0 │       5 │\n",
      "├──────────────────────────┼───────┼───────────┼─────────┤\n",
      "│ Janata Dal  (United)     │     6 │         0 │       6 │\n",
      "├──────────────────────────┼───────┼───────────┼─────────┤\n",
      "│ Kuki People’s Alliance   │     2 │         0 │       2 │\n",
      "├──────────────────────────┼───────┼───────────┼─────────┤\n",
      "│ Naga Peoples Front       │     5 │         0 │       5 │\n",
      "├──────────────────────────┼───────┼───────────┼─────────┤\n",
      "│ National People's Party  │     7 │         0 │       7 │\n",
      "╘══════════════════════════╧═══════╧═══════════╧═════════╛\n",
      "Saving parsed data as Mainpur.csv\n",
      "\n",
      "Extracting data for Punjab : S19\n",
      "Fetching  https://results.eci.gov.in/ResultAcGenMar2022/partywiseresult-S19.htm\n",
      "Data fetched successfully\n",
      "╒══════════════════════════╤═══════╤═══════════╤═════════╕\n",
      "│ Party                    │   Won │   Leading │   Total │\n",
      "╞══════════════════════════╪═══════╪═══════════╪═════════╡\n",
      "│ Aam Aadmi Party          │    92 │         0 │      92 │\n",
      "├──────────────────────────┼───────┼───────────┼─────────┤\n",
      "│ Bahujan Samaj Party      │     1 │         0 │       1 │\n",
      "├──────────────────────────┼───────┼───────────┼─────────┤\n",
      "│ Bharatiya Janata Party   │     2 │         0 │       2 │\n",
      "├──────────────────────────┼───────┼───────────┼─────────┤\n",
      "│ Independent              │     1 │         0 │       1 │\n",
      "├──────────────────────────┼───────┼───────────┼─────────┤\n",
      "│ Indian National Congress │    18 │         0 │      18 │\n",
      "├──────────────────────────┼───────┼───────────┼─────────┤\n",
      "│ Shiromani Akali Dal      │     3 │         0 │       3 │\n",
      "╘══════════════════════════╧═══════╧═══════════╧═════════╛\n",
      "Saving parsed data as Punjab.csv\n",
      "\n",
      "Extracting data for Uttar-Khand : S28\n",
      "Fetching  https://results.eci.gov.in/ResultAcGenMar2022/partywiseresult-S28.htm\n",
      "Data fetched successfully\n",
      "╒══════════════════════════╤═══════╤═══════════╤═════════╕\n",
      "│ Party                    │   Won │   Leading │   Total │\n",
      "╞══════════════════════════╪═══════╪═══════════╪═════════╡\n",
      "│ Bahujan Samaj Party      │     2 │         0 │       2 │\n",
      "├──────────────────────────┼───────┼───────────┼─────────┤\n",
      "│ Bharatiya Janata Party   │    47 │         0 │      47 │\n",
      "├──────────────────────────┼───────┼───────────┼─────────┤\n",
      "│ Independent              │     2 │         0 │       2 │\n",
      "├──────────────────────────┼───────┼───────────┼─────────┤\n",
      "│ Indian National Congress │    19 │         0 │      19 │\n",
      "╘══════════════════════════╧═══════╧═══════════╧═════════╛\n",
      "Saving parsed data as Uttar-Khand.csv\n",
      "\n"
     ]
    }
   ],
   "source": [
    "import pandas as pd\n",
    "from urllib.request import urlopen\n",
    "from bs4 import BeautifulSoup\n",
    "from tabulate import tabulate\n",
    "\n",
    "\n",
    "header = ['Party', 'Won', 'Leading', 'Total']\n",
    "states = { 'Uttar-Pradesh' : 'S24', 'Goa' : 'S05', 'Mainpur' : 'S14', 'Punjab' : 'S19', 'Uttar-Khand' : 'S28' }\n",
    "\n",
    "\n",
    "def extract(input_states):\n",
    "    for state in input_states:\n",
    "        print(\"Extracting data for\", state, \":\", input_states[state])\n",
    "        try:\n",
    "            url = \"https://results.eci.gov.in/ResultAcGenMar2022/partywiseresult-\" +  input_states[state] + \".htm\"\n",
    "            print(\"Fetching \", url)\n",
    "            html = urlopen(url)\n",
    "            soup = BeautifulSoup(html,'html.parser')\n",
    "            body = soup.body\n",
    "            div = body.find(\"div\", {\"id\": \"div1\"})\n",
    "            table = div.find(\"table\",{\"border\":\"1\"})\n",
    "            rows = table.find_all('tr')\n",
    "            raw_data = []\n",
    "            for i in range (3,len(rows)-1):\n",
    "                tds = rows[i].findAll('td')\n",
    "                raw_data.append([])\n",
    "                for td in tds:\n",
    "                    raw_data[len(raw_data)-1].append(td.text)\n",
    "                raw_data[len(raw_data)-1][len(raw_data[len(raw_data)-1])-2] = int(raw_data[len(raw_data)-1][len(raw_data[len(raw_data)-1])-2])\n",
    "            data = sorted(raw_data, key=lambda x: x[len(raw_data[0])-2],reverse=True)\n",
    "            print(\"Data fetched successfully\")\n",
    "            print(tabulate(data, headers=header, tablefmt='fancy_grid'))\n",
    "            df = pd.DataFrame(data = data, columns = header)\n",
    "            filename = state + \".csv\"\n",
    "            print(\"Saving parsed data as\", filename, end='\\n\\n')\n",
    "            df.to_csv(filename, index=False)\n",
    "        except e:\n",
    "            print(e)\n",
    "\n",
    "\n",
    "extract(states)"
   ]
  },
  {
   "cell_type": "markdown",
   "metadata": {},
   "source": [
    "## Visualizing all the five states"
   ]
  },
  {
   "cell_type": "code",
   "execution_count": 19,
   "metadata": {},
   "outputs": [
    {
     "name": "stdout",
     "output_type": "stream",
     "text": [
      "Visualizing data for Uttar-Pradesh : S24\n",
      "Importing Uttar-Pradesh.csv\n",
      "                                  Party  Seats\n",
      "0                Bharatiya Janata Party    255\n",
      "1                       Samajwadi Party    111\n",
      "2                   Apna Dal (Soneylal)     12\n",
      "3                     Rashtriya Lok Dal      8\n",
      "4  Nirbal Indian Shoshit Hamara Aam Dal      6\n",
      "5        Suheldev Bharatiya Samaj Party      6\n",
      "6              Indian National Congress      2\n",
      "7               Jansatta Dal Loktantrik      2\n",
      "8                   Bahujan Samaj Party      1\n"
     ]
    },
    {
     "data": {
      "image/png": "[encoded data removed]",
      "text/plain": [
       "<Figure size 432x288 with 1 Axes>"
      ]
     },
     "metadata": {},
     "output_type": "display_data"
    },
    {
     "name": "stdout",
     "output_type": "stream",
     "text": [
      "Visualizing data for Goa : S05\n",
      "Importing Goa.csv\n",
      "                       Party  Seats\n",
      "0     Bharatiya Janata Party     20\n",
      "1   Indian National Congress     11\n",
      "2                Independent      3\n",
      "3            Aam Aadmi Party      2\n",
      "4   Maharashtrawadi Gomantak      2\n",
      "5          Goa Forward Party      1\n",
      "6  Revolutionary Goans Party      1\n"
     ]
    },
    {
     "data": {
      "image/png": "[encoded data removed]",
      "text/plain": [
       "<Figure size 432x288 with 1 Axes>"
      ]
     },
     "metadata": {},
     "output_type": "display_data"
    },
    {
     "name": "stdout",
     "output_type": "stream",
     "text": [
      "Visualizing data for Mainpur : S14\n",
      "Importing Mainpur.csv\n",
      "                      Party  Seats\n",
      "0    Bharatiya Janata Party     32\n",
      "1   National People's Party      7\n",
      "2      Janata Dal  (United)      6\n",
      "3  Indian National Congress      5\n",
      "4        Naga Peoples Front      5\n",
      "5               Independent      3\n",
      "6    Kuki People’s Alliance      2\n"
     ]
    },
    {
     "data": {
      "image/png": "[encoded data removed]",
      "text/plain": [
       "<Figure size 432x288 with 1 Axes>"
      ]
     },
     "metadata": {},
     "output_type": "display_data"
    },
    {
     "name": "stdout",
     "output_type": "stream",
     "text": [
      "Visualizing data for Punjab : S19\n",
      "Importing Punjab.csv\n",
      "                      Party  Seats\n",
      "0           Aam Aadmi Party     92\n",
      "1  Indian National Congress     18\n",
      "2       Shiromani Akali Dal      3\n",
      "3    Bharatiya Janata Party      2\n",
      "4       Bahujan Samaj Party      1\n",
      "5               Independent      1\n"
     ]
    },
    {
     "data": {
      "image/png": "[encoded data removed]",
      "text/plain": [
       "<Figure size 432x288 with 1 Axes>"
      ]
     },
     "metadata": {},
     "output_type": "display_data"
    },
    {
     "name": "stdout",
     "output_type": "stream",
     "text": [
      "Visualizing data for Uttar-Khand : S28\n",
      "Importing Uttar-Khand.csv\n",
      "                      Party  Seats\n",
      "0    Bharatiya Janata Party     47\n",
      "1  Indian National Congress     19\n",
      "2       Bahujan Samaj Party      2\n",
      "3               Independent      2\n"
     ]
    },
    {
     "data": {
      "image/png": "[encoded data removed]",
      "text/plain": [
       "<Figure size 432x288 with 1 Axes>"
      ]
     },
     "metadata": {},
     "output_type": "display_data"
    }
   ],
   "source": [
    "import pandas as pd\n",
    "import matplotlib.pyplot as plt\n",
    "import seaborn as sns\n",
    "\n",
    "\n",
    "header = ['Party', 'Won', 'Leading', 'Total']\n",
    "states = { 'Uttar-Pradesh' : 'S24', 'Goa' : 'S05', 'Mainpur' : 'S14', 'Punjab' : 'S19', 'Uttar-Khand' : 'S28' }\n",
    "\n",
    "\n",
    "def visualize(input_states):\n",
    "    for state in input_states:\n",
    "        print(\"Visualizing data for\", state, \":\", input_states[state])\n",
    "        try:\n",
    "            filename = state + \".csv\"\n",
    "            print(\"Importing\", filename)\n",
    "            csv_data = pd.read_csv(filename)\n",
    "            csv_data = csv_data.groupby('Party')['Won'].sum().sort_values(ascending=False) \n",
    "            csv_data = csv_data.reset_index()\n",
    "            csv_data.columns = ['Party' ,'Seats']\n",
    "            print(csv_data)\n",
    "            plt.figure(state)\n",
    "            sns.barplot(data=csv_data, x='Party', y='Seats')\n",
    "            plt.xticks(rotation=90)\n",
    "            plt.pie(csv_data[\"Seats\"], labels=csv_data[\"Party\"])\n",
    "            plt.axis('equal')\n",
    "            plt.figure(state)\n",
    "            plt.show()\n",
    "        except e:\n",
    "            print(e)\n",
    "\n",
    "\n",
    "visualize(states)"
   ]
  }
 ],
 "metadata": {
  "kernelspec": {
   "display_name": "Python 3 (ipykernel)",
   "language": "python",
   "name": "python3"
  },
  "language_info": {
   "codemirror_mode": {
    "name": "ipython",
    "version": 3
   },
   "file_extension": ".py",
   "mimetype": "text/x-python",
   "name": "python",
   "nbconvert_exporter": "python",
   "pygments_lexer": "ipython3",
   "version": "3.10.4"
  }
 },
 "nbformat": 4,
 "nbformat_minor": 2
}
