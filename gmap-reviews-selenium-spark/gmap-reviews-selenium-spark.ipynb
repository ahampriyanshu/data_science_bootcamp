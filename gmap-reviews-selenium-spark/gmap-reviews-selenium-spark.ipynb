{
  "nbformat": 4,
  "nbformat_minor": 0,
  "metadata": {
    "colab": {
      "name": "py-spark.ipynb",
      "provenance": []
    },
    "kernelspec": {
      "name": "python3",
      "display_name": "Python 3"
    },
    "language_info": {
      "name": "python"
    }
  },
  "cells": [
    {
      "cell_type": "markdown",
      "source": [
        "* Installing PySpark"
      ],
      "metadata": {
        "id": "wPghF1JG2xVI"
      }
    },
    {
      "cell_type": "code",
      "execution_count": 1,
      "metadata": {
        "colab": {
          "base_uri": "https://localhost:8080/"
        },
        "id": "EBcEYaoOwPAS",
        "outputId": "49e3b89a-f58a-49ac-c8dd-86e3751cfd10"
      },
      "outputs": [
        {
          "output_type": "stream",
          "name": "stdout",
          "text": [
            "Collecting pyspark\n",
            "  Downloading pyspark-3.2.1.tar.gz (281.4 MB)\n",
            "\u001b[K     |████████████████████████████████| 281.4 MB 34 kB/s \n",
            "\u001b[?25hCollecting py4j==0.10.9.3\n",
            "  Downloading py4j-0.10.9.3-py2.py3-none-any.whl (198 kB)\n",
            "\u001b[K     |████████████████████████████████| 198 kB 23.8 MB/s \n",
            "\u001b[?25hBuilding wheels for collected packages: pyspark\n",
            "  Building wheel for pyspark (setup.py) ... \u001b[?25l\u001b[?25hdone\n",
            "  Created wheel for pyspark: filename=pyspark-3.2.1-py2.py3-none-any.whl size=281853642 sha256=00ff1c0964120c9ac7683a12d5d38809147195abe72e431d1f9a0ab7f64f3540\n",
            "  Stored in directory: /root/.cache/pip/wheels/9f/f5/07/7cd8017084dce4e93e84e92efd1e1d5334db05f2e83bcef74f\n",
            "Successfully built pyspark\n",
            "Installing collected packages: py4j, pyspark\n",
            "Successfully installed py4j-0.10.9.3 pyspark-3.2.1\n"
          ]
        }
      ],
      "source": [
        "!pip install pyspark"
      ]
    },
    {
      "cell_type": "code",
      "source": [
        "from pyspark import SparkContext, SparkConf"
      ],
      "metadata": {
        "id": "VzOKlimlwjFB"
      },
      "execution_count": 2,
      "outputs": []
    },
    {
      "cell_type": "markdown",
      "source": [
        "* Creating spark context"
      ],
      "metadata": {
        "id": "HMsKdUM724KG"
      }
    },
    {
      "cell_type": "code",
      "source": [
        "context = SparkContext(\"local\", \"GoogleReviews\")\n",
        "context"
      ],
      "metadata": {
        "colab": {
          "base_uri": "https://localhost:8080/",
          "height": 199
        },
        "id": "qHkzsiniyK9g",
        "outputId": "159c620d-ad81-4406-9693-54c610eacb2c"
      },
      "execution_count": 3,
      "outputs": [
        {
          "output_type": "execute_result",
          "data": {
            "text/plain": [
              "<SparkContext master=local appName=GoogleReviews>"
            ],
            "text/html": [
              "\n",
              "        <div>\n",
              "            <p><b>SparkContext</b></p>\n",
              "\n",
              "            <p><a href=\"http://e3af524c09bf:4040\">Spark UI</a></p>\n",
              "\n",
              "            <dl>\n",
              "              <dt>Version</dt>\n",
              "                <dd><code>v3.2.1</code></dd>\n",
              "              <dt>Master</dt>\n",
              "                <dd><code>local</code></dd>\n",
              "              <dt>AppName</dt>\n",
              "                <dd><code>GoogleReviews</code></dd>\n",
              "            </dl>\n",
              "        </div>\n",
              "        "
            ]
          },
          "metadata": {},
          "execution_count": 3
        }
      ]
    },
    {
      "cell_type": "markdown",
      "source": [
        "* Creating lambda function to split the file"
      ],
      "metadata": {
        "id": "Fcq4plxp3G1Q"
      }
    },
    {
      "cell_type": "code",
      "source": [
        "word_lambda = lambda line : line.split(\" \")\n",
        "word_lambda"
      ],
      "metadata": {
        "colab": {
          "base_uri": "https://localhost:8080/"
        },
        "id": "gejN8ebJzDCA",
        "outputId": "f1d33e11-757a-4526-b6bb-49ab4bc02c28"
      },
      "execution_count": 4,
      "outputs": [
        {
          "output_type": "execute_result",
          "data": {
            "text/plain": [
              "<function __main__.<lambda>>"
            ]
          },
          "metadata": {},
          "execution_count": 4
        }
      ]
    },
    {
      "cell_type": "code",
      "source": [
        "temp = word_lambda(\"this is some line\")\n",
        "type(temp)"
      ],
      "metadata": {
        "colab": {
          "base_uri": "https://localhost:8080/"
        },
        "id": "Lvrptpw_0eOf",
        "outputId": "124a5418-b7dd-4500-e931-76c15181f4b0"
      },
      "execution_count": 5,
      "outputs": [
        {
          "output_type": "execute_result",
          "data": {
            "text/plain": [
              "list"
            ]
          },
          "metadata": {},
          "execution_count": 5
        }
      ]
    },
    {
      "cell_type": "code",
      "source": [
        "file = context.textFile(\"input.txt\")\n",
        "file"
      ],
      "metadata": {
        "colab": {
          "base_uri": "https://localhost:8080/"
        },
        "id": "EHPa60Xf0r9u",
        "outputId": "ad0b7696-edcb-499c-d757-3ab08f8fd4b9"
      },
      "execution_count": 6,
      "outputs": [
        {
          "output_type": "execute_result",
          "data": {
            "text/plain": [
              "input.txt MapPartitionsRDD[1] at textFile at NativeMethodAccessorImpl.java:0"
            ]
          },
          "metadata": {},
          "execution_count": 6
        }
      ]
    },
    {
      "cell_type": "code",
      "source": [
        "type(file)"
      ],
      "metadata": {
        "colab": {
          "base_uri": "https://localhost:8080/"
        },
        "id": "FwcMgbBF1CYO",
        "outputId": "4f468115-58b6-4a22-cdab-9647bad9a842"
      },
      "execution_count": 7,
      "outputs": [
        {
          "output_type": "execute_result",
          "data": {
            "text/plain": [
              "pyspark.rdd.RDD"
            ]
          },
          "metadata": {},
          "execution_count": 7
        }
      ]
    },
    {
      "cell_type": "markdown",
      "source": [
        "* Executing flatMap fucntion to split the file into the words"
      ],
      "metadata": {
        "id": "kEh5iv5H3PUm"
      }
    },
    {
      "cell_type": "code",
      "source": [
        "words = file.flatMap(word_lambda)\n",
        "words"
      ],
      "metadata": {
        "colab": {
          "base_uri": "https://localhost:8080/"
        },
        "id": "1mVq0M4K1cc-",
        "outputId": "f9251793-718a-4b1f-c2db-823f2711fe8f"
      },
      "execution_count": 8,
      "outputs": [
        {
          "output_type": "execute_result",
          "data": {
            "text/plain": [
              "PythonRDD[2] at RDD at PythonRDD.scala:53"
            ]
          },
          "metadata": {},
          "execution_count": 8
        }
      ]
    },
    {
      "cell_type": "code",
      "source": [
        "add = lambda a,b : a + b\n",
        "add"
      ],
      "metadata": {
        "colab": {
          "base_uri": "https://localhost:8080/"
        },
        "id": "5HG95BsK2drv",
        "outputId": "1751ef19-0528-4516-b145-be4399d7569a"
      },
      "execution_count": 9,
      "outputs": [
        {
          "output_type": "execute_result",
          "data": {
            "text/plain": [
              "<function __main__.<lambda>>"
            ]
          },
          "metadata": {},
          "execution_count": 9
        }
      ]
    },
    {
      "cell_type": "markdown",
      "source": [
        "* Creating word tuple"
      ],
      "metadata": {
        "id": "p-QL0Duj6iFF"
      }
    },
    {
      "cell_type": "code",
      "source": [
        "word_tuple = lambda words : (words, 1)\n",
        "word_tuple"
      ],
      "metadata": {
        "colab": {
          "base_uri": "https://localhost:8080/"
        },
        "id": "tm1UAC085gvu",
        "outputId": "66241e98-1fae-4a46-c24a-5701aeeda702"
      },
      "execution_count": 10,
      "outputs": [
        {
          "output_type": "execute_result",
          "data": {
            "text/plain": [
              "<function __main__.<lambda>>"
            ]
          },
          "metadata": {},
          "execution_count": 10
        }
      ]
    },
    {
      "cell_type": "markdown",
      "source": [
        "* Creating word map"
      ],
      "metadata": {
        "id": "rxZh89vg6CQ1"
      }
    },
    {
      "cell_type": "code",
      "source": [
        "word_map = words.map(word_tuple)\n",
        "word_map"
      ],
      "metadata": {
        "colab": {
          "base_uri": "https://localhost:8080/"
        },
        "id": "ICPQhwFl5p78",
        "outputId": "cac486d8-40af-4eaf-b8b4-9d140da8530d"
      },
      "execution_count": 11,
      "outputs": [
        {
          "output_type": "execute_result",
          "data": {
            "text/plain": [
              "PythonRDD[3] at RDD at PythonRDD.scala:53"
            ]
          },
          "metadata": {},
          "execution_count": 11
        }
      ]
    },
    {
      "cell_type": "markdown",
      "source": [
        "* Create word count"
      ],
      "metadata": {
        "id": "Moo1R6fL6nGM"
      }
    },
    {
      "cell_type": "code",
      "source": [
        "word_count = word_map.reduceByKey(add)\n",
        "word_count"
      ],
      "metadata": {
        "colab": {
          "base_uri": "https://localhost:8080/"
        },
        "id": "XFEq8yk16Yuc",
        "outputId": "f260e457-1f70-46f4-ba03-c037d5048c6d"
      },
      "execution_count": 12,
      "outputs": [
        {
          "output_type": "execute_result",
          "data": {
            "text/plain": [
              "PythonRDD[8] at RDD at PythonRDD.scala:53"
            ]
          },
          "metadata": {},
          "execution_count": 12
        }
      ]
    },
    {
      "cell_type": "markdown",
      "source": [
        "* Saving the ouput as a text file"
      ],
      "metadata": {
        "id": "C47a6qx67IfV"
      }
    },
    {
      "cell_type": "code",
      "source": [
        "word_count.saveAsTextFile(\"output\")\n",
        "word_count"
      ],
      "metadata": {
        "colab": {
          "base_uri": "https://localhost:8080/"
        },
        "id": "_A_Ihewh6kkc",
        "outputId": "ee4bdf5f-d40d-4aac-b151-48939ba2d4e1"
      },
      "execution_count": 13,
      "outputs": [
        {
          "output_type": "execute_result",
          "data": {
            "text/plain": [
              "PythonRDD[8] at RDD at PythonRDD.scala:53"
            ]
          },
          "metadata": {},
          "execution_count": 13
        }
      ]
    },
    {
      "cell_type": "code",
      "source": [
        "common_words = ['a', 'of', 'if', 'to', 'by', 'not', 'on', 'are', 'in', 'the', 'it', 'is', 'so', 'be', 'an', 'for', 'at']"
      ],
      "metadata": {
        "id": "lly3aad30jxr"
      },
      "execution_count": 28,
      "outputs": []
    },
    {
      "cell_type": "code",
      "source": [
        "with open('output/part-00000', 'r') as f:\n",
        "    reviews = [line.rstrip('\\n') for line in f]\n",
        "    for review in reviews:\n",
        "      if int(review[-2]) > 5:\n",
        "        review = review[1:-1].split(',')\n",
        "        content, freq = review[0][1:-1].lower(), review[1]\n",
        "        # if content not in common_words:\n",
        "        if len(content) > 3:\n",
        "          print(f'{content} -> {freq}')"
      ],
      "metadata": {
        "colab": {
          "base_uri": "https://localhost:8080/"
        },
        "id": "5a6nn1qL7ihL",
        "outputId": "c3906a43-e07c-4fa4-e9fc-64ef8431f16b"
      },
      "execution_count": 31,
      "outputs": [
        {
          "output_type": "stream",
          "name": "stdout",
          "text": [
            "india. ->  6\n",
            "from ->  16\n",
            "here. ->  9\n",
            "have ->  9\n",
            "just ->  8\n",
            "like ->  6\n",
            "more ->  9\n",
            "busiest ->  6\n",
            "facilities ->  6\n",
            "available. ->  9\n",
            "platforms ->  7\n",
            "this ->  7\n",
            "than ->  7\n",
            "metro ->  6\n",
            "railway ->  6\n",
            "outside ->  6\n",
            "waiting ->  8\n",
            "good ->  8\n",
            "that ->  6\n",
            "auto ->  6\n"
          ]
        }
      ]
    },
    {
      "cell_type": "code",
      "source": [
        ""
      ],
      "metadata": {
        "id": "W4uEw3IU8mpC"
      },
      "execution_count": null,
      "outputs": []
    }
  ]
}