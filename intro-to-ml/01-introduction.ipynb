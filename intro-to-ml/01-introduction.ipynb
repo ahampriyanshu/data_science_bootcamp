{
 "cells": [
  {
   "cell_type": "markdown",
   "id": "e7ca9ca2",
   "metadata": {},
   "source": [
    "## Installing Anaconda\n",
    "\n",
    "1. Download [Anaconda installer](https://www.anaconda.com/download/#linux)\n",
    "1. Run ``bash ~/Downloads/Anaconda3-2020.02-Linux-x86_64.sh``\n",
    "1. Follow the prompts on the installer screens\n",
    "1. Restart the terminal \n",
    "1. Verify the installation by running ``conda info``"
   ]
  },
  {
   "cell_type": "markdown",
   "id": "1af38bd7",
   "metadata": {},
   "source": [
    "## Anaconda Commands\n",
    "\n",
    "Description | Command\n",
    ":--- |:---\n",
    "Creating new virtual env | conda create -n myenv pandas jupyterlab\n",
    "Cloning existing env | conda create -n myclone --clone myenv\n",
    "Version specified | conda create -n myenv python=3.8\n",
    "Activating the env | conda activate myenv\n",
    "Deactivating the env | conda deactivate\n",
    "Listing env | conda env list\n",
    "Removing env | conda env remove --name myenv\n",
    "Installing packages | conda install pandas"
   ]
  },
  {
   "cell_type": "markdown",
   "id": "edeacae8",
   "metadata": {},
   "source": [
    "## Uninstalling Anaconda\n",
    "\n",
    "```\n",
    "conda install anaconda-clean\n",
    "anaconda-clean --yes\n",
    "sudo rm -rf ~/anaconda3\n",
    "sudo rm -rf ~/.anaconda_backup   \n",
    "sudo rm -rf ~/.condarc ~/.conda ~/.continuum\n",
    "```\n",
    "*  Remove the PATH from _~/.bashrc_ and _~/.bash_profile_"
   ]
  },
  {
   "cell_type": "markdown",
   "id": "2e8a4fd1",
   "metadata": {},
   "source": [
    "## Installing Jupyter Notebook\n",
    "* You can also install Jupyter individualy and manage the virtual enviroment with virtualenv\n",
    " \n",
    "```\n",
    "pip3 install Jupyter\n",
    "pip3 install virtualenv\n",
    "virtualenv my_project_env\n",
    "source my_project_env/bin/activate\n",
    "jupyter notebook\n",
    "```\n"
   ]
  },
  {
   "cell_type": "markdown",
   "id": "fa838c6a",
   "metadata": {},
   "source": [
    "## Jupyter Notebook 500 : Internal Server Error\n",
    "\n",
    "* In this case upgrade your Jupyter hub\n",
    "\n",
    "```\n",
    "pip3 install --upgrade jupyterhub\n",
    "pip3 install --upgrade --user nbconve\n",
    "```"
   ]
  },
  {
   "cell_type": "markdown",
   "id": "11e5a965",
   "metadata": {},
   "source": [
    "## Jupyter shortcuts\n",
    "\n",
    "Description | Command\n",
    ":-- | :--\n",
    "Enter | Edit Mode\n",
    "Esc | Command Mode\n",
    "M | Markdown Mode\n",
    "Y | Code Mode\n",
    "A | Insert a new cell above\n",
    "B | Insert a new cell below\n",
    "D+D | Delete the current cell\n",
    "Ctrl+Enter | Compile the current cell\n",
    "Shift+Enter | Compile and move to the next cell \n",
    "Alt+Enter | Compile and insert a new cell\n",
    "Shift+Tab | Docstring(Tooltip)\n",
    "Ctrl+A | Select all\n",
    "Ctrl+Z | Undo\n",
    "Ctrl+Y | Redo\n",
    "Ctrl+Home | Jump to first cell\n",
    "Ctrl+End | Jump to last cell\n",
    "Esc+F | Find and Replace\n",
    "Esc+O | Toggle cell output\n",
    "Shift+J | Selects cell in downwards direction\n",
    "Shift+K | Selects cell in upwards direction\n",
    "Shift+M | Merge cells\n",
    "Ctrl+Shift+- | Splits cells\n",
    "\n",
    "* Prefix ``!`` to run shell commands"
   ]
  },
  {
   "cell_type": "markdown",
   "id": "13b94edc",
   "metadata": {},
   "source": [
    "## Uninstalling Jupyter\n",
    "\n",
    "```\n",
    "pip3 uninstall jupyter jupyter_core jupyter-client jupyter-console jupyterlab_pygments notebook qtconsole nbconvert nbformat\n",
    "```"
   ]
  },
  {
   "cell_type": "markdown",
   "id": "3ea8807c",
   "metadata": {},
   "source": [
    "## Variables in python"
   ]
  },
  {
   "cell_type": "code",
   "execution_count": 16,
   "id": "f5f3c2f8",
   "metadata": {},
   "outputs": [
    {
     "data": {
      "text/plain": [
       "int"
      ]
     },
     "execution_count": 16,
     "metadata": {},
     "output_type": "execute_result"
    }
   ],
   "source": [
    "a = 10\n",
    "type(a)"
   ]
  },
  {
   "cell_type": "code",
   "execution_count": 15,
   "id": "4f65e60f",
   "metadata": {},
   "outputs": [
    {
     "data": {
      "text/plain": [
       "str"
      ]
     },
     "execution_count": 15,
     "metadata": {},
     "output_type": "execute_result"
    }
   ],
   "source": [
    "a = 'name'\n",
    "type(a)"
   ]
  },
  {
   "cell_type": "code",
   "execution_count": 14,
   "id": "a034501e",
   "metadata": {},
   "outputs": [
    {
     "data": {
      "text/plain": [
       "float"
      ]
     },
     "execution_count": 14,
     "metadata": {},
     "output_type": "execute_result"
    }
   ],
   "source": [
    "a = 3.14\n",
    "type(a)"
   ]
  },
  {
   "cell_type": "code",
   "execution_count": 5,
   "id": "b34714e6",
   "metadata": {},
   "outputs": [
    {
     "data": {
      "text/plain": [
       "bool"
      ]
     },
     "execution_count": 5,
     "metadata": {},
     "output_type": "execute_result"
    }
   ],
   "source": [
    "a = True\n",
    "type(a)"
   ]
  },
  {
   "cell_type": "code",
   "execution_count": 6,
   "id": "ce4a9ec9",
   "metadata": {},
   "outputs": [
    {
     "data": {
      "text/plain": [
       "list"
      ]
     },
     "execution_count": 6,
     "metadata": {},
     "output_type": "execute_result"
    }
   ],
   "source": [
    "a = []\n",
    "type(a)"
   ]
  },
  {
   "cell_type": "code",
   "execution_count": 7,
   "id": "f83a6b71",
   "metadata": {},
   "outputs": [
    {
     "data": {
      "text/plain": [
       "tuple"
      ]
     },
     "execution_count": 7,
     "metadata": {},
     "output_type": "execute_result"
    }
   ],
   "source": [
    "a = ()\n",
    "type(a)"
   ]
  },
  {
   "cell_type": "code",
   "execution_count": 8,
   "id": "e39a2fad",
   "metadata": {},
   "outputs": [
    {
     "data": {
      "text/plain": [
       "dict"
      ]
     },
     "execution_count": 8,
     "metadata": {},
     "output_type": "execute_result"
    }
   ],
   "source": [
    "a = {}\n",
    "type(a)"
   ]
  },
  {
   "cell_type": "code",
   "execution_count": 10,
   "id": "29186a8c",
   "metadata": {},
   "outputs": [
    {
     "data": {
      "text/plain": [
       "complex"
      ]
     },
     "execution_count": 10,
     "metadata": {},
     "output_type": "execute_result"
    }
   ],
   "source": [
    "a = 2 + 3j\n",
    "type(a)"
   ]
  },
  {
   "cell_type": "code",
   "execution_count": 3,
   "id": "6b044475",
   "metadata": {},
   "outputs": [
    {
     "name": "stdout",
     "output_type": "stream",
     "text": [
      "139683830587600\n",
      "139683830587600\n"
     ]
    }
   ],
   "source": [
    "b = 256\n",
    "c = 256\n",
    "print(id(b))\n",
    "print(id(c))"
   ]
  },
  {
   "cell_type": "code",
   "execution_count": 4,
   "id": "861b7114",
   "metadata": {},
   "outputs": [
    {
     "name": "stdout",
     "output_type": "stream",
     "text": [
      "139683783324592\n",
      "139683783326736\n"
     ]
    }
   ],
   "source": [
    "b = 257\n",
    "c = 257\n",
    "print(id(b))\n",
    "print(id(c))"
   ]
  },
  {
   "cell_type": "code",
   "execution_count": 5,
   "id": "e1716e99",
   "metadata": {},
   "outputs": [
    {
     "name": "stdout",
     "output_type": "stream",
     "text": [
      "139683830579728\n",
      "139683830579760\n"
     ]
    }
   ],
   "source": [
    "a = 10\n",
    "print(id(a))\n",
    "a = a + 1\n",
    "print(id(a))"
   ]
  },
  {
   "cell_type": "code",
   "execution_count": 6,
   "id": "2584a2c0",
   "metadata": {},
   "outputs": [],
   "source": [
    "a = 100\n",
    "b = 7"
   ]
  },
  {
   "cell_type": "code",
   "execution_count": 7,
   "id": "7e465304",
   "metadata": {},
   "outputs": [
    {
     "data": {
      "text/plain": [
       "107"
      ]
     },
     "execution_count": 7,
     "metadata": {},
     "output_type": "execute_result"
    }
   ],
   "source": [
    "a+b"
   ]
  },
  {
   "cell_type": "code",
   "execution_count": 8,
   "id": "c946f5bc",
   "metadata": {},
   "outputs": [
    {
     "data": {
      "text/plain": [
       "93"
      ]
     },
     "execution_count": 8,
     "metadata": {},
     "output_type": "execute_result"
    }
   ],
   "source": [
    "a-b"
   ]
  },
  {
   "cell_type": "code",
   "execution_count": 9,
   "id": "ccc548fe",
   "metadata": {},
   "outputs": [
    {
     "data": {
      "text/plain": [
       "700"
      ]
     },
     "execution_count": 9,
     "metadata": {},
     "output_type": "execute_result"
    }
   ],
   "source": [
    "a*b"
   ]
  },
  {
   "cell_type": "code",
   "execution_count": 10,
   "id": "c17a1993",
   "metadata": {},
   "outputs": [
    {
     "data": {
      "text/plain": [
       "100000000000000"
      ]
     },
     "execution_count": 10,
     "metadata": {},
     "output_type": "execute_result"
    }
   ],
   "source": [
    "a**b"
   ]
  },
  {
   "cell_type": "code",
   "execution_count": 11,
   "id": "32f8b111",
   "metadata": {
    "scrolled": true
   },
   "outputs": [
    {
     "data": {
      "text/plain": [
       "14.285714285714286"
      ]
     },
     "execution_count": 11,
     "metadata": {},
     "output_type": "execute_result"
    }
   ],
   "source": [
    "a/b"
   ]
  },
  {
   "cell_type": "code",
   "execution_count": 12,
   "id": "ad483ee8",
   "metadata": {},
   "outputs": [
    {
     "data": {
      "text/plain": [
       "14"
      ]
     },
     "execution_count": 12,
     "metadata": {},
     "output_type": "execute_result"
    }
   ],
   "source": [
    "a//b"
   ]
  },
  {
   "cell_type": "code",
   "execution_count": 13,
   "id": "cc3aa40b",
   "metadata": {},
   "outputs": [
    {
     "data": {
      "text/plain": [
       "2"
      ]
     },
     "execution_count": 13,
     "metadata": {},
     "output_type": "execute_result"
    }
   ],
   "source": [
    "a % b"
   ]
  },
  {
   "cell_type": "code",
   "execution_count": 32,
   "id": "aafdb564",
   "metadata": {},
   "outputs": [
    {
     "name": "stdout",
     "output_type": "stream",
     "text": [
      "41\n"
     ]
    },
    {
     "data": {
      "text/plain": [
       "str"
      ]
     },
     "execution_count": 32,
     "metadata": {},
     "output_type": "execute_result"
    }
   ],
   "source": [
    "a = input()\n",
    "type(a)"
   ]
  },
  {
   "cell_type": "code",
   "execution_count": 33,
   "id": "64a3cff4",
   "metadata": {},
   "outputs": [
    {
     "name": "stdout",
     "output_type": "stream",
     "text": [
      "41\n"
     ]
    },
    {
     "data": {
      "text/plain": [
       "int"
      ]
     },
     "execution_count": 33,
     "metadata": {},
     "output_type": "execute_result"
    }
   ],
   "source": [
    "a = int(input())\n",
    "type(a)"
   ]
  },
  {
   "cell_type": "markdown",
   "id": "2a35baed",
   "metadata": {},
   "source": [
    "## Comments "
   ]
  },
  {
   "cell_type": "markdown",
   "id": "a751759e",
   "metadata": {},
   "source": [
    "### Single line comments"
   ]
  },
  {
   "cell_type": "code",
   "execution_count": 2,
   "id": "3f6a1bc9",
   "metadata": {},
   "outputs": [
    {
     "data": {
      "text/plain": [
       "10"
      ]
     },
     "execution_count": 2,
     "metadata": {},
     "output_type": "execute_result"
    }
   ],
   "source": [
    "a = 10\n",
    "# a = 20\n",
    "a"
   ]
  },
  {
   "cell_type": "markdown",
   "id": "c8c4a32f",
   "metadata": {},
   "source": [
    "### Multi line comments\n",
    "\n",
    "* Python doesn't support multi line comments. So, we can use multiple hashes."
   ]
  },
  {
   "cell_type": "code",
   "execution_count": 1,
   "id": "a24af90d",
   "metadata": {},
   "outputs": [
    {
     "data": {
      "text/plain": [
       "0"
      ]
     },
     "execution_count": 1,
     "metadata": {},
     "output_type": "execute_result"
    }
   ],
   "source": [
    "b = 0\n",
    "# b = 10\n",
    "# b = 20\n",
    "# b = 30\n",
    "b"
   ]
  },
  {
   "cell_type": "markdown",
   "id": "41169739",
   "metadata": {},
   "source": [
    "### Docstring"
   ]
  },
  {
   "cell_type": "code",
   "execution_count": 1,
   "id": "cce8f342",
   "metadata": {},
   "outputs": [
    {
     "data": {
      "text/plain": [
       "40"
      ]
     },
     "execution_count": 1,
     "metadata": {},
     "output_type": "execute_result"
    }
   ],
   "source": [
    "def add(a, b):\n",
    "    \"\"\"\n",
    "    This function sums up\n",
    "    two integers\n",
    "    \"\"\"\n",
    "    return a + b\n",
    "\n",
    "\n",
    "add(10, 30)"
   ]
  },
  {
   "cell_type": "markdown",
   "id": "56d9c4f0",
   "metadata": {},
   "source": [
    "## sys"
   ]
  },
  {
   "cell_type": "code",
   "execution_count": 1,
   "id": "f9cb6466",
   "metadata": {},
   "outputs": [
    {
     "data": {
      "text/plain": [
       "'3.10.4 (main, Mar 23 2022, 23:05:40) [GCC 11.2.0]'"
      ]
     },
     "execution_count": 1,
     "metadata": {},
     "output_type": "execute_result"
    }
   ],
   "source": [
    "import sys\n",
    "\n",
    "sys.version"
   ]
  },
  {
   "cell_type": "code",
   "execution_count": 2,
   "id": "30dad29d",
   "metadata": {},
   "outputs": [
    {
     "data": {
      "text/plain": [
       "'/usr/bin/python'"
      ]
     },
     "execution_count": 2,
     "metadata": {},
     "output_type": "execute_result"
    }
   ],
   "source": [
    "sys.executable"
   ]
  },
  {
   "cell_type": "code",
   "execution_count": 3,
   "id": "f6e31d22",
   "metadata": {},
   "outputs": [
    {
     "data": {
      "text/plain": [
       "'linux'"
      ]
     },
     "execution_count": 3,
     "metadata": {},
     "output_type": "execute_result"
    }
   ],
   "source": [
    "sys.platform"
   ]
  },
  {
   "cell_type": "code",
   "execution_count": 4,
   "id": "4c1a29c1",
   "metadata": {},
   "outputs": [
    {
     "name": "stdout",
     "output_type": "stream",
     "text": [
      "1234"
     ]
    }
   ],
   "source": [
    "for i in range(1,5):\n",
    "    sys.stdout.write(str(i))\n",
    "    sys.stdout.flush()"
   ]
  },
  {
   "cell_type": "code",
   "execution_count": 5,
   "id": "3cdd04d9",
   "metadata": {},
   "outputs": [
    {
     "name": "stdout",
     "output_type": "stream",
     "text": [
      "0 [..................................................]\n",
      "1 [#.................................................]\n",
      "2 [##................................................]\n",
      "3 [###...............................................]\n",
      "4 [####..............................................]\n",
      "5 [#####.............................................]\n",
      "6 [######............................................]\n",
      "7 [#######...........................................]\n",
      "8 [########..........................................]\n",
      "9 [#########.........................................]\n",
      "10 [##########........................................]\n",
      "11 [###########.......................................]\n",
      "12 [############......................................]\n",
      "13 [#############.....................................]\n",
      "14 [##############....................................]\n",
      "15 [###############...................................]\n",
      "16 [################..................................]\n",
      "17 [#################.................................]\n",
      "18 [##################................................]\n",
      "19 [###################...............................]\n",
      "20 [####################..............................]\n",
      "21 [#####################.............................]\n",
      "22 [######################............................]\n",
      "23 [#######################...........................]\n",
      "24 [########################..........................]\n",
      "25 [#########################.........................]\n",
      "26 [##########################........................]\n",
      "27 [###########################.......................]\n",
      "28 [############################......................]\n",
      "29 [#############################.....................]\n",
      "30 [##############################....................]\n",
      "31 [###############################...................]\n",
      "32 [################################..................]\n",
      "33 [#################################.................]\n",
      "34 [##################################................]\n",
      "35 [###################################...............]\n",
      "36 [####################################..............]\n",
      "37 [#####################################.............]\n",
      "38 [######################################............]\n",
      "39 [#######################################...........]\n",
      "40 [########################################..........]\n",
      "41 [#########################################.........]\n",
      "42 [##########################################........]\n",
      "43 [###########################################.......]\n",
      "44 [############################################......]\n",
      "45 [#############################################.....]\n",
      "46 [##############################################....]\n",
      "47 [###############################################...]\n",
      "48 [################################################..]\n",
      "49 [#################################################.]\n",
      "50 [##################################################]\n"
     ]
    }
   ],
   "source": [
    "import time\n",
    "\n",
    "for i in range(0, 51):\n",
    "    time.sleep(0.1)\n",
    "    sys.stdout.write(\"{} [{}{}]\\r\".format(i, '#'*i, \".\"*(50-i)))\n",
    "    sys.stdout.flush()\n",
    "    sys.stdout.write(\"\\n\")"
   ]
  },
  {
   "cell_type": "code",
   "execution_count": 6,
   "id": "f4f3f7e2",
   "metadata": {},
   "outputs": [
    {
     "data": {
      "text/plain": [
       "['/usr/lib/python3.10/site-packages/ipykernel_launcher.py',\n",
       " '-f',\n",
       " '/home/ahampriyanshu/.local/share/jupyter/runtime/kernel-c52a2e78-7901-49da-b28c-3381d5fd3a41.json']"
      ]
     },
     "execution_count": 6,
     "metadata": {},
     "output_type": "execute_result"
    }
   ],
   "source": [
    "sys.argv"
   ]
  },
  {
   "cell_type": "code",
   "execution_count": 7,
   "id": "16952052",
   "metadata": {},
   "outputs": [
    {
     "data": {
      "text/plain": [
       "['/home/ahampriyanshu/experimenting-with-data-science/hacking-with-python',\n",
       " '/usr/lib/python310.zip',\n",
       " '/usr/lib/python3.10',\n",
       " '/usr/lib/python3.10/lib-dynload',\n",
       " '',\n",
       " '/home/ahampriyanshu/.local/lib/python3.10/site-packages',\n",
       " '/usr/lib/python3.10/site-packages']"
      ]
     },
     "execution_count": 7,
     "metadata": {},
     "output_type": "execute_result"
    }
   ],
   "source": [
    "sys.path"
   ]
  },
  {
   "cell_type": "markdown",
   "id": "53614c94",
   "metadata": {},
   "source": [
    "## request"
   ]
  },
  {
   "cell_type": "code",
   "execution_count": 9,
   "id": "3c0b0216",
   "metadata": {},
   "outputs": [
    {
     "data": {
      "text/plain": [
       "<Response [200]>"
      ]
     },
     "execution_count": 9,
     "metadata": {},
     "output_type": "execute_result"
    }
   ],
   "source": [
    "import requests\n",
    "\n",
    "x = requests.get('http://httpbin.org/get')\n",
    "x"
   ]
  },
  {
   "cell_type": "code",
   "execution_count": 10,
   "id": "ee3c6ba7",
   "metadata": {},
   "outputs": [
    {
     "data": {
      "text/plain": [
       "{'Date': 'Mon, 02 May 2022 14:54:19 GMT', 'Content-Type': 'application/json', 'Content-Length': '307', 'Connection': 'keep-alive', 'Server': 'gunicorn/19.9.0', 'Access-Control-Allow-Origin': '*', 'Access-Control-Allow-Credentials': 'true'}"
      ]
     },
     "execution_count": 10,
     "metadata": {},
     "output_type": "execute_result"
    }
   ],
   "source": [
    "x.headers"
   ]
  },
  {
   "cell_type": "code",
   "execution_count": 11,
   "id": "2baef80c",
   "metadata": {},
   "outputs": [
    {
     "data": {
      "text/plain": [
       "'gunicorn/19.9.0'"
      ]
     },
     "execution_count": 11,
     "metadata": {},
     "output_type": "execute_result"
    }
   ],
   "source": [
    "x.headers['Server']"
   ]
  },
  {
   "cell_type": "code",
   "execution_count": 12,
   "id": "bf6e3a14",
   "metadata": {},
   "outputs": [
    {
     "data": {
      "text/plain": [
       "200"
      ]
     },
     "execution_count": 12,
     "metadata": {},
     "output_type": "execute_result"
    }
   ],
   "source": [
    "x.status_code"
   ]
  },
  {
   "cell_type": "code",
   "execution_count": 13,
   "id": "f6013e3e",
   "metadata": {},
   "outputs": [
    {
     "data": {
      "text/plain": [
       "datetime.timedelta(microseconds=567049)"
      ]
     },
     "execution_count": 13,
     "metadata": {},
     "output_type": "execute_result"
    }
   ],
   "source": [
    "x.elapsed"
   ]
  },
  {
   "cell_type": "code",
   "execution_count": 14,
   "id": "2d5fc11c",
   "metadata": {},
   "outputs": [
    {
     "data": {
      "text/plain": [
       "<RequestsCookieJar[]>"
      ]
     },
     "execution_count": 14,
     "metadata": {},
     "output_type": "execute_result"
    }
   ],
   "source": [
    "x.cookies"
   ]
  },
  {
   "cell_type": "code",
   "execution_count": 15,
   "id": "ad059a7e",
   "metadata": {},
   "outputs": [
    {
     "data": {
      "text/plain": [
       "b'{\\n  \"args\": {}, \\n  \"headers\": {\\n    \"Accept\": \"*/*\", \\n    \"Accept-Encoding\": \"gzip, deflate\", \\n    \"Host\": \"httpbin.org\", \\n    \"User-Agent\": \"python-requests/2.27.1\", \\n    \"X-Amzn-Trace-Id\": \"Root=1-626ff09b-60e066c93b558d723525dc64\"\\n  }, \\n  \"origin\": \"112.196.30.231\", \\n  \"url\": \"http://httpbin.org/get\"\\n}\\n'"
      ]
     },
     "execution_count": 15,
     "metadata": {},
     "output_type": "execute_result"
    }
   ],
   "source": [
    "x.content"
   ]
  },
  {
   "cell_type": "code",
   "execution_count": 16,
   "id": "e89709eb",
   "metadata": {},
   "outputs": [
    {
     "name": "stdout",
     "output_type": "stream",
     "text": [
      "{\n",
      "  \"args\": {}, \n",
      "  \"headers\": {\n",
      "    \"Accept\": \"*/*\", \n",
      "    \"Accept-Encoding\": \"gzip, deflate\", \n",
      "    \"Host\": \"httpbin.org\", \n",
      "    \"User-Agent\": \"python-requests/2.27.1\", \n",
      "    \"X-Amzn-Trace-Id\": \"Root=1-626ff09b-60e066c93b558d723525dc64\"\n",
      "  }, \n",
      "  \"origin\": \"112.196.30.231\", \n",
      "  \"url\": \"http://httpbin.org/get\"\n",
      "}\n",
      "\n"
     ]
    }
   ],
   "source": [
    "print(x.text)"
   ]
  },
  {
   "cell_type": "code",
   "execution_count": 17,
   "id": "f67d2d83",
   "metadata": {},
   "outputs": [
    {
     "data": {
      "text/plain": [
       "'http://httpbin.org/get?id=3'"
      ]
     },
     "execution_count": 17,
     "metadata": {},
     "output_type": "execute_result"
    }
   ],
   "source": [
    "x = requests.get('http://httpbin.org/get?id=3')\n",
    "x.url"
   ]
  },
  {
   "cell_type": "code",
   "execution_count": 18,
   "id": "3840e803",
   "metadata": {},
   "outputs": [
    {
     "name": "stdout",
     "output_type": "stream",
     "text": [
      "{\n",
      "  \"args\": {\n",
      "    \"id\": \"3\"\n",
      "  }, \n",
      "  \"headers\": {\n",
      "    \"Accept\": \"application/json\", \n",
      "    \"Accept-Encoding\": \"gzip, deflate\", \n",
      "    \"Host\": \"httpbin.org\", \n",
      "    \"User-Agent\": \"python-requests/2.27.1\", \n",
      "    \"X-Amzn-Trace-Id\": \"Root=1-626ff09d-203f42fe15582d0461e4f6d2\"\n",
      "  }, \n",
      "  \"origin\": \"112.196.30.231\", \n",
      "  \"url\": \"http://httpbin.org/get?id=3\"\n",
      "}\n",
      "\n"
     ]
    }
   ],
   "source": [
    "x = requests.get('http://httpbin.org/get', params={'id':'3'}, headers={'Accept':'application/json'})\n",
    "print(x.text)"
   ]
  },
  {
   "cell_type": "code",
   "execution_count": 19,
   "id": "de5742fc",
   "metadata": {},
   "outputs": [
    {
     "data": {
      "text/plain": [
       "<Response [200]>"
      ]
     },
     "execution_count": 19,
     "metadata": {},
     "output_type": "execute_result"
    }
   ],
   "source": [
    "x = requests.delete('http://httpbin.org/delete')\n",
    "x"
   ]
  },
  {
   "cell_type": "code",
   "execution_count": 20,
   "id": "7a62ce01",
   "metadata": {},
   "outputs": [
    {
     "name": "stdout",
     "output_type": "stream",
     "text": [
      "{\n",
      "  \"args\": {}, \n",
      "  \"data\": \"\", \n",
      "  \"files\": {}, \n",
      "  \"form\": {\n",
      "    \"id\": \"3\"\n",
      "  }, \n",
      "  \"headers\": {\n",
      "    \"Accept\": \"*/*\", \n",
      "    \"Accept-Encoding\": \"gzip, deflate\", \n",
      "    \"Content-Length\": \"4\", \n",
      "    \"Content-Type\": \"application/x-www-form-urlencoded\", \n",
      "    \"Host\": \"httpbin.org\", \n",
      "    \"User-Agent\": \"python-requests/2.27.1\", \n",
      "    \"X-Amzn-Trace-Id\": \"Root=1-626ff09e-6e5ca8c72b05c0a22be49122\"\n",
      "  }, \n",
      "  \"json\": null, \n",
      "  \"origin\": \"112.196.30.231\", \n",
      "  \"url\": \"http://httpbin.org/post\"\n",
      "}\n",
      "\n"
     ]
    }
   ],
   "source": [
    "x = requests.post('http://httpbin.org/post', data={'id':'3'})\n",
    "print(x.text)"
   ]
  },
  {
   "cell_type": "code",
   "execution_count": 21,
   "id": "357612ed",
   "metadata": {},
   "outputs": [
    {
     "name": "stdout",
     "output_type": "stream",
     "text": [
      "{\n",
      "  \"args\": {}, \n",
      "  \"headers\": {\n",
      "    \"Accept\": \"*/*\", \n",
      "    \"Accept-Encoding\": \"gzip, deflate\", \n",
      "    \"Authorization\": \"Basic c3VwZXI6c2VjcmV0\", \n",
      "    \"Host\": \"httpbin.org\", \n",
      "    \"User-Agent\": \"python-requests/2.27.1\", \n",
      "    \"X-Amzn-Trace-Id\": \"Root=1-626ff09f-3e1f61254413856412bff69c\"\n",
      "  }, \n",
      "  \"origin\": \"112.196.30.231\", \n",
      "  \"url\": \"http://httpbin.org/get\"\n",
      "}\n",
      "\n"
     ]
    }
   ],
   "source": [
    "x = requests.get('http://httpbin.org/get', auth=('super', 'secret'))\n",
    "print(x.text)"
   ]
  },
  {
   "cell_type": "code",
   "execution_count": 22,
   "id": "f52c568c",
   "metadata": {},
   "outputs": [
    {
     "name": "stdout",
     "output_type": "stream",
     "text": [
      "super:secret"
     ]
    }
   ],
   "source": [
    "!echo -ne c3VwZXI6c2VjcmV0 | base64 -d"
   ]
  },
  {
   "cell_type": "code",
   "execution_count": 24,
   "id": "bf9dca2b",
   "metadata": {},
   "outputs": [
    {
     "name": "stderr",
     "output_type": "stream",
     "text": [
      "/usr/lib/python3.10/site-packages/urllib3/connectionpool.py:1043: InsecureRequestWarning: Unverified HTTPS request is being made to host 'expired.badssl.com'. Adding certificate verification is strongly advised. See: https://urllib3.readthedocs.io/en/1.26.x/advanced-usage.html#ssl-warnings\n",
      "  warnings.warn(\n"
     ]
    }
   ],
   "source": [
    "x = requests.get('https://expired.badssl.com', verify=False)"
   ]
  },
  {
   "cell_type": "code",
   "execution_count": 25,
   "id": "d3e514ad",
   "metadata": {},
   "outputs": [
    {
     "data": {
      "text/plain": [
       "<Response [200]>"
      ]
     },
     "execution_count": 25,
     "metadata": {},
     "output_type": "execute_result"
    }
   ],
   "source": [
    "x = requests.get('http://github.com')\n",
    "x"
   ]
  },
  {
   "cell_type": "code",
   "execution_count": 26,
   "id": "b89d2f53",
   "metadata": {},
   "outputs": [
    {
     "data": {
      "text/plain": [
       "<Response [301]>"
      ]
     },
     "execution_count": 26,
     "metadata": {},
     "output_type": "execute_result"
    }
   ],
   "source": [
    "x = requests.get('http://github.com', allow_redirects=False)\n",
    "x"
   ]
  },
  {
   "cell_type": "code",
   "execution_count": 27,
   "id": "388196c7",
   "metadata": {},
   "outputs": [
    {
     "data": {
      "text/plain": [
       "b'{\\n  \"args\": {}, \\n  \"headers\": {\\n    \"Accept\": \"*/*\", \\n    \"Accept-Encoding\": \"gzip, deflate\", \\n    \"Host\": \"httpbin.org\", \\n    \"User-Agent\": \"python-requests/2.27.1\", \\n    \"X-Amzn-Trace-Id\": \"Root=1-626ff0b8-1338d09c309b49c65dcd5d37\"\\n  }, \\n  \"origin\": \"112.196.30.231\", \\n  \"url\": \"http://httpbin.org/get\"\\n}\\n'"
      ]
     },
     "execution_count": 27,
     "metadata": {},
     "output_type": "execute_result"
    }
   ],
   "source": [
    "x = requests.get('http://httpbin.org/get', timeout=1)\n",
    "x.content"
   ]
  },
  {
   "cell_type": "code",
   "execution_count": 28,
   "id": "cd122007",
   "metadata": {},
   "outputs": [
    {
     "data": {
      "text/plain": [
       "b'{\\n  \"cookies\": {\\n    \"a\": \"1\"\\n  }\\n}\\n'"
      ]
     },
     "execution_count": 28,
     "metadata": {},
     "output_type": "execute_result"
    }
   ],
   "source": [
    "x = requests.get('http://httpbin.org/cookies', cookies={'a':'1'})\n",
    "x.content"
   ]
  },
  {
   "cell_type": "code",
   "execution_count": 29,
   "id": "498466a4",
   "metadata": {},
   "outputs": [
    {
     "name": "stdout",
     "output_type": "stream",
     "text": [
      "{\n",
      "  \"cookies\": {\n",
      "    \"b\": \"2\"\n",
      "  }\n",
      "}\n",
      "\n"
     ]
    }
   ],
   "source": [
    "x = requests.Session()\n",
    "x.cookies.update({'b':'2'})\n",
    "print(x.get('http://httpbin.org/cookies').text)"
   ]
  },
  {
   "cell_type": "markdown",
   "id": "c2984c8d",
   "metadata": {},
   "source": [
    "## os"
   ]
  },
  {
   "cell_type": "code",
   "execution_count": 3,
   "id": "3f40d554",
   "metadata": {},
   "outputs": [],
   "source": [
    "import os"
   ]
  },
  {
   "cell_type": "code",
   "execution_count": 18,
   "id": "1376eded",
   "metadata": {},
   "outputs": [
    {
     "data": {
      "text/plain": [
       "<module 'os' from '/usr/lib/python3.10/os.py'>"
      ]
     },
     "execution_count": 18,
     "metadata": {},
     "output_type": "execute_result"
    }
   ],
   "source": [
    "os"
   ]
  },
  {
   "cell_type": "code",
   "execution_count": 19,
   "id": "5a0060d1",
   "metadata": {},
   "outputs": [
    {
     "data": {
      "text/plain": [
       "'posix'"
      ]
     },
     "execution_count": 19,
     "metadata": {},
     "output_type": "execute_result"
    }
   ],
   "source": [
    "os.name"
   ]
  },
  {
   "cell_type": "code",
   "execution_count": 5,
   "id": "ee09e622",
   "metadata": {},
   "outputs": [
    {
     "data": {
      "text/plain": [
       "'/home/ahampriyanshu/experimenting-with-data-science/intro-to-ml'"
      ]
     },
     "execution_count": 5,
     "metadata": {},
     "output_type": "execute_result"
    }
   ],
   "source": [
    "os.getcwd()"
   ]
  },
  {
   "cell_type": "code",
   "execution_count": 6,
   "id": "c86cb184",
   "metadata": {},
   "outputs": [
    {
     "data": {
      "text/plain": [
       "'/home/ahampriyanshu/experimenting-with-data-science'"
      ]
     },
     "execution_count": 6,
     "metadata": {},
     "output_type": "execute_result"
    }
   ],
   "source": [
    "os.chdir('../')\n",
    "os.getcwd()"
   ]
  },
  {
   "cell_type": "code",
   "execution_count": 7,
   "id": "61df3b98",
   "metadata": {},
   "outputs": [
    {
     "data": {
      "text/plain": [
       "['2004-to-2019-lok-sabha-elections',\n",
       " 'README.md',\n",
       " '.gitignore',\n",
       " 'PCIT-114',\n",
       " '.git',\n",
       " 'intro-to-ml',\n",
       " '2022-state-elections',\n",
       " 'uber-rides-analysis']"
      ]
     },
     "execution_count": 7,
     "metadata": {},
     "output_type": "execute_result"
    }
   ],
   "source": [
    "os.listdir()"
   ]
  },
  {
   "cell_type": "code",
   "execution_count": 17,
   "id": "92734796",
   "metadata": {},
   "outputs": [
    {
     "data": {
      "text/plain": [
       "['candidates', 'winners']"
      ]
     },
     "execution_count": 17,
     "metadata": {},
     "output_type": "execute_result"
    }
   ],
   "source": [
    "os.listdir('/home/ahampriyanshu/experimenting-with-data-science/2022-state-elections')"
   ]
  },
  {
   "cell_type": "code",
   "execution_count": 20,
   "id": "db9d227a",
   "metadata": {},
   "outputs": [
    {
     "data": {
      "text/plain": [
       "32"
      ]
     },
     "execution_count": 20,
     "metadata": {},
     "output_type": "execute_result"
    }
   ],
   "source": [
    "os.path.getsize('/home/ahampriyanshu/experimenting-with-data-science/README.md')"
   ]
  },
  {
   "cell_type": "code",
   "execution_count": 21,
   "id": "cc14de2b",
   "metadata": {},
   "outputs": [],
   "source": [
    "os.makedirs('/home/ahampriyanshu/experimenting-with-data-science/temp')"
   ]
  },
  {
   "cell_type": "code",
   "execution_count": 22,
   "id": "3bc8a38b",
   "metadata": {},
   "outputs": [
    {
     "data": {
      "text/plain": [
       "['2004-to-2019-lok-sabha-elections',\n",
       " 'temp',\n",
       " 'README.md',\n",
       " '.gitignore',\n",
       " 'PCIT-114',\n",
       " '.git',\n",
       " 'intro-to-ml',\n",
       " '2022-state-elections',\n",
       " 'uber-rides-analysis']"
      ]
     },
     "execution_count": 22,
     "metadata": {},
     "output_type": "execute_result"
    }
   ],
   "source": [
    "os.listdir('/home/ahampriyanshu/experimenting-with-data-science')"
   ]
  },
  {
   "cell_type": "code",
   "execution_count": 23,
   "id": "2cf3fb31",
   "metadata": {},
   "outputs": [],
   "source": [
    "os.rmdir('/home/ahampriyanshu/experimenting-with-data-science/temp')"
   ]
  },
  {
   "cell_type": "code",
   "execution_count": 26,
   "id": "c3faf5b2",
   "metadata": {},
   "outputs": [
    {
     "name": "stdout",
     "output_type": "stream",
     "text": [
      "['temp.txt', '2004-to-2019-lok-sabha-elections', 'README.md', '.gitignore', 'PCIT-114', '.git', 'intro-to-ml', '2022-state-elections', 'uber-rides-analysis']\n"
     ]
    }
   ],
   "source": [
    "with open(os.path.join(os.getcwd(), 'temp.txt'), 'w') as fp:\n",
    "    print(os.listdir(os.getcwd()))"
   ]
  },
  {
   "cell_type": "code",
   "execution_count": 27,
   "id": "1c0f225a",
   "metadata": {},
   "outputs": [],
   "source": [
    "os.remove(os.path.join(os.getcwd(), 'temp.txt'))"
   ]
  },
  {
   "cell_type": "code",
   "execution_count": 28,
   "id": "7024c871",
   "metadata": {},
   "outputs": [
    {
     "data": {
      "text/plain": [
       "['2004-to-2019-lok-sabha-elections',\n",
       " 'README.md',\n",
       " '.gitignore',\n",
       " 'PCIT-114',\n",
       " '.git',\n",
       " 'intro-to-ml',\n",
       " '2022-state-elections',\n",
       " 'uber-rides-analysis']"
      ]
     },
     "execution_count": 28,
     "metadata": {},
     "output_type": "execute_result"
    }
   ],
   "source": [
    "os.listdir(os.getcwd())"
   ]
  },
  {
   "cell_type": "markdown",
   "id": "e5452e81",
   "metadata": {},
   "source": [
    "## pwntools"
   ]
  },
  {
   "cell_type": "code",
   "execution_count": 30,
   "id": "646a8826",
   "metadata": {},
   "outputs": [],
   "source": [
    "from pwn import *"
   ]
  },
  {
   "cell_type": "code",
   "execution_count": 31,
   "id": "12f8a8c8",
   "metadata": {},
   "outputs": [
    {
     "name": "stdout",
     "output_type": "stream",
     "text": [
      "b'aaaabaaacaaadaaaeaaafaaagaaahaaaiaaajaaakaaalaaama'\n"
     ]
    }
   ],
   "source": [
    "print(cyclic(50))"
   ]
  },
  {
   "cell_type": "code",
   "execution_count": 32,
   "id": "0e8884a2",
   "metadata": {},
   "outputs": [
    {
     "name": "stdout",
     "output_type": "stream",
     "text": [
      "[!] cyclic_find() expected a 4-byte subsequence, you gave b'eaa'\n",
      "    Unless you specified cyclic(..., n=3), you probably just want the first 4 bytes.\n",
      "    Truncating the data at 4 bytes.  Specify cyclic_find(..., n=3) to override this.\n",
      "16\n"
     ]
    }
   ],
   "source": [
    "print(cyclic_find(\"eaa\"))"
   ]
  },
  {
   "cell_type": "code",
   "execution_count": 33,
   "id": "50ab33f8",
   "metadata": {},
   "outputs": [
    {
     "name": "stdout",
     "output_type": "stream",
     "text": [
      "    /* execve(path='/bin///sh', argv=['sh'], envp=0) */\n",
      "    /* push b'/bin///sh\\x00' */\n",
      "    push 0x68\n",
      "    push 0x732f2f2f\n",
      "    push 0x6e69622f\n",
      "    mov ebx, esp\n",
      "    /* push argument array ['sh\\x00'] */\n",
      "    /* push 'sh\\x00\\x00' */\n",
      "    push 0x1010101\n",
      "    xor dword ptr [esp], 0x1016972\n",
      "    xor ecx, ecx\n",
      "    push ecx /* null terminate */\n",
      "    push 4\n",
      "    pop ecx\n",
      "    add ecx, esp\n",
      "    push ecx /* 'sh\\x00' */\n",
      "    mov ecx, esp\n",
      "    xor edx, edx\n",
      "    /* call execve() */\n",
      "    push SYS_execve /* 0xb */\n",
      "    pop eax\n",
      "    int 0x80\n",
      "\n"
     ]
    }
   ],
   "source": [
    "print(shellcraft.sh())"
   ]
  },
  {
   "cell_type": "code",
   "execution_count": 34,
   "id": "2ee9e6fb",
   "metadata": {},
   "outputs": [
    {
     "name": "stdout",
     "output_type": "stream",
     "text": [
      "[*] '/bin/bash'\n",
      "    Arch:     amd64-64-little\n",
      "    RELRO:    Full RELRO\n",
      "    Stack:    Canary found\n",
      "    NX:       NX enabled\n",
      "    PIE:      PIE enabled\n"
     ]
    }
   ],
   "source": [
    "l = ELF('/bin/bash')"
   ]
  },
  {
   "cell_type": "code",
   "execution_count": 35,
   "id": "0722326e",
   "metadata": {},
   "outputs": [
    {
     "name": "stdout",
     "output_type": "stream",
     "text": [
      "0x0\n"
     ]
    }
   ],
   "source": [
    "hex(l.address)"
   ]
  },
  {
   "cell_type": "code",
   "execution_count": 36,
   "id": "f44f85d4",
   "metadata": {},
   "outputs": [
    {
     "data": {
      "text/plain": [
       "'0x22330'"
      ]
     },
     "execution_count": 36,
     "metadata": {},
     "output_type": "execute_result"
    }
   ],
   "source": [
    "hex(l.entry)"
   ]
  },
  {
   "cell_type": "code",
   "execution_count": 37,
   "id": "7d51c2ea",
   "metadata": {},
   "outputs": [
    {
     "name": "stdout",
     "output_type": "stream",
     "text": [
      "0x2296a\n",
      "0x22a26\n"
     ]
    }
   ],
   "source": [
    "for address in l.search(b'/bin/sh\\x00'):\n",
    "    print(hex(address))"
   ]
  },
  {
   "cell_type": "code",
   "execution_count": 38,
   "id": "8d450cad",
   "metadata": {},
   "outputs": [
    {
     "name": "stdout",
     "output_type": "stream",
     "text": [
      "0xdf433\n"
     ]
    }
   ],
   "source": [
    "print(hex(next(l.search(asm('jmp esp')))))"
   ]
  },
  {
   "cell_type": "code",
   "execution_count": 39,
   "id": "b63c64ba",
   "metadata": {},
   "outputs": [
    {
     "name": "stdout",
     "output_type": "stream",
     "text": [
      "[*] Loading gadgets for '/bin/bash'\n"
     ]
    },
    {
     "data": {
      "text/plain": [
       "Gadget(0x22733, ['pop rbx', 'ret'], ['rbx'], 0x8)"
      ]
     },
     "execution_count": 39,
     "metadata": {},
     "output_type": "execute_result"
    }
   ],
   "source": [
    "r = ROP(l)\n",
    "r.rbx"
   ]
  },
  {
   "cell_type": "code",
   "execution_count": 40,
   "id": "f750319a",
   "metadata": {},
   "outputs": [
    {
     "name": "stderr",
     "output_type": "stream",
     "text": [
      "/home/ahampriyanshu/.local/lib/python3.10/site-packages/pwnlib/util/fiddling.py:325: BytesWarning: Text is not bytes; assuming ASCII, no guarantees. See https://docs.pwntools.com/#bytes\n",
      "  strs = [packing.flat(s, word_size = 8, sign = False, endianness = 'little') for s in args]\n"
     ]
    },
    {
     "data": {
      "text/plain": [
       "b'\\x03'"
      ]
     },
     "execution_count": 40,
     "metadata": {},
     "output_type": "execute_result"
    }
   ],
   "source": [
    "xor(\"A\", \"B\")"
   ]
  },
  {
   "cell_type": "code",
   "execution_count": 41,
   "id": "d7895478",
   "metadata": {},
   "outputs": [
    {
     "data": {
      "text/plain": [
       "b'B'"
      ]
     },
     "execution_count": 41,
     "metadata": {},
     "output_type": "execute_result"
    }
   ],
   "source": [
    "xor(xor(\"A\", \"B\"), \"A\")"
   ]
  },
  {
   "cell_type": "code",
   "execution_count": 44,
   "id": "b87c2dce",
   "metadata": {},
   "outputs": [
    {
     "data": {
      "text/plain": [
       "'bWFuamFybw=='"
      ]
     },
     "execution_count": 44,
     "metadata": {},
     "output_type": "execute_result"
    }
   ],
   "source": [
    "b64e(b\"manjaro\")"
   ]
  },
  {
   "cell_type": "code",
   "execution_count": 46,
   "id": "30124ffd",
   "metadata": {},
   "outputs": [
    {
     "data": {
      "text/plain": [
       "b'manjaro'"
      ]
     },
     "execution_count": 46,
     "metadata": {},
     "output_type": "execute_result"
    }
   ],
   "source": [
    "b64d(b\"bWFuamFybw==\")"
   ]
  },
  {
   "cell_type": "code",
   "execution_count": 47,
   "id": "16810d5c",
   "metadata": {},
   "outputs": [
    {
     "data": {
      "text/plain": [
       "'8fbb65d5340a3da99b49da4a584f42bd'"
      ]
     },
     "execution_count": 47,
     "metadata": {},
     "output_type": "execute_result"
    }
   ],
   "source": [
    "md5sumhex(b\"manjaro\")"
   ]
  },
  {
   "cell_type": "code",
   "execution_count": 48,
   "id": "c6893059",
   "metadata": {},
   "outputs": [
    {
     "data": {
      "text/plain": [
       "'fdfbb71efa6115f541e469cfa9b77fbd464b07b3'"
      ]
     },
     "execution_count": 48,
     "metadata": {},
     "output_type": "execute_result"
    }
   ],
   "source": [
    "sha1sumhex(b\"manjaro\")"
   ]
  },
  {
   "cell_type": "code",
   "execution_count": 49,
   "id": "ee9c35b7",
   "metadata": {},
   "outputs": [
    {
     "data": {
      "text/plain": [
       "[0, 1, 1, 0, 0, 0, 0, 1]"
      ]
     },
     "execution_count": 49,
     "metadata": {},
     "output_type": "execute_result"
    }
   ],
   "source": [
    "bits(b'a')"
   ]
  },
  {
   "cell_type": "code",
   "execution_count": 50,
   "id": "52318681",
   "metadata": {
    "scrolled": true
   },
   "outputs": [
    {
     "data": {
      "text/plain": [
       "b'a'"
      ]
     },
     "execution_count": 50,
     "metadata": {},
     "output_type": "execute_result"
    }
   ],
   "source": [
    "unbits([0, 1, 1, 0, 0, 0, 0, 1])"
   ]
  },
  {
   "cell_type": "markdown",
   "id": "7ab0cfd7",
   "metadata": {},
   "source": [
    "## Conditional operator"
   ]
  },
  {
   "cell_type": "code",
   "execution_count": 15,
   "id": "e01cb33e",
   "metadata": {},
   "outputs": [
    {
     "name": "stdout",
     "output_type": "stream",
     "text": [
      "20\n",
      "even\n"
     ]
    }
   ],
   "source": [
    "a = int(input())\n",
    "\n",
    "if a%2 == 0:\n",
    "    print('even')\n",
    "else:\n",
    "    print('odd')"
   ]
  },
  {
   "cell_type": "markdown",
   "id": "1c4e8fe6",
   "metadata": {},
   "source": [
    "## Loops"
   ]
  },
  {
   "cell_type": "markdown",
   "id": "01177b52",
   "metadata": {},
   "source": [
    "### For Loop"
   ]
  },
  {
   "cell_type": "code",
   "execution_count": 15,
   "id": "4c476f1c",
   "metadata": {},
   "outputs": [
    {
     "name": "stdout",
     "output_type": "stream",
     "text": [
      "the\n",
      "meaning\n",
      "of\n",
      "life\n"
     ]
    }
   ],
   "source": [
    "items = [\"the\", \"meaning\", \"of\", \"life\"]\n",
    "for item in items:\n",
    "  print(item)"
   ]
  },
  {
   "cell_type": "code",
   "execution_count": 14,
   "id": "9d2698fe",
   "metadata": {},
   "outputs": [
    {
     "name": "stdout",
     "output_type": "stream",
     "text": [
      "0\n",
      "1\n",
      "2\n",
      "3\n",
      "4\n",
      "5\n",
      "6\n",
      "7\n",
      "8\n",
      "9\n"
     ]
    }
   ],
   "source": [
    "for i in range(10):\n",
    "    print(i)"
   ]
  },
  {
   "cell_type": "code",
   "execution_count": 16,
   "id": "0f8b021b",
   "metadata": {},
   "outputs": [
    {
     "name": "stdout",
     "output_type": "stream",
     "text": [
      "1\n",
      "2\n",
      "3\n",
      "4\n",
      "5\n",
      "6\n",
      "7\n",
      "8\n",
      "9\n",
      "10\n"
     ]
    }
   ],
   "source": [
    "for i in range(1,11):\n",
    "    print(i)"
   ]
  },
  {
   "cell_type": "code",
   "execution_count": 17,
   "id": "093de673",
   "metadata": {},
   "outputs": [
    {
     "name": "stdout",
     "output_type": "stream",
     "text": [
      "10\n",
      "9\n",
      "8\n",
      "7\n",
      "6\n",
      "5\n",
      "4\n",
      "3\n",
      "2\n",
      "1\n"
     ]
    }
   ],
   "source": [
    "for i in range(10,0,-1):\n",
    "    print(i)"
   ]
  },
  {
   "cell_type": "markdown",
   "id": "5bc1bb37",
   "metadata": {},
   "source": [
    "### While Loop"
   ]
  },
  {
   "cell_type": "code",
   "execution_count": 2,
   "id": "0626c69f",
   "metadata": {},
   "outputs": [
    {
     "name": "stdout",
     "output_type": "stream",
     "text": [
      "0\n",
      "1\n",
      "2\n",
      "3\n",
      "4\n",
      "5\n",
      "6\n",
      "7\n",
      "8\n",
      "9\n"
     ]
    }
   ],
   "source": [
    "i = 0\n",
    "while i < 10:\n",
    "  print(i)\n",
    "  i += 1"
   ]
  },
  {
   "cell_type": "markdown",
   "id": "7feb2870",
   "metadata": {},
   "source": [
    "## Patterns"
   ]
  },
  {
   "cell_type": "markdown",
   "id": "5fffe09c",
   "metadata": {},
   "source": [
    "### Square"
   ]
  },
  {
   "cell_type": "code",
   "execution_count": 5,
   "id": "f78b348e",
   "metadata": {},
   "outputs": [
    {
     "name": "stdout",
     "output_type": "stream",
     "text": [
      "5\n",
      "1 1 1 1 1 \n",
      "2 2 2 2 2 \n",
      "3 3 3 3 3 \n",
      "4 4 4 4 4 \n",
      "5 5 5 5 5 \n"
     ]
    }
   ],
   "source": [
    "n = int(input())\n",
    "i = 1\n",
    "while i <= n :\n",
    "    j = 1\n",
    "    while j <= n:\n",
    "        print(i, end = ' ')\n",
    "        j = j + 1\n",
    "    print()\n",
    "    i = i + 1"
   ]
  },
  {
   "cell_type": "code",
   "execution_count": 6,
   "id": "ffec9a3b",
   "metadata": {},
   "outputs": [
    {
     "name": "stdout",
     "output_type": "stream",
     "text": [
      "5\n",
      "1 2 3 4 5 \n",
      "1 2 3 4 5 \n",
      "1 2 3 4 5 \n",
      "1 2 3 4 5 \n",
      "1 2 3 4 5 \n"
     ]
    }
   ],
   "source": [
    "n = int(input())\n",
    "i = 1\n",
    "while i <= n :\n",
    "    j = 1\n",
    "    while j <= n:\n",
    "        print(j, end = ' ')\n",
    "        j = j + 1\n",
    "    print()\n",
    "    i = i + 1"
   ]
  },
  {
   "cell_type": "code",
   "execution_count": 7,
   "id": "b92340fc",
   "metadata": {},
   "outputs": [
    {
     "name": "stdout",
     "output_type": "stream",
     "text": [
      "5\n",
      "5 4 3 2 1 \n",
      "5 4 3 2 1 \n",
      "5 4 3 2 1 \n",
      "5 4 3 2 1 \n",
      "5 4 3 2 1 \n"
     ]
    }
   ],
   "source": [
    "n = int(input())\n",
    "i = 1\n",
    "while i <= n :\n",
    "    j = 1\n",
    "    while j <= n:\n",
    "        print(n-j+1, end = ' ')\n",
    "        j = j + 1\n",
    "    print()\n",
    "    i = i + 1"
   ]
  },
  {
   "cell_type": "markdown",
   "id": "4ccd6923",
   "metadata": {},
   "source": [
    "### Triangle "
   ]
  },
  {
   "cell_type": "code",
   "execution_count": 12,
   "id": "208d4913",
   "metadata": {},
   "outputs": [
    {
     "name": "stdout",
     "output_type": "stream",
     "text": [
      "5\n",
      "1 \n",
      "1 2 \n",
      "1 2 3 \n",
      "1 2 3 4 \n",
      "1 2 3 4 5 \n"
     ]
    }
   ],
   "source": [
    "n = int(input())\n",
    "i = 1\n",
    "while i <= n :\n",
    "    j = 1\n",
    "    while j <= i :\n",
    "        print(j, end = ' ')\n",
    "        j = j + 1\n",
    "    print()\n",
    "    i = i + 1"
   ]
  },
  {
   "cell_type": "code",
   "execution_count": 14,
   "id": "5ae95019",
   "metadata": {},
   "outputs": [
    {
     "name": "stdout",
     "output_type": "stream",
     "text": [
      "5\n",
      "1 \n",
      "2 3 \n",
      "3 4 5 \n",
      "4 5 6 7 \n",
      "5 6 7 8 9 \n"
     ]
    }
   ],
   "source": [
    "n = int(input())\n",
    "i = 1\n",
    "while i <= n :\n",
    "    j = i\n",
    "    k = 1\n",
    "    while k <= i :\n",
    "        print(j, end = ' ')\n",
    "        k = k + 1\n",
    "        j = j + 1\n",
    "    print()\n",
    "    i = i + 1"
   ]
  },
  {
   "cell_type": "code",
   "execution_count": 19,
   "id": "3d1a8fa6",
   "metadata": {},
   "outputs": [
    {
     "name": "stdout",
     "output_type": "stream",
     "text": [
      "5\n",
      "1 \n",
      "2 3 \n",
      "4 5 6 \n",
      "7 8 9 10 \n",
      "11 12 13 14 15 \n"
     ]
    }
   ],
   "source": [
    "n = int(input())\n",
    "i = 1\n",
    "t = 1\n",
    "while i <= n :\n",
    "    j = 1\n",
    "    while j <= i :\n",
    "        print(t, end = ' ')\n",
    "        t = t + 1\n",
    "        j = j + 1\n",
    "    print()\n",
    "    i = i + 1"
   ]
  },
  {
   "cell_type": "code",
   "execution_count": 20,
   "id": "047a8359",
   "metadata": {},
   "outputs": [
    {
     "name": "stdout",
     "output_type": "stream",
     "text": [
      "5\n",
      "1 \n",
      "2 2 \n",
      "3 3 3 \n",
      "4 4 4 4 \n",
      "5 5 5 5 5 \n"
     ]
    }
   ],
   "source": [
    "n = int(input())\n",
    "i = 1\n",
    "while i <= n:\n",
    "    j = 1\n",
    "    while j <= i:\n",
    "        print(i, end = ' ')\n",
    "        j = j + 1\n",
    "    print()\n",
    "    i = i + 1"
   ]
  },
  {
   "cell_type": "code",
   "execution_count": 22,
   "id": "51a682ae",
   "metadata": {},
   "outputs": [
    {
     "name": "stdout",
     "output_type": "stream",
     "text": [
      "5\n",
      "1 \n",
      "2 1 \n",
      "3 2 1 \n",
      "4 3 2 1 \n",
      "5 4 3 2 1 \n"
     ]
    }
   ],
   "source": [
    "n = int(input())\n",
    "i = 1\n",
    "while i <= n:\n",
    "    j = i\n",
    "    while j > 0:\n",
    "        print(j, end = ' ')\n",
    "        j = j - 1\n",
    "    print()\n",
    "    i = i + 1"
   ]
  },
  {
   "cell_type": "markdown",
   "id": "8b5cb1c4",
   "metadata": {},
   "source": [
    "### Characters"
   ]
  },
  {
   "cell_type": "code",
   "execution_count": 24,
   "id": "9f87011a",
   "metadata": {},
   "outputs": [
    {
     "name": "stdout",
     "output_type": "stream",
     "text": [
      "5\n",
      "A B C D E \n",
      "A B C D E \n",
      "A B C D E \n",
      "A B C D E \n",
      "A B C D E \n"
     ]
    }
   ],
   "source": [
    "n = int(input())\n",
    "i = 1\n",
    "while i <= n :\n",
    "    j = 1\n",
    "    while j <= n:\n",
    "        print(chr(ord('A') + j -1), end = ' ')\n",
    "        j = j + 1\n",
    "    print()\n",
    "    i = i + 1"
   ]
  },
  {
   "cell_type": "code",
   "execution_count": 3,
   "id": "a19f5c1a",
   "metadata": {},
   "outputs": [
    {
     "name": "stdout",
     "output_type": "stream",
     "text": [
      "5\n",
      "A B C D E \n",
      "B C D E F \n",
      "C D E F G \n",
      "D E F G H \n",
      "E F G H I \n"
     ]
    }
   ],
   "source": [
    "n = int(input())\n",
    "i = 1\n",
    "while i <= n :\n",
    "    j = 1\n",
    "    start = chr(ord('A') + i -1)\n",
    "    while j <= n:\n",
    "        print(chr(ord(start) + j -1), end = ' ')\n",
    "        j = j + 1\n",
    "    print()\n",
    "    i = i + 1"
   ]
  },
  {
   "cell_type": "markdown",
   "id": "3dc5caed",
   "metadata": {},
   "source": [
    "### Inverted"
   ]
  },
  {
   "cell_type": "code",
   "execution_count": 5,
   "id": "1673a1a6",
   "metadata": {},
   "outputs": [
    {
     "name": "stdout",
     "output_type": "stream",
     "text": [
      "5\n",
      "* * * * * \n",
      "* * * * \n",
      "* * * \n",
      "* * \n",
      "* \n"
     ]
    }
   ],
   "source": [
    "n = int(input())\n",
    "i = 1\n",
    "while i <= n:\n",
    "    j = 1\n",
    "    while j <= n - i + 1:\n",
    "        print('*', end=' ')\n",
    "        j = j + 1\n",
    "    print()\n",
    "    i = i + 1"
   ]
  },
  {
   "cell_type": "markdown",
   "id": "6c8f526b",
   "metadata": {},
   "source": [
    "### Reversed"
   ]
  },
  {
   "cell_type": "code",
   "execution_count": 2,
   "id": "68c134a1",
   "metadata": {},
   "outputs": [
    {
     "name": "stdout",
     "output_type": "stream",
     "text": [
      "5\n",
      "        * \n",
      "      * * \n",
      "    * * * \n",
      "  * * * * \n",
      "* * * * * \n"
     ]
    }
   ],
   "source": [
    "n = int(input())\n",
    "i = 1\n",
    "while i <= n:\n",
    "    j = n - i\n",
    "    star = i\n",
    "    while j > 0:\n",
    "        print(' ', end=' ')\n",
    "        j = j - 1\n",
    "    while star > 0:\n",
    "        print('*', end=' ')\n",
    "        star = star - 1\n",
    "    print()\n",
    "    i = i + 1"
   ]
  },
  {
   "cell_type": "code",
   "execution_count": 3,
   "id": "29b6afbc",
   "metadata": {},
   "outputs": [
    {
     "name": "stdout",
     "output_type": "stream",
     "text": [
      "5\n",
      "        * \n",
      "      * * * \n",
      "    * * * * * \n",
      "  * * * * * * * \n",
      "* * * * * * * * * \n"
     ]
    }
   ],
   "source": [
    "n = int(input())\n",
    "i = 1\n",
    "while i <= n:\n",
    "    j = n - i\n",
    "    star = i\n",
    "    while j > 0:\n",
    "        print(' ', end=' ')\n",
    "        j = j - 1\n",
    "    while star > 0:\n",
    "        print('*', end=' ')\n",
    "        star = star - 1\n",
    "    p = i - 1\n",
    "    while p >= 1:\n",
    "        print('*', end=' ')\n",
    "        p = p - 1\n",
    "    print()\n",
    "    i = i + 1"
   ]
  }
 ],
 "metadata": {
  "kernelspec": {
   "display_name": "Python 3 (ipykernel)",
   "language": "python",
   "name": "python3"
  },
  "language_info": {
   "codemirror_mode": {
    "name": "ipython",
    "version": 3
   },
   "file_extension": ".py",
   "mimetype": "text/x-python",
   "name": "python",
   "nbconvert_exporter": "python",
   "pygments_lexer": "ipython3",
   "version": "3.10.4"
  }
 },
 "nbformat": 4,
 "nbformat_minor": 5
}
