{
 "cells": [
  {
   "cell_type": "markdown",
   "metadata": {},
   "source": [
    "# EDA of Uttar Pradesh 2022 \n",
    "\n",
    "* [myneta.info](https://myneta.info/)\n",
    "\n",
    "Constituencies | Candidates | Women Candidates\n",
    "--- | --- | ---\n",
    "403 | 4406 | 560"
   ]
  },
  {
   "cell_type": "markdown",
   "metadata": {},
   "source": [
    "## Extracting data using bs4"
   ]
  },
  {
   "cell_type": "code",
   "execution_count": 1,
   "metadata": {},
   "outputs": [],
   "source": [
    "import pandas as pd\n",
    "from urllib.request import urlopen\n",
    "from bs4 import BeautifulSoup\n",
    "from tabulate import tabulate"
   ]
  },
  {
   "cell_type": "code",
   "execution_count": 2,
   "metadata": {},
   "outputs": [],
   "source": [
    "header = [\"Candidate\", \"Party\", \"Criminal Cases\", \"Education\", \"Age\", \"Total Assets\", \"Liabilities\"]"
   ]
  },
  {
   "cell_type": "code",
   "execution_count": 3,
   "metadata": {},
   "outputs": [
    {
     "data": {
      "text/plain": [
       "'List of Candidates in BEHAT : SAHARANPUR Uttar Pradesh 2022 '"
      ]
     },
     "execution_count": 3,
     "metadata": {},
     "output_type": "execute_result"
    }
   ],
   "source": [
    "url = \"https://myneta.info/Uttarpradesh2022/index.php?action=show_candidates&constituency_id=1\"\n",
    "html = urlopen(url)\n",
    "soup = BeautifulSoup(html,'html.parser')\n",
    "title = soup.title.text\n",
    "title"
   ]
  },
  {
   "cell_type": "code",
   "execution_count": 4,
   "metadata": {},
   "outputs": [
    {
     "data": {
      "text/plain": [
       "'BEHAT.csv'"
      ]
     },
     "execution_count": 4,
     "metadata": {},
     "output_type": "execute_result"
    }
   ],
   "source": [
    "title = title.split()\n",
    "filename = title[4] + '.csv'\n",
    "filename"
   ]
  },
  {
   "cell_type": "code",
   "execution_count": 5,
   "metadata": {},
   "outputs": [
    {
     "data": {
      "text/plain": [
       "[<tr>\n",
       " <th>Candidate</th><th>Party</th>\n",
       " <th align=\"center\">Criminal Cases</th>\n",
       " <th>Education</th>\n",
       " <th>Age</th>\n",
       " <th align=\"right\">Total Assets</th>\n",
       " <th align=\"right\">Liabilities</th>\n",
       " </tr>,\n",
       " <tr onmouseout=\"this.style.backgroundColor='#ffffff'\" onmouseover=\"this.style.backgroundColor='skyblue'\" style=\"font-family:verdana;font-size:80%;\">\n",
       " <td><a href=\"candidate.php?candidate_id=1208\">Ali Khan</a><b></b></td>\n",
       " <td>IND</td>\n",
       " <td align=\"center\" style=\"\"><span style=\"color:red;font-weight:bold;font-size:150%\"> 1 </span></td>\n",
       " <td>10th Pass</td><td>31</td>\n",
       " <td align=\"right\">Rs 2,35,42,241<br/><span style=\"color:black;font-size:70%;text-decoration:none;white-space:nowrap\"> ~ 2 Crore+</span></td>\n",
       " <td align=\"right\">Rs 0<br/><span style=\"color:black;font-size:70%;text-decoration:none;white-space:nowrap\"> ~ </span></td>\n",
       " </tr>,\n",
       " <tr onmouseout=\"this.style.backgroundColor='#ffffff'\" onmouseover=\"this.style.backgroundColor='skyblue'\" style=\"font-family:verdana;font-size:80%;\">\n",
       " <td><a href=\"candidate.php?candidate_id=1395\">Dharam Pal Singh</a><b></b></td>\n",
       " <td>IND</td>\n",
       " <td align=\"center\" style=\"\">0</td>\n",
       " <td>Graduate</td><td>46</td>\n",
       " <td align=\"right\">Rs 55,65,000<br/><span style=\"color:black;font-size:70%;text-decoration:none;white-space:nowrap\"> ~ 55 Lacs+</span></td>\n",
       " <td align=\"right\">Rs 0<br/><span style=\"color:black;font-size:70%;text-decoration:none;white-space:nowrap\"> ~ </span></td>\n",
       " </tr>,\n",
       " <tr onmouseout=\"this.style.backgroundColor='#ffffff'\" onmouseover=\"this.style.backgroundColor='skyblue'\" style=\"font-family:verdana;font-size:80%;\">\n",
       " <td><a href=\"candidate.php?candidate_id=1206\">Mo. Ikram</a><b></b></td>\n",
       " <td>IND</td>\n",
       " <td align=\"center\" style=\"\">0</td>\n",
       " <td>5th Pass</td><td>47</td>\n",
       " <td align=\"right\">Rs 24,81,845<br/><span style=\"color:black;font-size:70%;text-decoration:none;white-space:nowrap\"> ~ 24 Lacs+</span></td>\n",
       " <td align=\"right\">Rs 2,00,000<br/><span style=\"color:black;font-size:70%;text-decoration:none;white-space:nowrap\"> ~ 2 Lacs+</span></td>\n",
       " </tr>,\n",
       " <tr onmouseout=\"this.style.backgroundColor='#ffffff'\" onmouseover=\"this.style.backgroundColor='skyblue'\" style=\"font-family:verdana;font-size:80%;\">\n",
       " <td><a href=\"candidate.php?candidate_id=850\">Naresh Saini</a><b></b></td>\n",
       " <td>BJP</td>\n",
       " <td align=\"center\" style=\"\">0</td>\n",
       " <td>Post Graduate</td><td>57</td>\n",
       " <td align=\"right\">Rs 2,95,06,003<br/><span style=\"color:black;font-size:70%;text-decoration:none;white-space:nowrap\"> ~ 2 Crore+</span></td>\n",
       " <td align=\"right\">Rs 57,79,181<br/><span style=\"color:black;font-size:70%;text-decoration:none;white-space:nowrap\"> ~ 57 Lacs+</span></td>\n",
       " </tr>,\n",
       " <tr onmouseout=\"this.style.backgroundColor='#ffffff'\" onmouseover=\"this.style.backgroundColor='skyblue'\" style=\"font-family:verdana;font-size:80%;\">\n",
       " <td><a href=\"candidate.php?candidate_id=920\">Poonam Kamboj</a><b></b></td>\n",
       " <td>INC</td>\n",
       " <td align=\"center\" style=\"\">0</td>\n",
       " <td>Post Graduate</td><td>36</td>\n",
       " <td align=\"right\">Rs 1,35,52,777<br/><span style=\"color:black;font-size:70%;text-decoration:none;white-space:nowrap\"> ~ 1 Crore+</span></td>\n",
       " <td align=\"right\">Rs 18,00,000<br/><span style=\"color:black;font-size:70%;text-decoration:none;white-space:nowrap\"> ~ 18 Lacs+</span></td>\n",
       " </tr>,\n",
       " <tr onmouseout=\"this.style.backgroundColor='#ffffff'\" onmouseover=\"this.style.backgroundColor='skyblue'\" style=\"font-family:verdana;font-size:80%;\">\n",
       " <td><a href=\"candidate.php?candidate_id=1205\">Rais Malik</a><b></b></td>\n",
       " <td>BSP</td>\n",
       " <td align=\"center\" style=\"\">0</td>\n",
       " <td>8th Pass</td><td>54</td>\n",
       " <td align=\"right\">Rs 4,34,52,000<br/><span style=\"color:black;font-size:70%;text-decoration:none;white-space:nowrap\"> ~ 4 Crore+</span></td>\n",
       " <td align=\"right\">Rs 0<br/><span style=\"color:black;font-size:70%;text-decoration:none;white-space:nowrap\"> ~ </span></td>\n",
       " </tr>,\n",
       " <tr onmouseout=\"this.style.backgroundColor='#ffffff'\" onmouseover=\"this.style.backgroundColor='skyblue'\" style=\"font-family:verdana;font-size:80%;\">\n",
       " <td><a href=\"candidate.php?candidate_id=1399\">Sushil Kumar</a><b></b></td>\n",
       " <td>AAP</td>\n",
       " <td align=\"center\" style=\"\">0</td>\n",
       " <td>10th Pass</td><td>38</td>\n",
       " <td align=\"right\">Rs 24,09,500<br/><span style=\"color:black;font-size:70%;text-decoration:none;white-space:nowrap\"> ~ 24 Lacs+</span></td>\n",
       " <td align=\"right\">Rs 0<br/><span style=\"color:black;font-size:70%;text-decoration:none;white-space:nowrap\"> ~ </span></td>\n",
       " </tr>,\n",
       " <tr onmouseout=\"this.style.backgroundColor='#ffffff'\" onmouseover=\"this.style.backgroundColor='skyblue'\" style=\"font-family:verdana;font-size:80%;\">\n",
       " <td><a href=\"candidate.php?candidate_id=849\">Umar Ali Khan</a><b></b></td>\n",
       " <td>SP</td>\n",
       " <td align=\"center\" style=\"\"><span style=\"color:red;font-weight:bold;font-size:150%\"> 1 </span></td>\n",
       " <td>Post Graduate</td><td>44</td>\n",
       " <td align=\"right\">Rs 5,80,38,001<br/><span style=\"color:black;font-size:70%;text-decoration:none;white-space:nowrap\"> ~ 5 Crore+</span></td>\n",
       " <td align=\"right\">Rs 14,06,216<br/><span style=\"color:black;font-size:70%;text-decoration:none;white-space:nowrap\"> ~ 14 Lacs+</span></td>\n",
       " </tr>]"
      ]
     },
     "execution_count": 5,
     "metadata": {},
     "output_type": "execute_result"
    }
   ],
   "source": [
    "table = soup.find(\"table\", {\"id\": \"table1\"})\n",
    "rows = table.find_all('tr')\n",
    "rows"
   ]
  },
  {
   "cell_type": "code",
   "execution_count": 6,
   "metadata": {},
   "outputs": [],
   "source": [
    "def inr_to_int(text):\n",
    "    try:\n",
    "        text = text.split()\n",
    "        text = text[1].replace(\",\", \"\")\n",
    "    except:\n",
    "        return 0\n",
    "    return int(text)"
   ]
  },
  {
   "cell_type": "code",
   "execution_count": 7,
   "metadata": {},
   "outputs": [
    {
     "data": {
      "text/plain": [
       "[['Ali Khan', 'IND', ' 1 ', '10th Pass', '31', 23542241, 0],\n",
       " ['Dharam Pal Singh', 'IND', '0', 'Graduate', '46', 5565000, 0],\n",
       " ['Mo. Ikram', 'IND', '0', '5th Pass', '47', 2481845, 200000],\n",
       " ['Naresh Saini', 'BJP', '0', 'Post Graduate', '57', 29506003, 5779181],\n",
       " ['Poonam Kamboj', 'INC', '0', 'Post Graduate', '36', 13552777, 1800000],\n",
       " ['Rais Malik', 'BSP', '0', '8th Pass', '54', 43452000, 0],\n",
       " ['Sushil Kumar', 'AAP', '0', '10th Pass', '38', 2409500, 0],\n",
       " ['Umar Ali Khan', 'SP', ' 1 ', 'Post Graduate', '44', 58038001, 1406216]]"
      ]
     },
     "execution_count": 7,
     "metadata": {},
     "output_type": "execute_result"
    }
   ],
   "source": [
    "data = []\n",
    "total_rows = len(rows)\n",
    "for i in range(1, total_rows):\n",
    "    col_data = []\n",
    "    cols = rows[i].find_all('td')\n",
    "    total_cols = len(cols)\n",
    "    for i in range(total_cols):\n",
    "        if i > 4:\n",
    "            col_data.append(inr_to_int(cols[i].text))\n",
    "        else:\n",
    "            col_data.append(cols[i].text)\n",
    "    data.append(col_data)\n",
    "data"
   ]
  },
  {
   "cell_type": "code",
   "execution_count": 8,
   "metadata": {},
   "outputs": [
    {
     "data": {
      "text/plain": [
       "'╒══════════════════╤═════════╤══════════════════╤═══════════════╤═══════╤════════════════╤═══════════════╕\\n│ Candidate        │ Party   │   Criminal Cases │ Education     │   Age │   Total Assets │   Liabilities │\\n╞══════════════════╪═════════╪══════════════════╪═══════════════╪═══════╪════════════════╪═══════════════╡\\n│ Ali Khan         │ IND     │               1  │ 10th Pass     │    31 │       23542241 │             0 │\\n├──────────────────┼─────────┼──────────────────┼───────────────┼───────┼────────────────┼───────────────┤\\n│ Dharam Pal Singh │ IND     │                0 │ Graduate      │    46 │        5565000 │             0 │\\n├──────────────────┼─────────┼──────────────────┼───────────────┼───────┼────────────────┼───────────────┤\\n│ Mo. Ikram        │ IND     │                0 │ 5th Pass      │    47 │        2481845 │        200000 │\\n├──────────────────┼─────────┼──────────────────┼───────────────┼───────┼────────────────┼───────────────┤\\n│ Naresh Saini     │ BJP     │                0 │ Post Graduate │    57 │       29506003 │       5779181 │\\n├──────────────────┼─────────┼──────────────────┼───────────────┼───────┼────────────────┼───────────────┤\\n│ Poonam Kamboj    │ INC     │                0 │ Post Graduate │    36 │       13552777 │       1800000 │\\n├──────────────────┼─────────┼──────────────────┼───────────────┼───────┼────────────────┼───────────────┤\\n│ Rais Malik       │ BSP     │                0 │ 8th Pass      │    54 │       43452000 │             0 │\\n├──────────────────┼─────────┼──────────────────┼───────────────┼───────┼────────────────┼───────────────┤\\n│ Sushil Kumar     │ AAP     │                0 │ 10th Pass     │    38 │        2409500 │             0 │\\n├──────────────────┼─────────┼──────────────────┼───────────────┼───────┼────────────────┼───────────────┤\\n│ Umar Ali Khan    │ SP      │               1  │ Post Graduate │    44 │       58038001 │       1406216 │\\n╘══════════════════╧═════════╧══════════════════╧═══════════════╧═══════╧════════════════╧═══════════════╛'"
      ]
     },
     "execution_count": 8,
     "metadata": {},
     "output_type": "execute_result"
    }
   ],
   "source": [
    "tabulate(data, headers=header, tablefmt='fancy_grid')"
   ]
  },
  {
   "cell_type": "code",
   "execution_count": 9,
   "metadata": {},
   "outputs": [
    {
     "data": {
      "text/html": [
       "<div>\n",
       "<style scoped>\n",
       "    .dataframe tbody tr th:only-of-type {\n",
       "        vertical-align: middle;\n",
       "    }\n",
       "\n",
       "    .dataframe tbody tr th {\n",
       "        vertical-align: top;\n",
       "    }\n",
       "\n",
       "    .dataframe thead th {\n",
       "        text-align: right;\n",
       "    }\n",
       "</style>\n",
       "<table border=\"1\" class=\"dataframe\">\n",
       "  <thead>\n",
       "    <tr style=\"text-align: right;\">\n",
       "      <th></th>\n",
       "      <th>Candidate</th>\n",
       "      <th>Party</th>\n",
       "      <th>Criminal Cases</th>\n",
       "      <th>Education</th>\n",
       "      <th>Age</th>\n",
       "      <th>Total Assets</th>\n",
       "      <th>Liabilities</th>\n",
       "    </tr>\n",
       "  </thead>\n",
       "  <tbody>\n",
       "    <tr>\n",
       "      <th>0</th>\n",
       "      <td>Ali Khan</td>\n",
       "      <td>IND</td>\n",
       "      <td>1</td>\n",
       "      <td>10th Pass</td>\n",
       "      <td>31</td>\n",
       "      <td>23542241</td>\n",
       "      <td>0</td>\n",
       "    </tr>\n",
       "    <tr>\n",
       "      <th>1</th>\n",
       "      <td>Dharam Pal Singh</td>\n",
       "      <td>IND</td>\n",
       "      <td>0</td>\n",
       "      <td>Graduate</td>\n",
       "      <td>46</td>\n",
       "      <td>5565000</td>\n",
       "      <td>0</td>\n",
       "    </tr>\n",
       "    <tr>\n",
       "      <th>2</th>\n",
       "      <td>Mo. Ikram</td>\n",
       "      <td>IND</td>\n",
       "      <td>0</td>\n",
       "      <td>5th Pass</td>\n",
       "      <td>47</td>\n",
       "      <td>2481845</td>\n",
       "      <td>200000</td>\n",
       "    </tr>\n",
       "    <tr>\n",
       "      <th>3</th>\n",
       "      <td>Naresh Saini</td>\n",
       "      <td>BJP</td>\n",
       "      <td>0</td>\n",
       "      <td>Post Graduate</td>\n",
       "      <td>57</td>\n",
       "      <td>29506003</td>\n",
       "      <td>5779181</td>\n",
       "    </tr>\n",
       "    <tr>\n",
       "      <th>4</th>\n",
       "      <td>Poonam Kamboj</td>\n",
       "      <td>INC</td>\n",
       "      <td>0</td>\n",
       "      <td>Post Graduate</td>\n",
       "      <td>36</td>\n",
       "      <td>13552777</td>\n",
       "      <td>1800000</td>\n",
       "    </tr>\n",
       "    <tr>\n",
       "      <th>5</th>\n",
       "      <td>Rais Malik</td>\n",
       "      <td>BSP</td>\n",
       "      <td>0</td>\n",
       "      <td>8th Pass</td>\n",
       "      <td>54</td>\n",
       "      <td>43452000</td>\n",
       "      <td>0</td>\n",
       "    </tr>\n",
       "    <tr>\n",
       "      <th>6</th>\n",
       "      <td>Sushil Kumar</td>\n",
       "      <td>AAP</td>\n",
       "      <td>0</td>\n",
       "      <td>10th Pass</td>\n",
       "      <td>38</td>\n",
       "      <td>2409500</td>\n",
       "      <td>0</td>\n",
       "    </tr>\n",
       "    <tr>\n",
       "      <th>7</th>\n",
       "      <td>Umar Ali Khan</td>\n",
       "      <td>SP</td>\n",
       "      <td>1</td>\n",
       "      <td>Post Graduate</td>\n",
       "      <td>44</td>\n",
       "      <td>58038001</td>\n",
       "      <td>1406216</td>\n",
       "    </tr>\n",
       "  </tbody>\n",
       "</table>\n",
       "</div>"
      ],
      "text/plain": [
       "          Candidate Party Criminal Cases      Education Age  Total Assets  \\\n",
       "0          Ali Khan   IND             1       10th Pass  31      23542241   \n",
       "1  Dharam Pal Singh   IND              0       Graduate  46       5565000   \n",
       "2         Mo. Ikram   IND              0       5th Pass  47       2481845   \n",
       "3      Naresh Saini   BJP              0  Post Graduate  57      29506003   \n",
       "4     Poonam Kamboj   INC              0  Post Graduate  36      13552777   \n",
       "5        Rais Malik   BSP              0       8th Pass  54      43452000   \n",
       "6      Sushil Kumar   AAP              0      10th Pass  38       2409500   \n",
       "7     Umar Ali Khan    SP             1   Post Graduate  44      58038001   \n",
       "\n",
       "   Liabilities  \n",
       "0            0  \n",
       "1            0  \n",
       "2       200000  \n",
       "3      5779181  \n",
       "4      1800000  \n",
       "5            0  \n",
       "6            0  \n",
       "7      1406216  "
      ]
     },
     "execution_count": 9,
     "metadata": {},
     "output_type": "execute_result"
    }
   ],
   "source": [
    "df = pd.DataFrame(data = data, columns = header)\n",
    "df"
   ]
  },
  {
   "cell_type": "code",
   "execution_count": 10,
   "metadata": {},
   "outputs": [],
   "source": [
    "df.to_csv(filename, index=False)"
   ]
  },
  {
   "cell_type": "markdown",
   "metadata": {},
   "source": [
    "## Trying to extract all 403 Constituencies"
   ]
  },
  {
   "cell_type": "code",
   "execution_count": null,
   "metadata": {},
   "outputs": [
    {
     "name": "stdout",
     "output_type": "stream",
     "text": [
      "Trying  ID 1... Found BEHAT : SAHARANPUR SUCCESS\n",
      "Trying  ID 2... Found NAKUR : SAHARANPUR SUCCESS\n",
      "Trying  ID 3... Found SAHARANPUR NAGAR : SAHARANPUR SUCCESS\n",
      "Trying  ID 4... Found SAHARANPUR : SAHARANPUR SUCCESS\n",
      "Trying  ID 5... Found DEOBAND : SAHARANPUR SUCCESS\n",
      "Trying  ID 6... Found RAMPUR MANIHARAN (SC) : SAHARANPUR SUCCESS\n",
      "Trying  ID 7... Found GANGOH : SAHARANPUR SUCCESS\n",
      "Trying  ID 8... Found ETMADPUR : AGRA SUCCESS\n",
      "Trying  ID 9... Found AGRA CANTT. (SC) : AGRA SUCCESS\n",
      "Trying  ID 10... Found AGRA SOUTH : AGRA SUCCESS\n",
      "Trying  ID 11... Found AGRA NORTH : AGRA SUCCESS\n",
      "Trying  ID 12... Found AGRA RURAL (SC) : AGRA SUCCESS\n",
      "Trying  ID 13... Found FATEHPUR SIKRI : AGRA SUCCESS\n",
      "Trying  ID 14... Found KHERAGARH : AGRA SUCCESS\n",
      "Trying  ID 15... Found FATEHABAD : AGRA SUCCESS\n",
      "Trying  ID 16... Found BAH : AGRA SUCCESS\n",
      "Trying  ID 17... Found KHAIR (SC) : ALIGARH SUCCESS\n",
      "Trying  ID 18... Found BARAULI : ALIGARH SUCCESS\n",
      "Trying  ID 19... Found ATRAULI : ALIGARH SUCCESS\n",
      "Trying  ID 20... ERROR\n",
      "Trying  ID 21... Found KOIL : ALIGARH SUCCESS\n",
      "Trying  ID 22... Found ALIGARH : ALIGARH SUCCESS\n",
      "Trying  ID 23... ERROR\n",
      "Trying  ID 24... Found KATEHARI : AMBEDKAR NAGAR SUCCESS\n",
      "Trying  ID 25... Found TANDA : AMBEDKAR NAGAR SUCCESS\n",
      "Trying  ID 26... Found ALAPUR (SC) : AMBEDKAR NAGAR SUCCESS\n",
      "Trying  ID 27... Found JALALPUR : AMBEDKAR NAGAR SUCCESS\n",
      "Trying  ID 28... Found AKBARPUR : AMBEDKAR NAGAR SUCCESS\n",
      "Trying  ID 29... Found TILOI : AMETHI SUCCESS\n",
      "Trying  ID 30... Found JAGDISHPUR (SC) : AMETHI SUCCESS\n",
      "Trying  ID 31... Found GAURIGANJ : AMETHI SUCCESS\n",
      "Trying  ID 32... Found AMETHI : AMETHI SUCCESS\n",
      "Trying  ID 33... Found DHANAURA (SC) : AMROHA SUCCESS\n",
      "Trying  ID 34... Found NAUGAWAN SADAT : AMROHA SUCCESS\n",
      "Trying  ID 35... Found AMROHA : AMROHA SUCCESS\n",
      "Trying  ID 36... Found HASANPUR : AMROHA SUCCESS\n",
      "Trying  ID 37... Found AURAIYA (SC) : AURAIYA SUCCESS\n",
      "Trying  ID 38... Found DIBIYAPUR : AURAIYA SUCCESS\n",
      "Trying  ID 39... Found BIDHUNA : AURAIYA SUCCESS\n",
      "Trying  ID 40... Found MILKIPUR (SC) : AYODHYA SUCCESS\n",
      "Trying  ID 41... Found BIKAPUR : AYODHYA SUCCESS\n",
      "Trying  ID 42... Found AYODHYA : AYODHYA SUCCESS\n",
      "Trying  ID 43... Found GOSHAINGANJ : AYODHYA SUCCESS\n",
      "Trying  ID 44... Found RUDAULI : AYODHYA SUCCESS\n",
      "Trying  ID 45... Found ATRAULIYA : AZAMGARH SUCCESS\n",
      "Trying  ID 46... Found GOPALPUR : AZAMGARH SUCCESS\n",
      "Trying  ID 47... Found SAGRI : AZAMGARH SUCCESS\n",
      "Trying  ID 48... Found MUBARAKPUR : AZAMGARH SUCCESS\n",
      "Trying  ID 49... Found AZAMGARH : AZAMGARH SUCCESS\n",
      "Trying  ID 50... Found NIZAMABAD : AZAMGARH SUCCESS\n",
      "Trying  ID 51... Found PHOOLPUR-PAWAI : AZAMGARH SUCCESS\n",
      "Trying  ID 52... Found DIDARGANJ : AZAMGARH SUCCESS\n",
      "Trying  ID 53... Found LALGANJ (SC) : AZAMGARH SUCCESS\n",
      "Trying  ID 54... Found MEHNAGAR (SC) : AZAMGARH SUCCESS\n",
      "Trying  ID 55... Found  ERROR\n",
      "Trying  ID 56... Found CHHAPRAULI : BAGHPAT SUCCESS\n",
      "Trying  ID 57... Found BARAUT : BAGHPAT SUCCESS\n",
      "Trying  ID 58... Found BAGHPAT : BAGHPAT SUCCESS\n",
      "Trying  ID 59... Found BALHA (SC) : BAHRAICH SUCCESS\n",
      "Trying  ID 60... Found NANPARA : BAHRAICH SUCCESS\n",
      "Trying  ID 61... Found MATERA : BAHRAICH SUCCESS\n",
      "Trying  ID 62... Found MAHASI : BAHRAICH SUCCESS\n",
      "Trying  ID 63... Found BAHRAICH : BAHRAICH SUCCESS\n",
      "Trying  ID 64... Found PAYAGPUR : BAHRAICH SUCCESS\n",
      "Trying  ID 65... Found KAISERGANJ : BAHRAICH SUCCESS\n",
      "Trying  ID 66... Found BELTHARA ROAD (SC) : BALIA SUCCESS\n",
      "Trying  ID 67... Found RASARA : BALIA SUCCESS\n",
      "Trying  ID 68... Found SIKANDERPUR : BALIA SUCCESS\n",
      "Trying  ID 69... Found PHEPHANA : BALIA SUCCESS\n",
      "Trying  ID 70... Found BALLIA NAGAR : BALIA SUCCESS\n",
      "Trying  ID 71... Found BANSDIH : BALIA SUCCESS\n",
      "Trying  ID 72... Found BAIRIA : BALIA SUCCESS\n",
      "Trying  ID 73... Found BALRAMPUR (SC) : BALRAMPUR SUCCESS\n",
      "Trying  ID 74... Found UTRAULA : BALRAMPUR SUCCESS\n",
      "Trying  ID 75... Found GAINSARI : BALRAMPUR SUCCESS\n",
      "Trying  ID 76... Found TULSIPUR : BALRAMPUR SUCCESS\n",
      "Trying  ID 77... Found TINDWARI : BANDA SUCCESS\n",
      "Trying  ID 78... Found BABERU : BANDA SUCCESS\n",
      "Trying  ID 79... Found NARAINI (SC) : BANDA SUCCESS\n",
      "Trying  ID 80... Found BANDA : BANDA SUCCESS\n",
      "Trying  ID 81... Found KURSI : BARABANKI SUCCESS\n",
      "Trying  ID 82... Found RAM NAGAR : BARABANKI SUCCESS\n",
      "Trying  ID 83... Found BARABANKI : BARABANKI SUCCESS\n",
      "Trying  ID 84... Found ZAIDPUR (SC) : BARABANKI SUCCESS\n",
      "Trying  ID 85... Found DARIYABAD : BARABANKI SUCCESS\n",
      "Trying  ID 86... Found  ERROR\n",
      "Trying  ID 87... Found HAIDERGARH (SC) : BARABANKI SUCCESS\n",
      "Trying  ID 88... Found BAHERI : BAREILLY SUCCESS\n",
      "Trying  ID 89... Found MEERGANJ : BAREILLY SUCCESS\n",
      "Trying  ID 90... Found BHOJIPURA : BAREILLY SUCCESS\n",
      "Trying  ID 91... Found NAWABGANJ : BAREILLY SUCCESS\n",
      "Trying  ID 92... Found FARIDPUR (SC) : BAREILLY SUCCESS\n",
      "Trying  ID 93... Found BITHARI CHAINPUR : BAREILLY SUCCESS\n",
      "Trying  ID 94... Found BAREILLY : BAREILLY SUCCESS\n",
      "Trying  ID 95... Found BAREILLY CANTT. : BAREILLY SUCCESS\n",
      "Trying  ID 96... "
     ]
    }
   ],
   "source": [
    "import pandas as pd\n",
    "from urllib.request import urlopen\n",
    "from bs4 import BeautifulSoup\n",
    "from tabulate import tabulate\n",
    "\n",
    "\n",
    "def inr_to_int(text):\n",
    "    try:\n",
    "        text = text.split()\n",
    "        text = text[1].replace(\",\", \"\")\n",
    "    except:\n",
    "        return 0\n",
    "    return int(text)\n",
    "\n",
    "\n",
    "def main():\n",
    "    header = [\"Candidate\", \"Party\", \"Criminal Cases\", \"Education\", \"Age\", \"Total Assets\", \"Liabilities\"]\n",
    "    data = []\n",
    "    total_constituencies = 0\n",
    "    for i in range(1, 500):\n",
    "        try:\n",
    "            print(\"Trying  ID\", i, end = '... ')\n",
    "            url = \"https://myneta.info/Uttarpradesh2022/index.php?action=show_candidates&constituency_id=\" + str(i)\n",
    "            html = urlopen(url)\n",
    "            soup = BeautifulSoup(html,'html.parser')\n",
    "            title = soup.title.text\n",
    "            title = title.split()\n",
    "            if len(title) > 1:\n",
    "                title = title[4:-3]\n",
    "                print(\"Found\", \" \".join(title), end = ' ')\n",
    "            table = soup.find(\"table\", {\"id\": \"table1\"})\n",
    "            rows = table.find_all('tr')\n",
    "            total_rows = len(rows)\n",
    "            for i in range(1, total_rows):\n",
    "                col_data = []\n",
    "                cols = rows[i].find_all('td')\n",
    "                total_cols = len(cols)\n",
    "                for i in range(total_cols):\n",
    "                    if i > 4:\n",
    "                        col_data.append(inr_to_int(cols[i].text))\n",
    "                    else:\n",
    "                        col_data.append(cols[i].text)\n",
    "                data.append(col_data)\n",
    "#             print(tabulate(data, headers=header, tablefmt='fancy_grid'))\n",
    "        except:\n",
    "            print('ERROR')\n",
    "        else:\n",
    "            total_constituencies += 1\n",
    "            print('SUCCESS')\n",
    "    df = pd.DataFrame(data = data, columns = header)\n",
    "    print('Data Fetched for', total_constituencies)\n",
    "    df.to_csv('up.csv', index=False)\n",
    "\n",
    "main()"
   ]
  },
  {
   "cell_type": "code",
   "execution_count": null,
   "metadata": {},
   "outputs": [],
   "source": []
  }
 ],
 "metadata": {
  "kernelspec": {
   "display_name": "Python 3 (ipykernel)",
   "language": "python",
   "name": "python3"
  },
  "language_info": {
   "codemirror_mode": {
    "name": "ipython",
    "version": 3
   },
   "file_extension": ".py",
   "mimetype": "text/x-python",
   "name": "python",
   "nbconvert_exporter": "python",
   "pygments_lexer": "ipython3",
   "version": "3.10.2"
  }
 },
 "nbformat": 4,
 "nbformat_minor": 2
}
